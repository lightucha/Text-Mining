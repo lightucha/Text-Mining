{
 "cells": [
  {
   "cell_type": "markdown",
   "metadata": {},
   "source": [
    "## Environment Setting"
   ]
  },
  {
   "cell_type": "code",
   "execution_count": 3,
   "metadata": {
    "collapsed": true
   },
   "outputs": [],
   "source": [
    "import pandas as pd #data handlig\n",
    "import numpy as np\n",
    "from gsdmm.mgp import MovieGroupProcess\n",
    "\n",
    "#preprocessing data\n",
    "import nltk\n",
    "from nltk.tokenize import RegexpTokenizer\n",
    "import replacers #making-program \"replacers.py\"\n",
    "from sklearn.feature_extraction.text import TfidfVectorizer\n",
    "from sklearn.feature_extraction.text import TfidfTransformer\n",
    "from sklearn.feature_extraction.text import CountVectorizer\n",
    "from collections import Counter\n",
    "from sklearn.manifold import TSNE\n",
    "from stopwords import stopwords\n",
    "\n",
    "from operator import itemgetter\n",
    "import matplotlib.pyplot as plt\n",
    "import matplotlib.font_manager as fm\n",
    "\n",
    "%matplotlib inline"
   ]
  },
  {
   "cell_type": "markdown",
   "metadata": {},
   "source": [
    "## Load Data Set"
   ]
  },
  {
   "cell_type": "code",
   "execution_count": 4,
   "metadata": {
    "scrolled": true
   },
   "outputs": [
    {
     "name": "stdout",
     "output_type": "stream",
     "text": [
      "(719, 1)\n"
     ]
    },
    {
     "data": {
      "text/html": [
       "<div>\n",
       "<style>\n",
       "    .dataframe thead tr:only-child th {\n",
       "        text-align: right;\n",
       "    }\n",
       "\n",
       "    .dataframe thead th {\n",
       "        text-align: left;\n",
       "    }\n",
       "\n",
       "    .dataframe tbody tr th {\n",
       "        vertical-align: top;\n",
       "    }\n",
       "</style>\n",
       "<table border=\"1\" class=\"dataframe\">\n",
       "  <thead>\n",
       "    <tr style=\"text-align: right;\">\n",
       "      <th></th>\n",
       "      <th>col</th>\n",
       "    </tr>\n",
       "  </thead>\n",
       "  <tbody>\n",
       "    <tr>\n",
       "      <th>0</th>\n",
       "      <td>Amazing product. The accuracy recognizing what...</td>\n",
       "    </tr>\n",
       "    <tr>\n",
       "      <th>1</th>\n",
       "      <td>I've had my Google Home for about 3 weeks and ...</td>\n",
       "    </tr>\n",
       "    <tr>\n",
       "      <th>2</th>\n",
       "      <td>The Google Home is a well built voice activate...</td>\n",
       "    </tr>\n",
       "    <tr>\n",
       "      <th>3</th>\n",
       "      <td>I ordered this because I had seen it advertise...</td>\n",
       "    </tr>\n",
       "    <tr>\n",
       "      <th>4</th>\n",
       "      <td>It's pretty much like having the power of the ...</td>\n",
       "    </tr>\n",
       "  </tbody>\n",
       "</table>\n",
       "</div>"
      ],
      "text/plain": [
       "                                                 col\n",
       "0  Amazing product. The accuracy recognizing what...\n",
       "1  I've had my Google Home for about 3 weeks and ...\n",
       "2  The Google Home is a well built voice activate...\n",
       "3  I ordered this because I had seen it advertise...\n",
       "4  It's pretty much like having the power of the ..."
      ]
     },
     "execution_count": 4,
     "metadata": {},
     "output_type": "execute_result"
    }
   ],
   "source": [
    "df = pd.read_csv('./data/Walmart_review.csv', encoding='949')\n",
    "df = df.drop(df.columns[0], axis=1)\n",
    "print(df.shape)\n",
    "df.head()"
   ]
  },
  {
   "cell_type": "markdown",
   "metadata": {},
   "source": [
    "## Pre-processing"
   ]
  },
  {
   "cell_type": "markdown",
   "metadata": {},
   "source": [
    "We want to use review text only for text clustering."
   ]
  },
  {
   "cell_type": "code",
   "execution_count": 5,
   "metadata": {},
   "outputs": [
    {
     "name": "stdout",
     "output_type": "stream",
     "text": [
      "<class 'pandas.core.series.Series'>\n"
     ]
    },
    {
     "data": {
      "text/plain": [
       "'Amazing product. The accuracy recognizing what I say is extremely good. Been using it mostly for news and music in the morning, and to impress friends when they come. Want to set up some iot lights that I can use voice control on but they\\'re too expensive at the moment. If you have a chrome cast you\\'ll never have to search for videos again because you can just find them with your voice and it integrates flawlessly. The speaker is surprisingly very robust. \\r\\r\\n\\r\\r\\nOnly negative for me is having to say \"hey Google\" every time. It\\'s not as smooth as saying a name like Alexa.'"
      ]
     },
     "execution_count": 5,
     "metadata": {},
     "output_type": "execute_result"
    }
   ],
   "source": [
    "reviewList = df['col']\n",
    "print(type(reviewList))\n",
    "reviewList[0]"
   ]
  },
  {
   "cell_type": "markdown",
   "metadata": {},
   "source": [
    "Making a nested list of review to match the clustering input data type."
   ]
  },
  {
   "cell_type": "code",
   "execution_count": 6,
   "metadata": {},
   "outputs": [
    {
     "name": "stdout",
     "output_type": "stream",
     "text": [
      "<class 'list'>\n"
     ]
    }
   ],
   "source": [
    "newList = [text for text in reviewList]\n",
    "print(type(newList))\n",
    "#newList"
   ]
  },
  {
   "cell_type": "markdown",
   "metadata": {},
   "source": [
    "Change review text to all lowercase."
   ]
  },
  {
   "cell_type": "code",
   "execution_count": 7,
   "metadata": {
    "collapsed": true
   },
   "outputs": [],
   "source": [
    "lower_text = [str(line).lower() for line in newList]\n",
    "#lower_text"
   ]
  },
  {
   "cell_type": "markdown",
   "metadata": {},
   "source": [
    "Explode all abbreviations. Remove the apostrophe to restore the original sentence."
   ]
  },
  {
   "cell_type": "code",
   "execution_count": 8,
   "metadata": {
    "collapsed": true
   },
   "outputs": [],
   "source": [
    "replacer = replacers.RegexpReplacer()\n",
    "decomp_words_text = [replacer.replace(line) for line in lower_text]\n",
    "#decomp_words_text"
   ]
  },
  {
   "cell_type": "markdown",
   "metadata": {},
   "source": [
    "Create a token by disassembling each review sentence."
   ]
  },
  {
   "cell_type": "code",
   "execution_count": 9,
   "metadata": {
    "collapsed": true
   },
   "outputs": [],
   "source": [
    "def tokenize(list_type):\n",
    "    \n",
    "    t = RegexpTokenizer(\"[\\w]+\")\n",
    "    tokenized_list = []\n",
    "\n",
    "    for word in list_type:\n",
    "        tokens = t.tokenize(word)\n",
    "        tokenized_list.append(tokens)\n",
    "    \n",
    "    return tokenized_list"
   ]
  },
  {
   "cell_type": "code",
   "execution_count": 11,
   "metadata": {},
   "outputs": [
    {
     "name": "stdout",
     "output_type": "stream",
     "text": [
      "719\n"
     ]
    }
   ],
   "source": [
    "token = tokenize(decomp_words_text)\n",
    "print(len(token))\n",
    "#token"
   ]
  },
  {
   "cell_type": "markdown",
   "metadata": {},
   "source": [
    "The above preprocessing process is the same as the existing method(our project)."
   ]
  },
  {
   "cell_type": "markdown",
   "metadata": {},
   "source": [
    "-------------------------------------"
   ]
  },
  {
   "cell_type": "markdown",
   "metadata": {},
   "source": [
    "## Text Clustering with GSDMM"
   ]
  },
  {
   "cell_type": "markdown",
   "metadata": {},
   "source": [
    "\"A Dirichlet Multinomial Mixture Model-based Approach for Short Text Clustering\" written by Jianhua Yin and Jianyong Wang "
   ]
  },
  {
   "cell_type": "markdown",
   "metadata": {},
   "source": [
    "A function that checks for unique words."
   ]
  },
  {
   "cell_type": "code",
   "execution_count": 12,
   "metadata": {
    "collapsed": true
   },
   "outputs": [],
   "source": [
    "def compute_Voca(texts):\n",
    "    V = set()\n",
    "    for text in texts:\n",
    "        for word in text:\n",
    "            V.add(word)\n",
    "    return V"
   ]
  },
  {
   "cell_type": "markdown",
   "metadata": {},
   "source": [
    "Execution result"
   ]
  },
  {
   "cell_type": "code",
   "execution_count": 13,
   "metadata": {},
   "outputs": [
    {
     "data": {
      "text/plain": [
       "2807"
      ]
     },
     "execution_count": 13,
     "metadata": {},
     "output_type": "execute_result"
    }
   ],
   "source": [
    "size = len(compute_Voca(token))\n",
    "size"
   ]
  },
  {
   "cell_type": "markdown",
   "metadata": {},
   "source": [
    "Set the parameters(K, alpha, beta)"
   ]
  },
  {
   "cell_type": "code",
   "execution_count": 14,
   "metadata": {
    "collapsed": true
   },
   "outputs": [],
   "source": [
    "mgp = MovieGroupProcess(K=15, n_iters=100, alpha=0.1, beta=0.1)"
   ]
  },
  {
   "cell_type": "markdown",
   "metadata": {},
   "source": [
    "### Model fitting"
   ]
  },
  {
   "cell_type": "code",
   "execution_count": 15,
   "metadata": {},
   "outputs": [
    {
     "name": "stdout",
     "output_type": "stream",
     "text": [
      "In stage 0: transferred 638 clusters with 15 clusters populated\n",
      "In stage 1: transferred 376 clusters with 12 clusters populated\n",
      "In stage 2: transferred 228 clusters with 9 clusters populated\n",
      "In stage 3: transferred 130 clusters with 6 clusters populated\n",
      "In stage 4: transferred 97 clusters with 4 clusters populated\n",
      "In stage 5: transferred 83 clusters with 5 clusters populated\n",
      "In stage 6: transferred 77 clusters with 3 clusters populated\n",
      "In stage 7: transferred 61 clusters with 4 clusters populated\n",
      "In stage 8: transferred 67 clusters with 2 clusters populated\n",
      "In stage 9: transferred 64 clusters with 3 clusters populated\n",
      "In stage 10: transferred 62 clusters with 2 clusters populated\n",
      "In stage 11: transferred 65 clusters with 2 clusters populated\n",
      "In stage 12: transferred 55 clusters with 3 clusters populated\n",
      "In stage 13: transferred 55 clusters with 2 clusters populated\n",
      "In stage 14: transferred 57 clusters with 3 clusters populated\n",
      "In stage 15: transferred 47 clusters with 3 clusters populated\n",
      "In stage 16: transferred 51 clusters with 3 clusters populated\n",
      "In stage 17: transferred 65 clusters with 3 clusters populated\n",
      "In stage 18: transferred 49 clusters with 3 clusters populated\n",
      "In stage 19: transferred 45 clusters with 3 clusters populated\n",
      "In stage 20: transferred 55 clusters with 3 clusters populated\n",
      "In stage 21: transferred 53 clusters with 4 clusters populated\n",
      "In stage 22: transferred 67 clusters with 3 clusters populated\n",
      "In stage 23: transferred 53 clusters with 3 clusters populated\n",
      "In stage 24: transferred 51 clusters with 3 clusters populated\n",
      "In stage 25: transferred 63 clusters with 3 clusters populated\n",
      "In stage 26: transferred 49 clusters with 2 clusters populated\n",
      "In stage 27: transferred 58 clusters with 3 clusters populated\n",
      "In stage 28: transferred 51 clusters with 3 clusters populated\n",
      "In stage 29: transferred 66 clusters with 3 clusters populated\n",
      "In stage 30: transferred 58 clusters with 3 clusters populated\n",
      "In stage 31: transferred 43 clusters with 4 clusters populated\n",
      "In stage 32: transferred 52 clusters with 3 clusters populated\n",
      "In stage 33: transferred 55 clusters with 3 clusters populated\n",
      "In stage 34: transferred 54 clusters with 3 clusters populated\n",
      "In stage 35: transferred 38 clusters with 5 clusters populated\n",
      "In stage 36: transferred 49 clusters with 4 clusters populated\n",
      "In stage 37: transferred 61 clusters with 3 clusters populated\n",
      "In stage 38: transferred 57 clusters with 3 clusters populated\n",
      "In stage 39: transferred 57 clusters with 4 clusters populated\n",
      "In stage 40: transferred 67 clusters with 3 clusters populated\n",
      "In stage 41: transferred 68 clusters with 3 clusters populated\n",
      "In stage 42: transferred 60 clusters with 4 clusters populated\n",
      "In stage 43: transferred 44 clusters with 3 clusters populated\n",
      "In stage 44: transferred 62 clusters with 3 clusters populated\n",
      "In stage 45: transferred 57 clusters with 5 clusters populated\n",
      "In stage 46: transferred 61 clusters with 3 clusters populated\n",
      "In stage 47: transferred 47 clusters with 4 clusters populated\n",
      "In stage 48: transferred 54 clusters with 4 clusters populated\n",
      "In stage 49: transferred 56 clusters with 4 clusters populated\n",
      "In stage 50: transferred 58 clusters with 5 clusters populated\n",
      "In stage 51: transferred 60 clusters with 3 clusters populated\n",
      "In stage 52: transferred 56 clusters with 4 clusters populated\n",
      "In stage 53: transferred 48 clusters with 2 clusters populated\n",
      "In stage 54: transferred 59 clusters with 3 clusters populated\n",
      "In stage 55: transferred 54 clusters with 2 clusters populated\n",
      "In stage 56: transferred 61 clusters with 3 clusters populated\n",
      "In stage 57: transferred 51 clusters with 3 clusters populated\n",
      "In stage 58: transferred 60 clusters with 4 clusters populated\n",
      "In stage 59: transferred 52 clusters with 3 clusters populated\n",
      "In stage 60: transferred 44 clusters with 3 clusters populated\n",
      "In stage 61: transferred 50 clusters with 3 clusters populated\n",
      "In stage 62: transferred 55 clusters with 4 clusters populated\n",
      "In stage 63: transferred 57 clusters with 3 clusters populated\n",
      "In stage 64: transferred 52 clusters with 4 clusters populated\n",
      "In stage 65: transferred 57 clusters with 4 clusters populated\n",
      "In stage 66: transferred 62 clusters with 4 clusters populated\n",
      "In stage 67: transferred 60 clusters with 3 clusters populated\n",
      "In stage 68: transferred 52 clusters with 4 clusters populated\n",
      "In stage 69: transferred 54 clusters with 2 clusters populated\n",
      "In stage 70: transferred 67 clusters with 3 clusters populated\n",
      "In stage 71: transferred 58 clusters with 4 clusters populated\n",
      "In stage 72: transferred 65 clusters with 3 clusters populated\n",
      "In stage 73: transferred 64 clusters with 3 clusters populated\n",
      "In stage 74: transferred 52 clusters with 3 clusters populated\n",
      "In stage 75: transferred 56 clusters with 3 clusters populated\n",
      "In stage 76: transferred 75 clusters with 4 clusters populated\n",
      "In stage 77: transferred 80 clusters with 3 clusters populated\n",
      "In stage 78: transferred 70 clusters with 3 clusters populated\n",
      "In stage 79: transferred 62 clusters with 3 clusters populated\n",
      "In stage 80: transferred 48 clusters with 4 clusters populated\n",
      "In stage 81: transferred 58 clusters with 4 clusters populated\n",
      "In stage 82: transferred 51 clusters with 4 clusters populated\n",
      "In stage 83: transferred 55 clusters with 3 clusters populated\n",
      "In stage 84: transferred 55 clusters with 3 clusters populated\n",
      "In stage 85: transferred 49 clusters with 4 clusters populated\n",
      "In stage 86: transferred 53 clusters with 4 clusters populated\n",
      "In stage 87: transferred 53 clusters with 4 clusters populated\n",
      "In stage 88: transferred 60 clusters with 4 clusters populated\n",
      "In stage 89: transferred 58 clusters with 3 clusters populated\n",
      "In stage 90: transferred 46 clusters with 3 clusters populated\n",
      "In stage 91: transferred 61 clusters with 3 clusters populated\n",
      "In stage 92: transferred 70 clusters with 3 clusters populated\n",
      "In stage 93: transferred 53 clusters with 3 clusters populated\n",
      "In stage 94: transferred 52 clusters with 2 clusters populated\n",
      "In stage 95: transferred 47 clusters with 4 clusters populated\n",
      "In stage 96: transferred 44 clusters with 3 clusters populated\n",
      "In stage 97: transferred 51 clusters with 3 clusters populated\n",
      "In stage 98: transferred 50 clusters with 2 clusters populated\n",
      "In stage 99: transferred 63 clusters with 3 clusters populated\n"
     ]
    }
   ],
   "source": [
    "y = mgp.fit(token, size)"
   ]
  },
  {
   "cell_type": "code",
   "execution_count": 16,
   "metadata": {},
   "outputs": [
    {
     "data": {
      "text/plain": [
       "719"
      ]
     },
     "execution_count": 16,
     "metadata": {},
     "output_type": "execute_result"
    }
   ],
   "source": [
    "len(y)"
   ]
  },
  {
   "cell_type": "code",
   "execution_count": 17,
   "metadata": {},
   "outputs": [
    {
     "data": {
      "text/plain": [
       "{0, 5, 14}"
      ]
     },
     "execution_count": 17,
     "metadata": {},
     "output_type": "execute_result"
    }
   ],
   "source": [
    "set(y)"
   ]
  },
  {
   "cell_type": "code",
   "execution_count": 18,
   "metadata": {
    "collapsed": true
   },
   "outputs": [],
   "source": [
    "cluster = {\n",
    "    'cluster': y,\n",
    "    'review': decomp_words_text\n",
    "}\n",
    "\n",
    "export = pd.DataFrame.from_dict(cluster)"
   ]
  },
  {
   "cell_type": "code",
   "execution_count": 19,
   "metadata": {
    "collapsed": true
   },
   "outputs": [],
   "source": [
    "export.to_csv('cluster_review_walmart.csv')"
   ]
  },
  {
   "cell_type": "markdown",
   "metadata": {},
   "source": [
    "------------------------------------------------"
   ]
  },
  {
   "cell_type": "markdown",
   "metadata": {},
   "source": [
    "Removing Stopwords same as pLSA"
   ]
  },
  {
   "cell_type": "code",
   "execution_count": 20,
   "metadata": {
    "collapsed": true
   },
   "outputs": [],
   "source": [
    "stops = nltk.corpus.stopwords.words('english')\n",
    "newstops = stops + stopwords"
   ]
  },
  {
   "cell_type": "code",
   "execution_count": 22,
   "metadata": {
    "collapsed": true
   },
   "outputs": [],
   "source": [
    "def tokenize_stream(list_type):\n",
    "    \n",
    "    t = RegexpTokenizer(\"[\\w]+\")\n",
    "    tokenized_list = []\n",
    "\n",
    "    for word in list_type:\n",
    "        tokens = t.tokenize(word)\n",
    "        tokenized_list += tokens\n",
    "    \n",
    "    return tokenized_list"
   ]
  },
  {
   "cell_type": "code",
   "execution_count": 23,
   "metadata": {},
   "outputs": [],
   "source": [
    "# Cluster14\n",
    "Textcluster14 = list(export[export['cluster']==14]['review'])\n",
    "lowerText1 = [line.lower() for line in Textcluster14]\n",
    "decompText1 = [replacer.replace(line) for line in lowerText1]\n",
    "token_1 = tokenize_stream(decompText1)\n",
    "token_1 = [line for line in token_1 if line not in newstops]\n",
    "clusterList1 = list(Counter(token_1).items())\n",
    "clusterList1 = sorted(clusterList1, key=itemgetter(1), reverse=True)"
   ]
  },
  {
   "cell_type": "code",
   "execution_count": 29,
   "metadata": {
    "collapsed": true
   },
   "outputs": [],
   "source": [
    "# Cluster0\n",
    "Textcluster0 = list(export[export['cluster']==0]['review'])\n",
    "lowerText2 = [line.lower() for line in Textcluster0]\n",
    "decompText2 = [replacer.replace(line) for line in lowerText2]\n",
    "token_2 = tokenize_stream(decompText2)\n",
    "token_2 = [line for line in token_2 if line not in newstops]\n",
    "clusterList2 = list(Counter(token_2).items())\n",
    "clusterList2 = sorted(clusterList2, key=itemgetter(1), reverse=True)"
   ]
  },
  {
   "cell_type": "code",
   "execution_count": 31,
   "metadata": {},
   "outputs": [],
   "source": [
    "s = pd.DataFrame(clusterList1, columns=['Features', 'Counts'])[4:24]\n",
    "s1 = pd.DataFrame(clusterList2, columns=['Features', 'Counts'])[:20]"
   ]
  },
  {
   "cell_type": "code",
   "execution_count": 32,
   "metadata": {
    "collapsed": true
   },
   "outputs": [],
   "source": [
    "features1 = list(s['Features'].values.tolist())\n",
    "values1 = list(s['Counts'].values.tolist())\n",
    "\n",
    "features2 = list(s1['Features'].values.tolist())\n",
    "values2 = list(s1['Counts'].values.tolist())"
   ]
  },
  {
   "cell_type": "code",
   "execution_count": 34,
   "metadata": {},
   "outputs": [
    {
     "data": {
      "image/png": "[encoded data removed]",
      "text/plain": [
       "<matplotlib.figure.Figure at 0x2041633cdd8>"
      ]
     },
     "metadata": {},
     "output_type": "display_data"
    }
   ],
   "source": [
    "# Visualization with Bar chart\n",
    "fig = plt.figure(figsize=(12, 9), facecolor=\"w\")\n",
    "ax = fig.add_subplot(1, 2, 1)\n",
    "ax.spines[\"top\"].set_visible(False)\n",
    "ax.spines[\"right\"].set_visible(False)\n",
    "ax.set_frame_on(False)\n",
    "ax.get_xaxis().tick_bottom()\n",
    "ax.get_yaxis().tick_left()\n",
    "ax.set_xlabel(\"Term Frequency\", labelpad=16, fontsize=14)\n",
    "ax.set_title(\"Text Cluster 14\", fontsize=16)\n",
    "ax.ticklabel_format(axis='x', style='sci', scilimits=(-2,2))\n",
    "ax.barh(features1, values1, align='center', color='#3F5D7D')\n",
    "ax.set_yticks(features1)\n",
    "#ax.set_ylim([-1, x[-1]+1])\n",
    "plt.subplots_adjust(bottom=0.09, right=0.97, left=0.15, top=0.95, wspace=0.52)\n",
    "yticks = ax.set_yticklabels(features1)\n",
    "\n",
    "ax = fig.add_subplot(1, 2, 2)\n",
    "ax.spines[\"top\"].set_visible(False)\n",
    "ax.spines[\"right\"].set_visible(False)\n",
    "ax.set_frame_on(False)\n",
    "ax.get_xaxis().tick_bottom()\n",
    "ax.get_yaxis().tick_left()\n",
    "ax.set_xlabel(\"Term Frequency\", labelpad=16, fontsize=14)\n",
    "ax.set_title(\"Text Cluster 0\", fontsize=16)\n",
    "ax.ticklabel_format(axis='x', style='sci', scilimits=(-2,2))\n",
    "ax.barh(features2, values2, align='center', color='#3F5D7D')\n",
    "ax.set_yticks(features2)\n",
    "#ax.set_ylim([-1, x[-1]+1])\n",
    "plt.subplots_adjust(bottom=0.09, right=0.97, left=0.15, top=0.95, wspace=0.52)\n",
    "yticks = ax.set_yticklabels(features2)\n",
    "\n",
    "plt.show()"
   ]
  },
  {
   "cell_type": "code",
   "execution_count": 35,
   "metadata": {
    "collapsed": true
   },
   "outputs": [],
   "source": [
    "# Cluster4\n",
    "Textcluster5 = list(export[export['cluster']==5]['review'])\n",
    "lowerText3 = [line.lower() for line in Textcluster5]\n",
    "decompText3 = [replacer.replace(line) for line in lowerText3]\n",
    "token_3 = tokenize_stream(decompText3)\n",
    "token_3 = [line for line in token_3 if line not in newstops]\n",
    "clusterList3 = list(Counter(token_3).items())\n",
    "clusterList3 = sorted(clusterList3, key=itemgetter(1), reverse=True)"
   ]
  },
  {
   "cell_type": "code",
   "execution_count": 374,
   "metadata": {
    "collapsed": true
   },
   "outputs": [],
   "source": [
    "\"\"\"\n",
    "# Cluster6\n",
    "Textcluster6 = list(export[export['cluster']==6]['review'])\n",
    "lowerText4 = [line.lower() for line in Textcluster6]\n",
    "decompText4 = [replacer.replace(line) for line in lowerText4]\n",
    "token_4 = tokenize_stream(decompText4)\n",
    "token_4 = [line for line in token_4 if line not in newstops]\n",
    "clusterList4 = list(Counter(token_4).items())\n",
    "clusterList4 = sorted(clusterList4, key=itemgetter(1), reverse=True)\n",
    "\"\"\""
   ]
  },
  {
   "cell_type": "code",
   "execution_count": 36,
   "metadata": {
    "collapsed": true
   },
   "outputs": [],
   "source": [
    "s3 = pd.DataFrame(clusterList3, columns=['Features', 'Counts'])\n",
    "#s4 = pd.DataFrame(clusterList4, columns=['Features', 'Counts'])[:20]"
   ]
  },
  {
   "cell_type": "code",
   "execution_count": 37,
   "metadata": {
    "collapsed": true
   },
   "outputs": [],
   "source": [
    "features3 = list(s3['Features'].values.tolist())\n",
    "values3 = list(s3['Counts'].values.tolist())\n",
    "\n",
    "#features4 = list(s4['Features'].values.tolist())\n",
    "#values4 = list(s4['Counts'].values.tolist())"
   ]
  },
  {
   "cell_type": "code",
   "execution_count": 38,
   "metadata": {},
   "outputs": [
    {
     "ename": "NameError",
     "evalue": "name 'features4' is not defined",
     "output_type": "error",
     "traceback": [
      "\u001b[1;31m---------------------------------------------------------------------------\u001b[0m",
      "\u001b[1;31mNameError\u001b[0m                                 Traceback (most recent call last)",
      "\u001b[1;32m<ipython-input-38-d17b02531e0a>\u001b[0m in \u001b[0;36m<module>\u001b[1;34m()\u001b[0m\n\u001b[0;32m     25\u001b[0m \u001b[0max\u001b[0m\u001b[1;33m.\u001b[0m\u001b[0mset_title\u001b[0m\u001b[1;33m(\u001b[0m\u001b[1;34m\"Text Cluster 6\"\u001b[0m\u001b[1;33m,\u001b[0m \u001b[0mfontsize\u001b[0m\u001b[1;33m=\u001b[0m\u001b[1;36m16\u001b[0m\u001b[1;33m)\u001b[0m\u001b[1;33m\u001b[0m\u001b[0m\n\u001b[0;32m     26\u001b[0m \u001b[0max\u001b[0m\u001b[1;33m.\u001b[0m\u001b[0mticklabel_format\u001b[0m\u001b[1;33m(\u001b[0m\u001b[0maxis\u001b[0m\u001b[1;33m=\u001b[0m\u001b[1;34m'x'\u001b[0m\u001b[1;33m,\u001b[0m \u001b[0mstyle\u001b[0m\u001b[1;33m=\u001b[0m\u001b[1;34m'sci'\u001b[0m\u001b[1;33m,\u001b[0m \u001b[0mscilimits\u001b[0m\u001b[1;33m=\u001b[0m\u001b[1;33m(\u001b[0m\u001b[1;33m-\u001b[0m\u001b[1;36m2\u001b[0m\u001b[1;33m,\u001b[0m\u001b[1;36m2\u001b[0m\u001b[1;33m)\u001b[0m\u001b[1;33m)\u001b[0m\u001b[1;33m\u001b[0m\u001b[0m\n\u001b[1;32m---> 27\u001b[1;33m \u001b[0max\u001b[0m\u001b[1;33m.\u001b[0m\u001b[0mbarh\u001b[0m\u001b[1;33m(\u001b[0m\u001b[0mfeatures4\u001b[0m\u001b[1;33m,\u001b[0m \u001b[0mvalues4\u001b[0m\u001b[1;33m,\u001b[0m \u001b[0malign\u001b[0m\u001b[1;33m=\u001b[0m\u001b[1;34m'center'\u001b[0m\u001b[1;33m,\u001b[0m \u001b[0mcolor\u001b[0m\u001b[1;33m=\u001b[0m\u001b[1;34m'#3F5D7D'\u001b[0m\u001b[1;33m)\u001b[0m\u001b[1;33m\u001b[0m\u001b[0m\n\u001b[0m\u001b[0;32m     28\u001b[0m \u001b[0max\u001b[0m\u001b[1;33m.\u001b[0m\u001b[0mset_yticks\u001b[0m\u001b[1;33m(\u001b[0m\u001b[0mfeatures4\u001b[0m\u001b[1;33m)\u001b[0m\u001b[1;33m\u001b[0m\u001b[0m\n\u001b[0;32m     29\u001b[0m \u001b[1;31m#ax.set_ylim([-1, x[-1]+1])\u001b[0m\u001b[1;33m\u001b[0m\u001b[1;33m\u001b[0m\u001b[0m\n",
      "\u001b[1;31mNameError\u001b[0m: name 'features4' is not defined"
     ]
    },
    {
     "data": {
      "image/png": "[encoded data removed]",
      "text/plain": [
       "<matplotlib.figure.Figure at 0x20416372278>"
      ]
     },
     "metadata": {},
     "output_type": "display_data"
    }
   ],
   "source": [
    "# Visualization with Bar chart\n",
    "fig = plt.figure(figsize=(12, 9), facecolor=\"w\")\n",
    "ax = fig.add_subplot(1, 2, 1)\n",
    "ax.spines[\"top\"].set_visible(False)\n",
    "ax.spines[\"right\"].set_visible(False)\n",
    "ax.set_frame_on(False)\n",
    "ax.get_xaxis().tick_bottom()\n",
    "ax.get_yaxis().tick_left()\n",
    "ax.set_xlabel(\"Term Frequency\", labelpad=16, fontsize=14)\n",
    "ax.set_title(\"Text Cluster 5\", fontsize=16)\n",
    "ax.ticklabel_format(axis='x', style='sci', scilimits=(-2,2))\n",
    "ax.barh(features3, values3, align='center', color='#3F5D7D')\n",
    "ax.set_yticks(features3)\n",
    "#ax.set_ylim([-1, x[-1]+1])\n",
    "plt.subplots_adjust(bottom=0.09, right=0.97, left=0.15, top=0.95, wspace=0.52)\n",
    "yticks = ax.set_yticklabels(features3)\n",
    "\n",
    "ax = fig.add_subplot(1, 2, 2)\n",
    "ax.spines[\"top\"].set_visible(False)\n",
    "ax.spines[\"right\"].set_visible(False)\n",
    "ax.set_frame_on(False)\n",
    "ax.get_xaxis().tick_bottom()\n",
    "ax.get_yaxis().tick_left()\n",
    "ax.set_xlabel(\"Term Frequency\", labelpad=16, fontsize=14)\n",
    "ax.set_title(\"Text Cluster 6\", fontsize=16)\n",
    "ax.ticklabel_format(axis='x', style='sci', scilimits=(-2,2))\n",
    "ax.barh(features4, values4, align='center', color='#3F5D7D')\n",
    "ax.set_yticks(features4)\n",
    "#ax.set_ylim([-1, x[-1]+1])\n",
    "plt.subplots_adjust(bottom=0.09, right=0.97, left=0.15, top=0.95, wspace=0.52)\n",
    "yticks = ax.set_yticklabels(features4)\n",
    "\n",
    "plt.show()"
   ]
  },
  {
   "cell_type": "markdown",
   "metadata": {},
   "source": [
    "-----------------------------------"
   ]
  },
  {
   "cell_type": "markdown",
   "metadata": {},
   "source": [
    "Reference\n",
    "\n",
    "- Visualizaiton using t-SNE"
   ]
  },
  {
   "cell_type": "code",
   "execution_count": 39,
   "metadata": {},
   "outputs": [
    {
     "ename": "NameError",
     "evalue": "name 'tfidf' is not defined",
     "output_type": "error",
     "traceback": [
      "\u001b[1;31m---------------------------------------------------------------------------\u001b[0m",
      "\u001b[1;31mNameError\u001b[0m                                 Traceback (most recent call last)",
      "\u001b[1;32m<ipython-input-39-64a646b68cbc>\u001b[0m in \u001b[0;36m<module>\u001b[1;34m()\u001b[0m\n\u001b[0;32m      1\u001b[0m \u001b[1;31m# related to t-SNE\u001b[0m\u001b[1;33m\u001b[0m\u001b[1;33m\u001b[0m\u001b[0m\n\u001b[1;32m----> 2\u001b[1;33m \u001b[0mA_tfidf_sp\u001b[0m \u001b[1;33m=\u001b[0m \u001b[0mtfidf\u001b[0m\u001b[1;33m.\u001b[0m\u001b[0mfit_transform\u001b[0m\u001b[1;33m(\u001b[0m\u001b[0mTextcluster14\u001b[0m\u001b[1;33m,\u001b[0m \u001b[0mmax_features\u001b[0m\u001b[1;33m=\u001b[0m\u001b[1;36m50\u001b[0m\u001b[1;33m)\u001b[0m  \u001b[1;31m# need to attr. max_features=50\u001b[0m\u001b[1;33m\u001b[0m\u001b[0m\n\u001b[0m\u001b[0;32m      3\u001b[0m \u001b[0mtfidf_dict\u001b[0m \u001b[1;33m=\u001b[0m \u001b[0mtfidf\u001b[0m\u001b[1;33m.\u001b[0m\u001b[0mget_feature_names\u001b[0m\u001b[1;33m(\u001b[0m\u001b[1;33m)\u001b[0m\u001b[1;33m\u001b[0m\u001b[0m\n\u001b[0;32m      4\u001b[0m \u001b[1;31m#print(tfidf_dict)\u001b[0m\u001b[1;33m\u001b[0m\u001b[1;33m\u001b[0m\u001b[0m\n",
      "\u001b[1;31mNameError\u001b[0m: name 'tfidf' is not defined"
     ]
    }
   ],
   "source": [
    "# related to t-SNE\n",
    "A_tfidf_sp = tfidf.fit_transform(Textcluster14, max_features=50)  # need to attr. max_features=50 \n",
    "tfidf_dict = tfidf.get_feature_names()\n",
    "#print(tfidf_dict)"
   ]
  },
  {
   "cell_type": "code",
   "execution_count": 51,
   "metadata": {},
   "outputs": [
    {
     "data": {
      "text/plain": [
       "(358, 50)"
      ]
     },
     "execution_count": 51,
     "metadata": {},
     "output_type": "execute_result"
    }
   ],
   "source": [
    "data_array = A_tfidf_sp.toarray()\n",
    "data = pd.DataFrame(data_array, columns=tfidf_dict)\n",
    "data.shape"
   ]
  },
  {
   "cell_type": "code",
   "execution_count": 52,
   "metadata": {},
   "outputs": [
    {
     "data": {
      "text/plain": [
       "(358, 50)"
      ]
     },
     "execution_count": 52,
     "metadata": {},
     "output_type": "execute_result"
    }
   ],
   "source": [
    "tsne = TSNE(n_components=2, n_iter=10000, verbose=1)\n",
    "data_array.shape"
   ]
  },
  {
   "cell_type": "code",
   "execution_count": 53,
   "metadata": {},
   "outputs": [
    {
     "data": {
      "text/plain": [
       "(50, 358)"
      ]
     },
     "execution_count": 53,
     "metadata": {},
     "output_type": "execute_result"
    }
   ],
   "source": [
    "data_array.T.shape"
   ]
  },
  {
   "cell_type": "code",
   "execution_count": 54,
   "metadata": {},
   "outputs": [
    {
     "name": "stdout",
     "output_type": "stream",
     "text": [
      "[t-SNE] Computing 49 nearest neighbors...\n",
      "[t-SNE] Indexed 50 samples in 0.000s...\n",
      "[t-SNE] Computed neighbors for 50 samples in 0.001s...\n",
      "[t-SNE] Computed conditional probabilities for sample 50 / 50\n",
      "[t-SNE] Mean sigma: 1.252526\n",
      "[t-SNE] KL divergence after 250 iterations with early exaggeration: 68.203621\n",
      "[t-SNE] Error after 1800 iterations: 0.504290\n"
     ]
    }
   ],
   "source": [
    "Z = tsne.fit_transform(data_array.T)"
   ]
  },
  {
   "cell_type": "code",
   "execution_count": 55,
   "metadata": {},
   "outputs": [
    {
     "name": "stdout",
     "output_type": "stream",
     "text": [
      "[[  60.04283524   -5.24120045]\n",
      " [-122.28665161   21.90007973]\n",
      " [ -39.95552063  -65.68734741]\n",
      " [  75.25675201 -109.78327179]\n",
      " [ 108.33803558   29.7869854 ]]\n",
      "Top words:  50\n"
     ]
    }
   ],
   "source": [
    "print(Z[0:5])\n",
    "print('Top words: ',len(Z))"
   ]
  },
  {
   "cell_type": "code",
   "execution_count": 56,
   "metadata": {},
   "outputs": [
    {
     "data": {
      "image/png": "[encoded data removed]",
      "text/plain": [
       "<matplotlib.figure.Figure at 0x1dd6d4b0208>"
      ]
     },
     "metadata": {},
     "output_type": "display_data"
    },
    {
     "data": {
      "text/plain": [
       "<matplotlib.figure.Figure at 0x1dd6d45f4a8>"
      ]
     },
     "metadata": {},
     "output_type": "display_data"
    }
   ],
   "source": [
    "#path = '/usr/share/fonts/truetype/nanum/NanumMyeongjo.ttf'\n",
    "fontprop = fm.FontProperties(size=11)\n",
    "plt.scatter(Z[:,0], Z[:,1])\n",
    "for i in range(len(tfidf_dict)):\n",
    "    plt.annotate(s=tfidf_dict[i].encode(\"utf8\").decode(\"utf8\"), xy=(Z[i,0], Z[i,1]),fontProperties =fontprop)\n",
    "\n",
    "plt.figure(figsize=(14,4))\n",
    "plt.draw()"
   ]
  },
  {
   "cell_type": "markdown",
   "metadata": {},
   "source": [
    "-----------------------"
   ]
  }
 ],
 "metadata": {
  "kernelspec": {
   "display_name": "Python 3",
   "language": "python",
   "name": "python3"
  },
  "language_info": {
   "codemirror_mode": {
    "name": "ipython",
    "version": 3
   },
   "file_extension": ".py",
   "mimetype": "text/x-python",
   "name": "python",
   "nbconvert_exporter": "python",
   "pygments_lexer": "ipython3",
   "version": "3.6.3"
  }
 },
 "nbformat": 4,
 "nbformat_minor": 2
}
