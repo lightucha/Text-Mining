{
 "cells": [
  {
   "cell_type": "markdown",
   "metadata": {},
   "source": [
    "## Environment Setting"
   ]
  },
  {
   "cell_type": "code",
   "execution_count": 1,
   "metadata": {
    "collapsed": true
   },
   "outputs": [],
   "source": [
    "# External API\n",
    "import os\n",
    "import sys\n",
    "import glob\n",
    "import matplotlib.pyplot as plt\n",
    "import numpy as np\n",
    "\n",
    "# Part of External API\n",
    "from operator import itemgetter\n",
    "from pandas import Series, DataFrame\n",
    "import pandas as pd\n",
    "\n",
    "# Own code API\n",
    "import TextminingPlsa\n",
    "from stopwords import stopwords"
   ]
  },
  {
   "cell_type": "markdown",
   "metadata": {},
   "source": [
    "## Load Data Set"
   ]
  },
  {
   "cell_type": "code",
   "execution_count": 2,
   "metadata": {},
   "outputs": [
    {
     "name": "stdout",
     "output_type": "stream",
     "text": [
      "(15000, 2)\n"
     ]
    },
    {
     "data": {
      "text/html": [
       "<div>\n",
       "<style>\n",
       "    .dataframe thead tr:only-child th {\n",
       "        text-align: right;\n",
       "    }\n",
       "\n",
       "    .dataframe thead th {\n",
       "        text-align: left;\n",
       "    }\n",
       "\n",
       "    .dataframe tbody tr th {\n",
       "        vertical-align: top;\n",
       "    }\n",
       "</style>\n",
       "<table border=\"1\" class=\"dataframe\">\n",
       "  <thead>\n",
       "    <tr style=\"text-align: right;\">\n",
       "      <th></th>\n",
       "      <th>Unnamed: 0</th>\n",
       "      <th>review</th>\n",
       "    </tr>\n",
       "  </thead>\n",
       "  <tbody>\n",
       "    <tr>\n",
       "      <th>0</th>\n",
       "      <td>0</td>\n",
       "      <td>ask</td>\n",
       "    </tr>\n",
       "    <tr>\n",
       "      <th>1</th>\n",
       "      <td>1</td>\n",
       "      <td>morning</td>\n",
       "    </tr>\n",
       "    <tr>\n",
       "      <th>2</th>\n",
       "      <td>2</td>\n",
       "      <td>love</td>\n",
       "    </tr>\n",
       "    <tr>\n",
       "      <th>3</th>\n",
       "      <td>3</td>\n",
       "      <td>get</td>\n",
       "    </tr>\n",
       "    <tr>\n",
       "      <th>4</th>\n",
       "      <td>4</td>\n",
       "      <td>list</td>\n",
       "    </tr>\n",
       "  </tbody>\n",
       "</table>\n",
       "</div>"
      ],
      "text/plain": [
       "   Unnamed: 0   review\n",
       "0           0      ask\n",
       "1           1  morning\n",
       "2           2     love\n",
       "3           3      get\n",
       "4           4     list"
      ]
     },
     "execution_count": 2,
     "metadata": {},
     "output_type": "execute_result"
    }
   ],
   "source": [
    "df = pd.read_csv('./data/pre_review3.csv', encoding='cp949') # orginal pre_review.csv\n",
    "print(df.shape)\n",
    "df.head()"
   ]
  },
  {
   "cell_type": "code",
   "execution_count": 3,
   "metadata": {},
   "outputs": [
    {
     "name": "stdout",
     "output_type": "stream",
     "text": [
      "(14877, 2)\n"
     ]
    },
    {
     "data": {
      "text/html": [
       "<div>\n",
       "<style>\n",
       "    .dataframe thead tr:only-child th {\n",
       "        text-align: right;\n",
       "    }\n",
       "\n",
       "    .dataframe thead th {\n",
       "        text-align: left;\n",
       "    }\n",
       "\n",
       "    .dataframe tbody tr th {\n",
       "        vertical-align: top;\n",
       "    }\n",
       "</style>\n",
       "<table border=\"1\" class=\"dataframe\">\n",
       "  <thead>\n",
       "    <tr style=\"text-align: right;\">\n",
       "      <th></th>\n",
       "      <th>Unnamed: 0</th>\n",
       "      <th>col</th>\n",
       "    </tr>\n",
       "  </thead>\n",
       "  <tbody>\n",
       "    <tr>\n",
       "      <th>0</th>\n",
       "      <td>0</td>\n",
       "      <td>amaze</td>\n",
       "    </tr>\n",
       "    <tr>\n",
       "      <th>1</th>\n",
       "      <td>1</td>\n",
       "      <td>product</td>\n",
       "    </tr>\n",
       "    <tr>\n",
       "      <th>2</th>\n",
       "      <td>2</td>\n",
       "      <td>accuracy</td>\n",
       "    </tr>\n",
       "    <tr>\n",
       "      <th>3</th>\n",
       "      <td>3</td>\n",
       "      <td>recognize</td>\n",
       "    </tr>\n",
       "    <tr>\n",
       "      <th>4</th>\n",
       "      <td>4</td>\n",
       "      <td>say</td>\n",
       "    </tr>\n",
       "  </tbody>\n",
       "</table>\n",
       "</div>"
      ],
      "text/plain": [
       "   Unnamed: 0        col\n",
       "0           0      amaze\n",
       "1           1    product\n",
       "2           2   accuracy\n",
       "3           3  recognize\n",
       "4           4        say"
      ]
     },
     "execution_count": 3,
     "metadata": {},
     "output_type": "execute_result"
    }
   ],
   "source": [
    "df_w = pd.read_csv('./data/Walmart_word.csv', encoding='cp949')\n",
    "print(df_w.shape)\n",
    "df_w.head()"
   ]
  },
  {
   "cell_type": "code",
   "execution_count": 4,
   "metadata": {},
   "outputs": [
    {
     "name": "stdout",
     "output_type": "stream",
     "text": [
      "(15000, 1)\n"
     ]
    }
   ],
   "source": [
    "df = df.drop(df.columns[0], axis = 1)\n",
    "print(df.shape)"
   ]
  },
  {
   "cell_type": "code",
   "execution_count": 5,
   "metadata": {},
   "outputs": [
    {
     "name": "stdout",
     "output_type": "stream",
     "text": [
      "(14877, 1)\n"
     ]
    }
   ],
   "source": [
    "df_w = df_w.drop(df_w.columns[0], axis = 1)\n",
    "print(df_w.shape)"
   ]
  },
  {
   "cell_type": "markdown",
   "metadata": {},
   "source": [
    "## Implementation of pLSA"
   ]
  },
  {
   "cell_type": "code",
   "execution_count": 6,
   "metadata": {
    "collapsed": true
   },
   "outputs": [],
   "source": [
    "corpus = TextminingPlsa.Corpus()"
   ]
  },
  {
   "cell_type": "code",
   "execution_count": 7,
   "metadata": {},
   "outputs": [
    {
     "name": "stdout",
     "output_type": "stream",
     "text": [
      "15000\n"
     ]
    }
   ],
   "source": [
    "preList = df[df.columns[0]].values.tolist()\n",
    "print(len(preList))"
   ]
  },
  {
   "cell_type": "code",
   "execution_count": 8,
   "metadata": {},
   "outputs": [
    {
     "name": "stdout",
     "output_type": "stream",
     "text": [
      "14877\n"
     ]
    }
   ],
   "source": [
    "walList = df_w['col'].values.tolist()\n",
    "print(len(walList))"
   ]
  },
  {
   "cell_type": "code",
   "execution_count": 9,
   "metadata": {},
   "outputs": [
    {
     "data": {
      "text/plain": [
       "588"
      ]
     },
     "execution_count": 9,
     "metadata": {},
     "output_type": "execute_result"
    }
   ],
   "source": [
    "len(stopwords)"
   ]
  },
  {
   "cell_type": "code",
   "execution_count": 10,
   "metadata": {},
   "outputs": [
    {
     "name": "stdout",
     "output_type": "stream",
     "text": [
      "15000\n"
     ]
    }
   ],
   "source": [
    "stopPreList = [word for word in preList if word not in stopwords]\n",
    "print(len(preList))"
   ]
  },
  {
   "cell_type": "code",
   "execution_count": 11,
   "metadata": {},
   "outputs": [
    {
     "name": "stdout",
     "output_type": "stream",
     "text": [
      "7924\n"
     ]
    }
   ],
   "source": [
    "stopWalList = [word for word in walList if word not in stopwords]\n",
    "print(len(stopWalList))"
   ]
  },
  {
   "cell_type": "code",
   "execution_count": 12,
   "metadata": {
    "collapsed": true
   },
   "outputs": [],
   "source": [
    "corpus.add_document(stopPreList)\n",
    "corpus.add_document(stopWalList)"
   ]
  },
  {
   "cell_type": "code",
   "execution_count": 13,
   "metadata": {},
   "outputs": [
    {
     "name": "stdout",
     "output_type": "stream",
     "text": [
      "3263\n"
     ]
    }
   ],
   "source": [
    "voca = corpus.build_vocabulary()\n",
    "print(len(voca))"
   ]
  },
  {
   "cell_type": "code",
   "execution_count": 14,
   "metadata": {
    "collapsed": true
   },
   "outputs": [],
   "source": [
    "def visualization_likelihod(value_list):\n",
    "    plt.plot(value_list, c=\"b\", lw=2, ls=\"--\", marker=\"o\", ms=5, mec=\"g\", mew=2, mfc=\"r\")\n",
    "\n",
    "    plt.xlabel('$Iteration$', fontsize=14)\n",
    "    plt.title('Log-Likelihood for Optimization', fontsize=20)\n",
    "    plt.ylabel('$Value$', fontsize=14)\n",
    "    plt.tight_layout()\n",
    "    plt.show()"
   ]
  },
  {
   "cell_type": "code",
   "execution_count": 15,
   "metadata": {},
   "outputs": [
    {
     "name": "stdout",
     "output_type": "stream",
     "text": [
      "EM iteration begins...\n",
      "Initializing...\n",
      "Iteration #1...\n",
      "Iteration #2...\n",
      "Iteration #3...\n",
      "Iteration #4...\n",
      "Iteration #5...\n",
      "Iteration #6...\n",
      "Iteration #7...\n",
      "Iteration #8...\n",
      "Iteration #9...\n",
      "Iteration #10...\n",
      "Iteration #11...\n",
      "Iteration #12...\n",
      "Iteration #13...\n",
      "Iteration #14...\n",
      "Iteration #15...\n",
      "Iteration #16...\n",
      "Iteration #17...\n",
      "Iteration #18...\n",
      "Iteration #19...\n",
      "Iteration #20...\n",
      "Iteration #21...\n",
      "Iteration #22...\n",
      "Iteration #23...\n",
      "Iteration #24...\n",
      "Iteration #25...\n",
      "Iteration #26...\n",
      "Iteration #27...\n",
      "Iteration #28...\n",
      "Iteration #29...\n",
      "Iteration #30...\n",
      "Iteration #31...\n",
      "Iteration #32...\n",
      "Iteration #33...\n",
      "Iteration #34...\n",
      "Iteration #35...\n",
      "Iteration #36...\n",
      "Iteration #37...\n",
      "Iteration #38...\n",
      "Iteration #39...\n",
      "Iteration #40...\n",
      "Iteration #41...\n",
      "Iteration #42...\n",
      "Iteration #43...\n",
      "Iteration #44...\n",
      "Iteration #45...\n",
      "Iteration #46...\n",
      "Iteration #47...\n",
      "Iteration #48...\n",
      "Iteration #49...\n",
      "Iteration #50...\n",
      "Iteration #51...\n",
      "Iteration #52...\n",
      "Iteration #53...\n",
      "Iteration #54...\n",
      "Iteration #55...\n",
      "Iteration #56...\n",
      "Iteration #57...\n",
      "Iteration #58...\n",
      "Iteration #59...\n",
      "Iteration #60...\n",
      "Iteration #61...\n",
      "Iteration #62...\n",
      "Iteration #63...\n",
      "Iteration #64...\n",
      "Iteration #65...\n",
      "Iteration #66...\n",
      "Iteration #67...\n",
      "Iteration #68...\n",
      "Iteration #69...\n",
      "Iteration #70...\n",
      "Iteration #71...\n",
      "Iteration #72...\n",
      "Iteration #73...\n",
      "Iteration #74...\n",
      "Iteration #75...\n",
      "Iteration #76...\n",
      "Iteration #77...\n",
      "Iteration #78...\n",
      "Iteration #79...\n",
      "Iteration #80...\n",
      "Iteration #81...\n",
      "Iteration #82...\n",
      "Iteration #83...\n",
      "Iteration #84...\n",
      "Iteration #85...\n",
      "Iteration #86...\n",
      "Iteration #87...\n",
      "Iteration #88...\n",
      "Iteration #89...\n",
      "Iteration #90...\n",
      "Iteration #91...\n",
      "Iteration #92...\n",
      "Iteration #93...\n",
      "Iteration #94...\n",
      "Iteration #95...\n",
      "Iteration #96...\n",
      "Iteration #97...\n",
      "Iteration #98...\n",
      "Iteration #99...\n",
      "Iteration #100...\n",
      "(2, 3263) (2, 2)\n"
     ]
    }
   ],
   "source": [
    "result = corpus.plsa(number_of_topics=2, max_iter=100, lambda_b=0.6) # all data set:0.6\n",
    "print(result[2].shape, result[3].shape)"
   ]
  },
  {
   "cell_type": "code",
   "execution_count": 16,
   "metadata": {},
   "outputs": [
    {
     "data": {
      "text/plain": [
       "0.6"
      ]
     },
     "execution_count": 16,
     "metadata": {},
     "output_type": "execute_result"
    }
   ],
   "source": [
    "result[0]"
   ]
  },
  {
   "cell_type": "code",
   "execution_count": 17,
   "metadata": {},
   "outputs": [
    {
     "data": {
      "image/png": "[encoded data removed]",
      "text/plain": [
       "<matplotlib.figure.Figure at 0x17100be60f0>"
      ]
     },
     "metadata": {},
     "output_type": "display_data"
    }
   ],
   "source": [
    "visualization_likelihod(result[1])"
   ]
  },
  {
   "cell_type": "code",
   "execution_count": 18,
   "metadata": {},
   "outputs": [
    {
     "name": "stdout",
     "output_type": "stream",
     "text": [
      "6526 [('carry', 0.0), ('subject', 8.8778829846448051e-05), ('dust', 5.2736930959150447e-07), ('trigger', 0.002047658102431787), ('commercials', 0.0), ('expanded', 0.0), ('review', 2.1901485506980315e-10), ('larger', 0.0), ('aide', 0.0), ('pizza', 8.8778829846448119e-05), ('ship', 0.0006472314818220102), ('battery', 0.00026633648953934444), ('sensational', 0.0), ('cave', 0.0), ('responds', 3.8901320793407209e-07), ('initial', 0.00017755765969289629), ('wanted', 0.0), ('bog', 0.0), ('presence', 0.00018615073658470794), ('briefly', 0.00018615073658470794), ('alot', 0.00083338223328228034), ('bang', 0.0), ('enhanced', 0.0), ('tininess', 0.00018615073658470794), ('emerge', 0.00018615073658470794), ('speak', 0.001924509421204777), ('invested', 0.0), ('amazingly', 0.0), ('potential', 7.1567802566558852e-05), ('scary', 0.0), ('therapy', 0.0), ('score', 0.0), ('months', 0.0), ('quibble', 0.0), ('right', 0.002732113496819732), ('residence', 0.00018615073658470794), ('reson', 0.00018615073658470794), ('abate', 0.00018615073658470794), ('room', 0.00034839100689394102), ('renewal', 0.00018615073658470794), ('exception', 8.8778829846448187e-05), ('foray', 0.0), ('breastfeed', 0.00018615073658470794), ('stage', 0.00074460294633883176), ('bomb', 0.0), ('siriusxm', 0.0), ('lookin', 0.0), ('owning', 0.0), ('questions', 0.0), ('podcast', 0.0), ('9325', 0.0), ('inevitably', 0.00018615073658470794), ('unsecure', 0.00018615073658470794), ('bit', 0.0014548357283229612), ('opposite', 0.0), ('gimmicky', 0.0), ('unlock', 0.00018615073658470794), ('line', 0.00091356880131541291), ('helpful', 0.0018901370083531787), ('wml', 0.0), ('pleasure', 0.0), ('describe', 0.0), ('stay', 0.00016896201592175433), ('lag', 0.0), ('toggle', 0.00037230147316941588), ('sweet', 0.0), ('adult', 0.00083338223328228034), ('sometime', 0.0), ('blah', 0.0), ('pleasent', 0.00018615073658470794), ('impersonator', 0.00018615073658470794), ('replace', 0.0), ('fine', 0.00041810621256065122), ('include', 0.00054126678351213862), ('deprive', 0.00018615073658470794), ('wave', 8.8778829846448051e-05), ('logitech', 0.00027492991731496811), ('grow', 0.00074460294633883176), ('entry', 0.00074460294633883176), ('total', 1.0937269400223343e-06), ('guilty', 0.00018615073658470794), ('promotion', 0.00074460294633883176), ('integrated', 0.00018615073658470794), ('stop', 0.002271032558174894), ('soo', 0.0), ('slower', 0.0), ('fortune', 0.0), ('nothe', 0.00018615073658470794), ('understand', 0.0016696088012468681), ('door', 4.3043942689598577e-12), ('committed', 0.0), ('heading', 0.0), ('changing', 0.0), ('appearance', 0.0), ('subpar', 0.0), ('moments', 0.0), ('ipad', 8.0181307607707979e-05), ('49', 0.00018615073658470794), ('searched', 0.0), ('aspect', 8.0181268722710489e-05), ('exhibit', 0.00018615073658470794), ('comcast', 8.8778829846448119e-05), ('reminder', 0.001366056748409866), ('misses', 0.0), ('clear', 0.00030352228886984403), ('sev', 0.00018615073658470794), ('capability', 0.0018357303379593188), ('pay', 0.0021994393385197449), ('scale', 0.0), ('identifies', 0.0), ('fabulously', 0.00018615073658470794), ('adults', 0.00018615073658470794), ('sidekick', 0.00018615073658470794), ('regular', 0.00027492991731496811), ('might', 0.0003465204378502186), ('bart', 0.00018615073658470794), ('obsessed', 0.0), ('spy', 0.0), ('speaking', 0.0), ('bulb', 0.00054126678351213862), ('customers', 0.0), ('btw', 0.00027492991731496811), ('marry', 0.00055845220975412355), ('ecommerce', 0.00037230147316941588), ('democrat', 0.00018615073658470794), ('dodesnt', 0.0), ('liked', 9.697462979029705e-07), ('closer', 0.0), ('opened', 0.0), ('shipped', 0.0), ('biggie', 0.00018615073658470794), ('desire', 0.00027492991731496811), ('dock', 0.0), ('successful', 0.00037230147316941588), ('removal', 0.0), ('lump', 0.0), ('scratch', 0.00027492991731496811), ('coupon', 0.00018615073658470794), ('region', 0.00037230147316941588), ('pill', 0.00046108071821486984), ('geeni', 0.00018615073658470794), ('hate', 5.3903326344238488e-07), ('mile', 4.8919199619013538e-07), ('chance', 8.8778829846448119e-05), ('implement', 0.00018615073658470794), ('order', 0.0030786362080783098), ('decade', 8.8778829846448119e-05), ('approved', 0.0), ('cortana', 0.0), ('languages', 8.8778829846448119e-05), ('times', 0.0), ('definition', 0.0003637089320807403), ('rapid', 0.0), ('distorts', 0.0), ('responsive', 0.00099375466640362555), ('buying', 5.5579595009702632e-05), ('usually', 0.00045248787612606867), ('fixed', 0.0), ('apps', 0.002749299173149681), ('controls', 0.0), ('public', 0.00018615073658470794), ('intuitive', 0.00072741786416148061), ('somewhat', 1.3629655255489683e-17), ('installed', 0.0), ('challenge', 0.00017755765969289629), ('entertaining', 0.0), ('cleaning', 0.0), ('aspects', 0.00018615073658470794), ('exuded', 0.0), ('dislike', 5.4838294659835147e-07), ('satisfied', 5.1895634991007515e-07), ('ipod', 0.0), ('burgular', 0.00018615073658470794), ('automating', 0.0), ('whisper', 0.00018615073658470794), ('subwoofer', 8.8778829846448119e-05), ('gain', 0.00046108071821486984), ('preference', 0.00037230147316941588), ('blow', 0.00074460294633883176), ('alert', 0.00018615073658470794), ('wheni', 0.0), ('specified', 0.0), ('desktop', 0.0003637089320807403), ('operation', 0.00037230147316941588), ('shoot', 0.0), ('crappy', 0.0), ('informed', 0.00018615073658470794), ('hide', 0.00017755765969289629), ('majority', 8.8778829846448119e-05), ('meaning', 0.0), ('series', 0.0), ('xfinity', 0.00018615073658470794), ('wiuld', 0.0), ('budget', 0.00018615073658470794), ('tomorrow', 8.8778829846448119e-05), ('spending', 0.0), ('strong', 0.00027492991731496811), ('firmware', 0.0), ('wonder', 0.00018615073658470794), ('90', 0.0003637089320807403), ('answered', 0.0), ('english', 0.00016896201600218215), ('variety', 0.00092216143642973969), ('corrects', 0.00018615073658470794), ('numerous', 5.268371209410381e-07), ('handle', 0.0013918344637002932), ('account', 0.0024915543628414904), ('defiantly', 0.0), ('charge', 0.0003637089320807403), ('loses', 0.0), ('communicate', 0.00017755765969289629), ('conversations', 0.0), ('height', 0.00055845220975412355), ('reachability', 0.00018615073658470794), ('008f', 0.0), ('antenna', 0.0), ('temperature', 0.00054126678351213862), ('complaints', 0.0), ('zillion', 0.00018615073658470794), ('understanding', 0.0), ('habit', 0.00018615073658470794), ('dial', 0.0), ('blame', 0.0), ('stops', 0.0), ('content', 1.0324542549193108e-17), ('guess', 0.00025774136498490322), ('chrome', 0.0016753566292623712), ('expectation', 0.00045248787612606867), ('combination', 0.0), ('rico', 0.00037230147316941588), ('art', 0.00018615073658470794), ('grain', 0.0), ('150', 0.00018615073658470794), ('yell', 0.0002663364895393439), ('minor', 0.00017755765969289629), ('ruth', 0.00018615073658470794), ('confident', 0.00018615073658470794), ('replacement', 0.0), ('din', 0.0), ('personal', 0.0010997196692598724), ('entertains', 0.0), ('assort', 0.00018615073658470794), ('happens', 5.7012892021087069e-07), ('ink', 0.00018615073658470794), ('gets', 0.0), ('stream', 1.8025775440720414e-06), ('hopeful', 0.0), ('frankly', 0.00018615073658470794), ('basey', 0.0), ('wasnt', 0.00018615073658470794), ('inappropriate', 0.0), ('restore', 0.0), ('reponse', 0.00018615073658470794), ('connector', 0.0), ('await', 0.0), ('eye', 0.0), ('section', 0.0), ('creates', 0.0), ('diffrent', 0.0), ('definity', 0.00018615073658470794), ('lackluster', 0.00018615073658470794), ('firestick', 0.0), ('tools', 0.0), ('completed', 0.0), ('auto', 0.00018615073658470794), ('watches', 0.0), ('fabric', 0.0), ('republican', 0.00018615073658470794), ('wait', 0.003113008155865698), ('online', 0.0015779852039121416), ('tech', 0.0014634286444815279), ('n', 0.00027492991731496811), ('beta', 0.00018615073658470794), ('tweet', 0.00018615073658470794), ('sings', 0.0), ('reviews', 0.0), ('acct', 0.0), ('context', 0.00055845220975412355), ('waiting', 0.0), ('parent', 0.00072741786416148061), ('irritate', 0.00018615073658470794), ('jury', 0.0), ('log', 0.00037230147316941588), ('unbelievable', 0.0), ('decant', 0.0), ('hopefully', 0.00092216143642973969), ('alternate', 8.8778829846448119e-05), ('split', 0.0), ('separate', 8.8778829846448119e-05), ('stuck', 4.2551545502405726e-07), ('differnt', 0.00018615073658470794), ('intention', 0.0), ('discover', 0.0), ('finish', 0.0), ('experiment', 0.0), ('jazz', 8.8778829846448146e-05), ('performance', 0.0), ('acceptable', 0.0), ('fortunate', 0.0), ('genre', 0.0), ('backing', 0.0), ('safe', 8.8778829846447211e-05), ('pack', 8.0181330468939957e-05), ('vehicle', 0.00018615073658470794), ('promptly', 0.00018615073658470794), ('easily', 5.5394474211043878e-05), ('venice', 0.0), ('fumble', 8.8778829846448119e-05), ('frequently', 8.0181341031547061e-05), ('hub', 0.0010109405768992062), ('displease', 0.00018615073658470794), ('tedious', 0.0), ('retailer', 0.00018615073658470794), ('reordering', 0.0), ('soothe', 0.00018615073658470794), ('british', 0.00018615073658470794), ('oklahoma', 0.0), ('offering', 5.3626398003376797e-07), ('lure', 0.0), ('unbelievably', 0.0), ('audio', 0.0007560303281048472), ('receive', 0.001658172093893412), ('60', 0.00017755765969289629), ('founded', 0.0), ('rephrase', 8.8778829846447902e-05), ('serf', 0.0), ('nah', 0.0), ('ole', 0.0), ('tired', 8.8778829846448119e-05), ('probable', 0.0), ('elementary', 0.00018615073658470794), ('impossible', 0.0), ('band', 0.0), ('planning', 0.0), ('deny', 0.0), ('life', 0.0013402764918087377), ('creamer', 0.0), ('dim', 0.00037230147316941588), ('title', 0.0), ('fifth', 5.56947913766828e-07), ('grandchild', 0.00017755765969289629), ('texture', 8.8778829846448214e-05), ('hum', 0.00037230147316941588), ('suprised', 8.8778829846448051e-05), ('upgrades', 0.0), ('ability', 0.0025631483198109662), ('amazed', 0.0), ('interesting', 0.00027492991731496811), ('selects', 0.00018615073658470794), ('equipment', 9.506133688586338e-18), ('aesthetically', 0.0), ('individually', 0.0), ('compared', 0.0), ('overpriced', 0.00018615073658470794), ('elegant', 0.00018615073658470794), ('glorify', 0.00018615073658470794), ('yhinking', 0.0), ('cutting', 0.0), ('contact', 0.0), ('eta', 0.00018615073658470794), ('orient', 0.00018615073658470794), ('humidity', 0.00037230147316941588), ('hand', 0.00033792403178156292), ('grandkids', 0.00063863887418894472), ('remind', 0.00073601065202795577), ('try', 0.0025459625245651827), ('sensors', 0.0), ('none', 0.00055845220975412355), ('maximum', 0.0), ('pure', 0.0), ('tube', 0.0010195329792829476), ('send', 0.0022166244092361922), ('discount', 0.00037230147316941588), ('cooky', 0.00018615073658470794), ('spoken', 0.00018615073658470794), ('nugent', 0.0), ('joke', 0.0015178341707635364), ('theu', 0.00018615073658470794), ('win', 0.0), ('primary', 0.0006472314818220102), ('gave', 0.0), ('hr', 0.00018615073658470794), ('tonal', 0.0), ('satisfactory', 0.00018615073658470794), ('wcho', 0.0), ('cylinder', 0.0), ('santana', 0.0), ('number', 0.00044389414923224089), ('tie', 0.00037230147316941588), ('placed', 0.0), ('superb', 1.1489201312364282e-17), ('occasional', 1.063931518788802e-17), ('microphones', 0.0), ('insert', 0.00018615073658470794), ('deal', 0.00033792403196118367), ('00', 0.00063863887418894472), ('exceed', 0.0), ('nursing', 0.0), ('bring', 0.00082478975194490449), ('tailored', 0.00018615073658470794), ('shorter', 1.010420170210667e-17), ('spruce', 0.00018615073658470794), ('instagram', 0.0), ('continuous', 0.00018615073658470794), ('luv', 0.0), ('tp', 0.0), ('method', 0.00027492991731496811), ('mood', 8.8778829846448119e-05), ('estate', 0.0), ('sell', 0.00046108071821486984), ('differently', 0.00018615073658470794), ('round', 0.00018615073658470794), ('performs', 8.8778829846448119e-05), ('press', 0.0), ('honest', 0.00018615073658470794), ('reacts', 0.00018615073658470794), ('fluid', 0.00018615073658470794), ('buyer', 0.0), ('utilize', 0.00035511531938579258), ('range', 0.0), ('drinking', 0.0), ('taking', 0.0), ('valid', 0.0), ('john', 8.8778829846448146e-05), ('share', 0.00055845220975412355), ('plank', 0.0), ('unpack', 0.00018615073658470794), ('stellar', 0.0), ('delivers', 0.00018615073658470794), ('lovely', 0.0), ('past', 0.00017755765969289624), ('country', 0.0), ('itsself', 0.00018615073658470794), ('extremely', 0.00082478975194490449), ('avail', 0.00027492991731496811), ('positioning', 0.0), ('shout', 0.00017755765969289629), ('happily', 0.00018615073658470794), ('serve', 0.00018615073658470794), ('extra', 0.00043529940864313273), ('card', 5.1926464065238499e-07), ('forget', 0.00027492991731496811), ('20ft', 0.0), ('incorporated', 0.0), ('cant', 0.00044389414923224008), ('idea', 0.00016036267239016155), ('ham', 0.00018615073658470794), ('ended', 0.0), ('disappear', 0.0), ('snack', 0.0), ('complicated', 0.0), ('199', 0.0), ('freeze', 0.00018615073658470794), ('invention', 4.2716336037309152e-07), ('galas', 0.00018615073658470794), ('decor', 0.00016896201542737028), ('distinct', 0.0), ('functionally', 0.0), ('gather', 8.8778829846448214e-05), ('favor', 0.00018615073658470794), ('news', 0.0033105987309926016), ('attention', 0.00027492991731496811), ('iheart', 4.28616387986166e-07), ('smarter', 1.0703782184550834e-06), ('loader', 0.0), ('co', 0.00018615073658470794), ('sennce', 0.00018615073658470794), ('debut', 0.00018615073658470794), ('response', 0.0024829618826212735), ('adequate', 0.0), ('fidelity', 0.0), ('tested', 0.00018615073658470794), ('capable', 8.0181318884357691e-05), ('subset', 0.0), ('gorilla', 0.00018615073658470794), ('synch', 0.00018615073658470794), ('thermostat', 0.001933102026937679), ('start', 0.0022624393806303426), ('compression', 0.0), ('virtually', 0.0), ('platform', 0.00018615073658470794), ('beep', 0.00037230147316941588), ('toddler', 0.00037230147316941588), ('massachussets', 0.0), ('language', 0.00082478975194490449), ('louder', 0.0), ('189', 0.00018615073658470794), ('dip', 0.0), ('smartphone', 0.00045248787612606867), ('rhe', 0.0), ('clock', 0.0003637089320807403), ('done', 0.0), ('toys', 0.00018615073658470794), ('cover', 1.5955428375337699e-297), ('fuel', 0.00018615073658470794), ('patience', 5.6775647923297724e-07), ('recognizing', 0.0), ('luck', 1.0607837924018529e-17), ('sleeps', 0.0), ('149', 0.00018615073658470794), ('rolls', 0.0), ('assistant', 0.0050976648964147376), ('centric', 0.0), ('cupcake', 0.0), ('boyfriend', 0.00018615073658470794), ('subscription', 1.3220450825186299e-17), ('functioning', 0.0), ('horrible', 1.1174881321841393e-06), ('whereas', 0.00074460294633883176), ('keeping', 0.0), ('zip', 0.0), ('future', 0.0031387858494518165), ('ii', 0.0), ('wildly', 0.0), ('hacker', 0.00018615073658470794), ('son', 0.0024571835485864041), ('aesthetic', 8.8778829846448051e-05), ('cdcs', 0.0), ('reading', 0.00026633648953934433), ('tricky', 0.0), ('diagnostics', 0.0), ('glitch', 0.00046108071821486984), ('cellular', 0.00018615073658470794), ('outlets', 0.0), ('silicone', 0.00018615073658470794), ('listening', 0.0), ('improved', 0.0), ('working', 0.0), ('usefulness', 8.8778829846447997e-05), ('exceptional', 0.0), ('cold', 0.00018615073658470794), ('benefits', 0.0), ('shipping', 0.00074460294633883176), ('facebook', 0.00018615073658470794), ('constant', 0.00018615073658470794), ('running', 0.0), ('released', 0.0), ('luckily', 0.0), ('mkindle', 0.0), ('alarms', 7.6489751202863565e-18), ('cautious', 0.00018615073658470794), ('directed', 0.0), ('85', 0.00018615073658470794), ('landline', 0.0), ('stepchild', 0.00018615073658470794), ('badge', 0.0), ('update', 0.0022022819137907405), ('intelligently', 0.0), ('verizon', 0.0), ('wakeup', 0.00018615073658470794), ('quit', 0.0), ('imencially', 0.0), ('plenty', 8.8778829846448119e-05), ('fathom', 0.00018615073658470794), ('affordable', 0.0), ('sophisticated', 0.0), ('recomend', 0.0), ('dozen', 0.0), ('rundown', 0.00018615073658470794), ('therapist', 0.0), ('multi', 4.946393022163424e-12), ('speedily', 0.00018615073658470794), ('helpfulness', 0.00018615073658470794), ('special', 0.00026633648953934444), ('spends', 0.0), ('convienent', 0.0), ('pleasant', 0.0003637089320807403), ('havent', 0.00018615073658470794), ('talking', 0.0), ('rating', 0.00026633648953934433), ('fantastic', 0.00025774136498336349), ('supply', 0.00017755765969289624), ('allman', 0.0), ('directions', 0.0), ('rich', 5.1102670208069529e-07), ('crank', 0.0), ('peak', 0.0), ('crom', 0.00018615073658470794), ('hold', 5.1897114265492064e-07), ('ridden', 0.00018615073658470794), ('write', 0.0003637089320807403), ('conversational', 0.00018615073658470794), ('kids', 0.0), ('mention', 0.00045248787612606867), ('wood', 0.0), ('receiver', 5.6475184327122957e-07), ('login', 0.00018615073658470794), ('wise', 8.8778829846448119e-05), ('tells', 0.0), ('asleep', 0.0), ('jack', 0.00018615073658470794), ('impact', 0.00018615073658470794), ('forth', 0.00037230147316941588), ('aswell', 0.00018615073658470794), ('advice', 8.8778829846448119e-05), ('controlled', 0.0), ('save', 0.00092216143642973969), ('amount', 8.8778829846448051e-05), ('figured', 0.0), ('consumer', 0.00018615073658470794), ('bandwagon', 0.00018615073658470794), ('qill', 0.00018615073658470794), ('experimenting', 0.0), ('tool', 0.00044389414923224008), ('arab', 0.00018615073658470794), ('description', 0.00037230147316941588), ('explain', 8.8778829846448214e-05), ('depot', 0.00018615073658470794), ('toy', 0.0014720213040559115), ('object', 0.00018615073658470794), ('synchronize', 0.00055845220975412355), ('couch', 8.8778829846448146e-05), ('considering', 0.0), ('sadly', 8.8778829846448146e-05), ('bonding', 0.0), ('house', 0.0019559587363334298), ('ordered', 0.0), ('inability', 8.8778829846448214e-05), ('substantial', 0.00018615073658470794), ('returned', 8.8778829846448146e-05), ('pricy', 0.00018615073658470794), ('unable', 0.00063004566945105967), ('commute', 0.00018615073658470794), ('spanish', 0.00026633648953934433), ('disgreement', 0.00018615073658470794), ('bounce', 0.0), ('frosting', 0.0), ('black', 0.0010195329792829476), ('taker', 0.00018615073658470794), ('move', 8.8778829846448187e-05), ('shopping', 0.0016409866888215012), ('century', 0.0), ('muffle', 5.6425009074545437e-07), ('talk', 0.0015264279485357642), ('file', 0.00018615073658470794), ('super', 0.0010739399615663672), ('historical', 0.0), ('lift', 0.0), ('microphone', 0.00099375466640362555), ('beat', 0.00037230147316941588), ('pool', 0.0), ('grandma', 0.0), ('upon', 0.0), ('paid', 0.0), ('rave', 0.00037230147316941588), ('sitting', 0.0), ('honestly', 0.0), ('sneeze', 0.00018615073658470794), ('shuffle', 0.0), ('portability', 0.0), ('fuller', 0.0), ('bloody', 0.0), ('glaze', 0.00018615073658470794), ('wi', 0.0015608004186739048), ('colored', 0.00018615073658470794), ('reach', 0.00018615073658470794), ('hooking', 0.0), ('radio', 9.5513503531918042e-11), ('unequivocally', 0.0), ('sonos', 0.0), ('resource', 0.00018615073658470794), ('dictionary', 0.0), ('handy', 0.00091356880131541291), ('ambient', 0.0), ('instantly', 0.00027492991731496811), ('supported', 0.0), ('shouting', 0.0), ('setting', 0.00034652043785026121), ('says', 0.0), ('portable', 0.0), ('frustrated', 0.0), ('looo', 0.0), ('boughf', 0.00018615073658470794), ('negative', 1.0853608404072677e-06), ('c', 0.00037230147316941588), ('laptop', 8.8778829846448119e-05), ('pricey', 0.00055845220975412355), ('cranked', 0.0), ('equivalent', 0.0), ('bonuses', 0.00018615073658470794), ('lyric', 0.0), ('overlooked', 0.0), ('changed', 0.0), ('teenager', 0.0), ('skip', 0.0), ('repeatedly', 8.8778829846448119e-05), ('honeywell', 0.00018615073658470794), ('wheel', 0.00018615073658470794), ('exists', 0.0), ('distortion', 0.0), ('proper', 0.0), ('closet', 0.0), ('granddaughter', 0.00083338223328228034), ('cell', 0.00063863887418894472), ('mh', 0.0), ('35', 0.00018615073658470794), ('website', 0.00018615073658470794), ('short', 0.0), ('quote', 0.00018615073658470794), ('front', 0.0), ('noisy', 0.00018615073658470794), ('helps', 0.0), ('actually', 0.00013464545303158983), ('blasting', 0.0), ('story', 8.0181330327468229e-05), ('norway', 0.00037230147316941588), ('bigger', 0.0), ('trip', 0.00018615073658470794), ('resources', 0.0), ('behind', 0.0010195329792829476), ('videos', 0.00074460294633883176), ('avoid', 0.00018615073658470794), ('answering', 0.0), ('chat', 0.00037230147316941588), ('complain', 0.00074460294633883176), ('convenience', 0.0), ('situation', 0.00017755765969289624), ('incredibly', 8.8778829846448146e-05), ('tablet', 0.0013918344637002932), ('beer', 0.0), ('amm', 0.0), ('bugs', 0.00018615073658470794), ('later', 5.9143197675136659e-14), ('appropriately', 0.00018615073658470794), ('696', 0.0), ('productivity', 8.8778829846448146e-05), ('remote', 0.00034652043785201041), ('assistants', 0.0), ('precise', 0.00018615073658470794), ('full', 0.00070163610315053418), ('annoying', 0.0), ('funny', 8.0181287789690581e-05), ('raspy', 0.0), ('depending', 0.0), ('turned', 0.0), ('grammatical', 0.00018615073658470794), ('excited', 0.00035511531938579248), ('audible', 0.0006472314818220102), ('muffled', 0.0), ('immediately', 0.0), ('mini', 0.0016753566292623712), ('shock', 0.0), ('figure', 0.00044389414923224008), ('terrific', 0.00027492991731496811), ('uninstall', 0.0), ('person', 0.0010023478131194607), ('reputed', 0.0), ('industrial', 0.00018615073658470794), ('tight', 0.0), ('follow', 0.00092216143642973969), ('frequent', 0.00037230147316941588), ('expensive', 0.00054126678351213862), ('syncs', 5.1816239354621007e-07), ('age', 0.00027492991731496811), ('nicer', 0.0), ('aware', 0.0), ('error', 0.00016896201593046226), ('cheap', 0.0), ('problem', 0.0010223690663297713), ('controlling', 0.0), ('albums', 0.0), ('curated', 0.00018615073658470794), ('accessibility', 0.00037230147316941588), ('lower', 8.8778829846448119e-05), ('sincerely', 0.00018615073658470794), ('adding', 0.0), ('lengthy', 0.00018615073658470794), ('grande', 0.00018615073658470794), ('escape', 0.0), ('festival', 0.00018615073658470794), ('disapoointed', 0.0), ('fool', 0.0), ('post', 0.0), ('family', 0.0051177038534247236), ('poor', 1.1128912491964253e-06), ('loved', 0.0), ('popped', 0.0), ('promising', 0.00018615073658470794), ('prime', 4.4068169417282675e-19), ('knowledable', 0.0), ('meds', 0.00018615073658470794), ('engineer', 0.00037230147316941588), ('footprint', 0.0), ('beware', 0.00037230147316941588), ('stock', 0.00055845220975412355), ('xxx52420', 0.0), ('portland', 0.00037230147316941588), ('defective', 0.0), ('quirk', 0.00018615073658470794), ('voluminous', 0.0), ('reccomend', 0.0), ('inform', 0.0), ('p2p', 0.0), ('activate', 0.00083338223328228034), ('barrage', 0.0), ('condition', 0.00037230147316941588), ('possible', 0.0), ('muddy', 0.0), ('dots', 0.0), ('cord', 0.00017755765969289624), ('default', 0.00055845220975412355), ('connectivity', 8.8778829846448119e-05), ('grab', 0.0), ('randomly', 7.8378387035033033e-18), ('excitement', 0.00018615073658470794), ('sits', 0.00037230147316941588), ('thats', 0.0), ('enterprise', 0.00018615073658470794), ('likes', 0.0), ('practical', 0.00026633648953934433), ('fail', 8.8778829846448214e-05), ('fits', 0.0), ('emirate', 0.00018615073658470794), ('io', 5.4988557914915044e-07), ('drain', 0.0), ('ive', 0.0), ('bluetooth', 0.0007732240948671496), ('repeat', 0.00083338223328228034), ('howard', 0.00018615073658470794), ('ironically', 0.00018615073658470794), ('greeting', 0.0), ('chose', 0.00018615073658470794), ('fire', 2.5209935401315073e-12), ('testing', 0.0), ('touched', 0.0), ('egg', 0.0), ('garage', 0.0), ('greet', 0.00018615073658470794), ('wonderfully', 0.0), ('appts', 0.0), ('never', 0.00077322409496504395), ('main', 0.00025774136498408335), ('enhance', 0.0), ('table', 0.0003637089320807403), ('explainations', 0.0), ('hmmmmm', 0.00018615073658470794), ('originally', 8.8778829846448119e-05), ('white', 0.00063863887418894472), ('immediate', 8.8778829846448119e-05), ('beloved', 0.0), ('featured', 0.0), ('flaw', 0.0), ('stated', 0.0), ('flash', 0.0), ('indicator', 0.00037230147316941588), ('civilization', 0.0), ('ac', 8.8778829846448119e-05), ('broaden', 0.00018615073658470794), ('spreading', 0.00018615073658470794), ('im', 0.00063863887418894472), ('continue', 2.3167883162317363e-13), ('volumn', 0.0), ('fry', 0.0), ('medicine', 0.00037230147316941588), ('warranty', 0.0), ('folder', 0.0), ('buddy', 8.8778829846448119e-05), ('yelling', 0.0), ('tat', 0.0), ('blast', 3.1803832529031876e-07), ('character', 0.0), ('worry', 8.8778829846448146e-05), ('experience', 4.4270286592296703e-05), ('loud', 0.00057846988853589392), ('008d', 0.0), ('class', 0.00018615073658470794), ('per', 5.1677615754906675e-07), ('worst', 0.0), ('spoiled', 0.0), ('flexibility', 0.00027492991731496811), ('additionally', 0.00018615073658470794), ('portuguese', 0.0), ('nasty', 0.0), ('shortcoming', 0.00018615073658470794), ('require', 0.00092216143642973969), ('weigh', 0.00037230147316941588), ('ground', 0.00018615073658470794), ('individual', 0.00037230147316941588), ('important', 0.0), ('cost', 0.00092216143642973969), ('champ', 0.0), ('deregister', 0.0), ('googlehome', 0.00037230147316941588), ('exspecting', 0.00018615073658470794), ('libs', 0.00037230147316941588), ('app', 0.0037000885881162716), ('stuff', 0.0026862974471600202), ('k', 0.00017755765969289624), ('glad', 0.00090497575225213735), ('diections', 0.0), ('waste', 0.00046108071821486984), ('asked', 0.0), ('identical', 0.00018615073658470794), ('expecting', 0.0), ('sling', 0.00018615073658470794), ('net', 0.00018615073658470794), ('educate', 0.00018615073658470794), ('posting', 0.0), ('pc', 0.00018615073658470794), ('robotic', 0.00018615073658470794), ('recognizes', 0.00037230147316941588), ('lg5', 0.0), ('input', 0.00027492991731496811), ('unlike', 0.00027492991731496811), ('telling', 0.0), ('seller', 0.0), ('dream', 0.0), ('lb', 0.00018615073658470794), ('basic', 0.001658172093893412), ('notice', 1.0967993295321337e-06), ('rubber', 0.00018615073658470794), ('brand', 0.00046108071821486984), ('bite', 0.00046108071821486984), ('hip', 0.00018615073658470794), ('losing', 0.0), ('overseas', 0.00018615073658470794), ('spooky', 0.0), ('fabulous', 0.00046108071821486984), ('ofie', 0.00018615073658470794), ('scope', 0.0), ('refer', 0.00037230147316941588), ('crowd', 0.00018615073658470794), ('accord', 0.00027492991731496811), ('unreliable', 0.00018615073658470794), ('saw', 8.8778829846448119e-05), ('contacted', 0.0), ('necessarily', 0.00018615073658470794), ('foot', 0.0), ('investment', 0.00046108071821486984), ('latest', 0.0), ('mitigate', 0.00037230147316941588), ('works', 0.0), ('phrase', 0.00093075368292353953), ('interrupts', 0.00018615073658470794), ('action', 8.8778829846448119e-05), ('elton', 0.0), ('distinguish', 0.00018615073658470794), ('casting', 0.00018615073658470794), ('calling', 0.0), ('read', 0.002465776479017333), ('hump', 0.00018615073658470794), ('traffic', 0.00054126678351213862), ('smaller', 0.0), ('glitchy', 0.0), ('brief', 0.00018615073658470794), ('quieter', 0.0), ('eve', 8.8778829846448119e-05), ('wallys', 0.00018615073658470794), ('option', 0.0021020675258943103), ('rebate', 0.00018615073658470794), ('ev', 0.00018615073658470794), ('ups', 0.00018615073658470794), ('fan', 0.0), ('adjust', 0.0), ('responsiveness', 0.0), ('sooner', 0.00037230147316941588), ('chore', 0.0), ('gifts', 5.9177256074643406e-18), ('dropped', 8.8778829846448119e-05), ('vibrating', 0.0), ('introduce', 0.00018615073658470794), ('tooth', 1.0097854521804519e-06), ('configure', 0.00018615073658470794), ('instructions', 0.0), ('uses', 0.0), ('cheese', 0.0), ('headed', 0.0), ('mics', 0.0003637089320807403), ('imagine', 0.0), ('appealing', 0.0), ('pros', 0.00018615073658470794), ('learns', 0.00018615073658470794), ('excels', 0.00018615073658470794), ('rything', 0.00018615073658470794), ('essentilas', 0.00018615073658470794), ('lone', 0.0), ('00be', 0.0), ('setups', 0.0), ('notify', 0.0), ('updates', 0.0), ('id', 0.00018615073658470794), ('stand', 2.8719028332029279e-12), ('beautiful', 1.1001208629279656e-06), ('misled', 0.0), ('winner', 8.8778829846448119e-05), ('routine', 0.00017755765969289624), ('heel', 0.0), ('others', 7.1593186285710724e-05), ('humor', 5.269560591390187e-07), ('freak', 0.0), ('charm', 0.00018615073658470794), ('forgive', 0.00018615073658470794), ('silvery', 0.0), ('iphone', 0.00016036265770234833), ('industry', 0.00018615073658470794), ('unintuitive', 0.00018615073658470794), ('tinny', 0.0), ('plan', 7.1592778212524873e-05), ('period', 8.8778829846447997e-05), ('recipient', 0.00027492991731496811), ('cloud', 0.0), ('wemo', 0.0016753566292623712), ('ballet', 0.00018615073658470794), ('tonight', 0.00018615073658470794), ('movie', 0.0013918344637002932), ('understood', 8.8778829846448187e-05), ('untapped', 0.00018615073658470794), ('enjoys', 0.0), ('subscribed', 0.0), ('breadth', 0.0), ('minute', 0.0019416944454660305), ('echoes', 0.0), ('concrete', 0.0), ('stunning', 0.0), ('grace', 0.00018615073658470794), ('build', 0.0014720213040559115), ('habe', 0.00018615073658470794), ('desired', 8.8778829846448119e-05), ('packaging', 8.8778829846448146e-05), ('completion', 0.00018615073658470794), ('tasking', 0.0), ('dose', 8.8778829846448119e-05), ('newborn', 0.00037230147316941588), ('digging', 0.00018615073658470794), ('fiance', 0.0), ('personality', 1.9075221904911662e-17), ('worthless', 0.0), ('bedside', 0.0), ('promo', 0.00018615073658470794), ('sight', 0.0), ('hears', 0.00072741786416148061), ('soundtrack', 0.00018615073658470794), ('technical', 0.00027492991731496811), ('command', 0.003628496219197524), ('christ', 0.0), ('endorsed', 0.0), ('w', 0.0), ('suck', 8.8778829846448146e-05), ('pharrell', 0.0), ('road', 0.0), ('trial', 0.00083338223328228034), ('inefficient', 0.00018615073658470794), ('sorry', 0.0015522076772502933), ('360', 0.00018615073658470794), ('exact', 0.0), ('contacting', 0.0), ('laugh', 0.00027492991731496811), ('market', 0.0010195329792829476), ('female', 0.00037230147316941588), ('books', 0.0), ('loneliest', 0.0), ('travel', 0.00037230147316941588), ('enjoying', 0.0), ('besthow', 0.0), ('war', 0.0), ('gizmo', 8.8778829846448051e-05), ('mother', 5.5713250506431794e-05), ('hesitant', 0.0001775576596928961), ('pocket', 0.00037230147316941588), ('requirement', 0.00018615073658470794), ('tine', 0.00018615073658470794), ('cat', 8.8778829846448214e-05), ('wind', 0.00027492991731496811), ('challenging', 0.0), ('correctly', 0.0), ('repeated', 0.0), ('rattling', 0.0), ('arrival', 0.00018615073658470794), ('recognize', 0.0008161968202784561), ('return', 0.0025545554967557789), ('eagles', 0.0), ('gritted', 0.0), ('suppress', 0.00018615073658470794), ('aww', 0.00018615073658470794), ('date', 0.00025774136498151324), ('base', 0.001658172093893412), ('comparing', 0.0), ('navigate', 0.00018615073658470794), ('numereous', 0.00018615073658470794), ('consume', 0.0), ('angrier', 0.00018615073658470794), ('properietery', 0.00018615073658470794), ('extends', 0.00018615073658470794), ('developer', 0.0), ('register', 0.0), ('shopper', 0.00018615073658470794), ('nowhere', 5.012739713459129e-07), ('stroke', 0.00018615073658470794), ('gives', 0.0), ('customize', 0.00063863887418894472), ('translation', 0.00046108071821486984), ('adapt', 0.0), ('drove', 0.0), ('grandsons', 0.0), ('sensitivity', 8.8778829846448119e-05), ('equip', 0.00018615073658470794), ('long', 0.0018185446604037014), ('doesnt', 0.00026633648953934444), ('starter', 0.0), ('clarity', 0.0), ('boat', 8.8778829846448119e-05), ('lake', 0.00018615073658470794), ('technician', 8.8778829846447861e-05), ('laundry', 0.0), ('towards', 0.00018615073658470794), ('developed', 0.0), ('help', 0.002236658769210934), ('investigating', 0.0), ('flight', 0.00018615073658470794), ('hole', 0.00018615073658470794), ('notifications', 0.0), ('yearly', 0.00018615073658470794), ('cordless', 0.0), ('0080', 0.0), ('debued', 0.00018615073658470794), ('married', 0.0), ('overcomes', 0.00018615073658470794), ('luxury', 0.00018615073658470794), ('demand', 0.00027492991731496811), ('record', 0.00017755765969289624), ('impressive', 0.0), ('hexadecimal', 0.0), ('speed', 8.8778829846448119e-05), ('inside', 0.00017755765969289624), ('mere', 0.0), ('connected', 0.0), ('shuts', 8.8778829846448051e-05), ('utilitarian', 0.0), ('secretary', 0.0), ('reference', 0.0), ('reload', 0.0), ('endless', 0.00046108071821486984), ('assisted', 0.0), ('kardon', 0.0), ('buck', 0.0), ('pioneer', 0.0), ('status', 0.00018615073658470794), ('keyless', 0.00018615073658470794), ('jump', 0.00017755765969289624), ('interacting', 0.0), ('everybody', 0.0), ('occur', 8.8778829846448146e-05), ('generic', 0.0), ('ecobee', 0.00018615073658470794), ('wherever', 0.00037230147316941588), ('stair', 0.0), ('clue', 0.00027492991731496811), ('sufficiently', 0.00018615073658470794), ('met', 0.0), ('library', 0.0008161968202784561), ('scores', 0.0), ('simplicity', 0.0), ('city', 0.00027492991731496811), ('overly', 0.00018615073658470794), ('pain', 7.5860205925473737e-18), ('anywhere', 0.0), ('alright', 0.0), ('cause', 0.00016896201598244761), ('dj', 8.8778829846448146e-05), ('tim', 5.3087975328350543e-07), ('enabled', 0.0), ('usage', 0.0), ('android', 0.0032533418471108019), ('hands', 0.0), ('exclusively', 0.0), ('crossword', 0.00018615073658470794), ('downloaded', 0.0), ('awake', 0.0), ('enjoyment', 1.164658763171174e-17), ('eq', 0.0), ('home', 0.057291446519321255), ('complicate', 0.00027492991731496811), ('gadget', 0.0023054035910743489), ('satellite', 0.0), ('suggestions', 0.0), ('timei', 0.0), ('impaired', 0.0), ('icon', 0.0), ('hard', 0.00087919382951624607), ('verity', 0.0), ('familiy', 0.00018615073658470794), ('extensive', 0.00018615073658470794), ('feeling', 0.00018615073658470794), ('cinema', 0.00018615073658470794), ('sleeker', 0.0), ('14', 0.00027492991731496811), ('resembles', 0.00018615073658470794), ('difficulty', 0.0), ('windows', 0.00037230147316941588), ('red', 0.001658172093893412), ('ears', 0.0), ('audiophiles', 0.0), ('truncate', 0.00018615073658470794), ('daughter', 0.0016066130086562318), ('wall', 0.00026633648953934395), ('hindarance', 0.0), ('documentation', 0.0), ('playback', 0.0006472314818220102), ('keeper', 0.0), ('notification', 0.0), ('iteration', 0.0), ('route', 0.00037230147316941588), ('relay', 0.0), ('intact', 0.00018615073658470794), ('grand', 0.00037230147316941588), ('calendar', 0.0073314737994796758), ('lookup', 0.00018615073658470794), ('hook', 0.00080760340487038066), ('treating', 0.0), ('retaining', 0.0), ('musical', 8.8778829846448119e-05), ('synchronizing', 0.0), ('classical', 0.0), ('elite', 0.00018615073658470794), ('hardware', 0.00027492991731496811), ('search', 0.0055329686185784377), ('jealous', 0.0), ('plays', 0.0), ('forever', 4.5203236102894284e-07), ('expire', 0.00018615073658470794), ('remember', 0.0), ('built', 6.515793620984674e-18), ('definately', 0.0), ('instant', 0.00054985983462993622), ('grocery', 0.00033792403189098326), ('nope', 0.0), ('husbands', 0.00018615073658470794), ('occasionally', 0.00017755765969289624), ('motivate', 0.00018615073658470794), ('improvement', 0.0), ('locate', 0.00018615073658470794), ('twenty', 0.0), ('bedroom', 0.00040090649226594245), ('reviewer', 0.0), ('dressed', 0.0), ('ignores', 0.0), ('explicit', 0.0), ('espected', 0.0), ('sparingly', 0.0), ('specific', 0.00071023063877158495), ('talked', 0.0), ('competitive', 0.0), ('involved', 0.0), ('slim', 0.0), ('faithful', 0.0), ('among', 0.00018615073658470794), ('intrigued', 0.0), ('limited', 0.00045248787612606867), ('facts', 0.0), ('private', 0.00037230147316941588), ('disappointed', 0.0), ('boloney', 0.0), ('choose', 0.0020132884829765752), ('hectic', 0.00018615073658470794), ('paper', 5.2010579927582026e-07), ('dialing', 0.0), ('makes', 0.0), ('mic', 1.0461650961871522e-06), ('perk', 0.0), ('nwastrbof', 0.0), ('overlap', 0.00018615073658470794), ('misunderstood', 0.0), ('shutoff', 0.00018615073658470794), ('remarkable', 0.0), ('throughly', 0.0), ('pop', 0.00046108071821486984), ('normally', 0.00046108071821486984), ('downside', 8.8778829846448119e-05), ('station', 9.4457436666813195e-141), ('capacity', 0.00027492991731496811), ('encompassing', 0.0), ('overrate', 0.00018615073658470794), ('entertained', 0.00018615073658470794), ('click', 8.8778829846448119e-05), ('sens', 0.0), ('living', 0.0010997196692598724), ('lenovo', 0.00018615073658470794), ('axe', 0.00018615073658470794), ('laptaps', 0.00018615073658470794), ('porch', 0.00018615073658470794), ('appartment', 0.0), ('updated', 0.0), ('increased', 0.0), ('groupon', 0.00018615073658470794), ('garbage', 0.00018615073658470794), ('delete', 0.0), ('callender', 0.00018615073658470794), ('compel', 0.00018615073658470794), ('piano', 0.00018615073658470794), ('camera', 0.0), ('ontune', 0.0), ('bedroon', 0.0), ('yr', 0.00027492991731496811), ('40', 1.3503746200011719e-17), ('initially', 0.00017755765969289391), ('automatically', 0.0), ('asks', 0.00018615073658470794), ('various', 0.00025774136499106181), ('asset', 0.0), ('flooded', 0.0), ('cleaver', 0.0), ('valentines', 0.0), ('gray', 0.0), ('remains', 0.0), ('requestedaaa', 0.0), ('meantime', 0.00018615073658470794), ('empty', 0.00018615073658470794), ('availabe', 0.00018615073658470794), ('took', 0.0), ('interfere', 0.00018615073658470794), ('accomplish', 0.0), ('harder', 0.0), ('particular', 8.8778829846448119e-05), ('eyesight', 0.00037230147316941588), ('entiende', 0.0), ('arrived', 8.0181320641989614e-05), ('router', 0.00054985983462993622), ('isnt', 0.00018615073658470794), ('informs', 0.0), ('evar', 0.00018615073658470794), ('political', 8.8778829846448119e-05), ('soundbar', 0.0), ('strip', 0.0), ('minimal', 8.8778829846448119e-05), ('flawlessly', 0.00054985983462993622), ('grant', 0.00018615073658470794), ('static', 0.00037230147316941588), ('dining', 0.0), ('accept', 0.00027492991731496811), ('dime', 0.0), ('trainer', 0.0), ('lol', 0.00082478975194490449), ('ones', 0.0), ('amplifier', 0.0), ('godda', 0.0), ('inferior', 0.0), ('tv', 0.0033449729677353891), ('distance', 0.00046108071821486984), ('stereo', 0.0), ('software', 0.00053267297907868855), ('0099', 0.0), ('comparable', 0.0), ('lock', 0.00063863887418894472), ('companion', 0.00018615073658470794), ('precision', 0.00018615073658470794), ('listener', 8.8778829846448119e-05), ('memorizing', 0.0), ('listens', 1.3409314408403246e-17), ('turn', 0.0037630867516466825), ('monthly', 0.0), ('mastermind', 0.00018615073658470794), ('hugely', 0.00018615073658470794), ('hockey', 0.0), ('difficut', 0.00018615073658470794), ('interaction', 0.00093075368292353953), ('seek', 8.8778829846448119e-05), ('community', 0.00018615073658470794), ('chime', 0.00018615073658470794), ('profile', 0.00055845220975412355), ('partner', 0.00074460294633883176), ('literally', 0.0), ('sec', 0.0), ('wow', 0.00046108071821486984), ('apparently', 0.00046108071821486984), ('volume', 6.3333779778110435e-05), ('infancy', 0.00018615073658470794), ('mac', 0.0), ('maker', 0.0), ('large', 6.3251908926674887e-05), ('sync', 0.0006472314818220102), ('curve', 3.3183232103063794e-12), ('guide', 0.0), ('enthusiasm', 0.00018615073658470794), ('dimming', 0.0), ('outrageous', 0.0), ('incorrect', 7.20829342611348e-18), ('disabled', 0.0), ('plastic', 0.0), ('waist', 0.0), ('finicky', 0.0), ('eco', 0.0), ('fell', 8.8778829846448146e-05), ('keeps', 0.0), ('pod', 0.0), ('saving', 0.0), ('mart', 0.00055845220975412355), ('appointment', 0.0014806137169876027), ('concept', 0.0), ('pickup', 0.00037230147316941588), ('leaving', 0.0), ('occasion', 8.8778829846447455e-05), ('complement', 0.0), ('usability', 8.8778829846448146e-05), ('match', 1.0765224243365984e-17), ('exercise', 0.00018615073658470794), ('tone', 1.7218063336611682e-17), ('territory', 0.00018615073658470794), ('hidden', 0.00018615073658470794), ('personalize', 8.8778829846448119e-05), ('fi', 0.0020304736439749112), ('hype', 0.0), ('interactive', 5.2257128816564144e-07), ('island', 0.00018615073658470794), ('tether', 0.0), ('recording', 0.0), ('unfortunate', 0.0), ('goes', 0.0), ('modern', 0.0), ('type', 0.00082478975194490449), ('store', 0.0015693929247259082), ('categories', 0.0), ('goigleand', 0.00018615073658470794), ('yay', 0.0), ('followed', 0.0), ('pas', 0.00018615073658470794), ('provides', 0.0), ('touch', 0.00026633648953934433), ('ease', 0.0014634286444815279), ('hamilton', 0.00018615073658470794), ('googlewill', 0.00018615073658470794), ('37', 0.00018615073658470794), ('brighten', 0.00018615073658470794), ('revolve', 0.0), ('applied', 0.0), ('creation', 0.00018615073658470794), ('necessary', 0.0006472314818220102), ('paired', 0.0), ('wowesome', 0.00018615073658470794), ('ultimately', 0.00018615073658470794), ('guilardi', 0.00018615073658470794), ('pesky', 0.0), ('receptacles', 0.0), ('whenever', 3.7842067760237811e-07), ('decend', 0.0), ('looking', 0.0), ('wished', 8.8778829846448146e-05), ('six', 8.0181326613228268e-05), ('penny', 0.0), ('slowly', 8.8778829846448119e-05), ('doorbell', 0.0), ('costco', 0.00018615073658470794), ('replacements', 0.0), ('sky', 0.00018615073658470794), ('meanwhile', 8.8778829846448146e-05), ('junk', 0.0), ('foliage', 0.0), ('unnecessary', 0.00037230147316941588), ('cumbersome', 0.0), ('accurate', 0.00026633648953934455), ('presentation', 0.00018615073658470794), ('opinion', 0.00017755765969289624), ('memory', 0.0003637089320807403), ('hue', 0.002500146699846841), ('economical', 0.0), ('acknowledge', 0.0), ('fascinated', 0.0), ('thrilled', 5.3709665018701242e-07), ('advertise', 0.00073601065202795577), ('tastes', 0.0), ('protect', 8.8778829846448146e-05), ('corporate', 8.8778829846448119e-05), ('french', 0.00055845220975412355), ('rocks', 0.0), ('ton', 0.00027492991731496811), ('robot', 0.00018615073658470794), ('grip', 0.0), ('linked', 0.0), ('cellphone', 0.0), ('vast', 0.00055845220975412355), ('flawless', 0.00018615073658470794), ('development', 0.0006472314818220102), ('learning', 0.0), ('units', 0.0), ('refuse', 8.8778829846448119e-05), ('copyright', 0.00018615073658470794), ('availability', 0.00018615073658470794), ('jet', 0.00018615073658470794), ('replies', 0.0), ('excite', 0.00073601065202795577), ('trek', 0.0), ('newly', 0.0), ('norwegian', 0.00018615073658470794), ('sick', 0.0), ('temp', 0.00037230147316941588), ('heard', 0.00025774136497259021), ('unhelpful', 0.0), ('transform', 0.0), ('benefit', 7.8378387035033033e-18), ('fit', 0.0003637089320807403), ('girls', 0.0), ('decide', 0.0010023478131194607), ('payment', 0.0), ('instructed', 0.0), ('delivery', 0.00063863887418894472), ('pound', 0.00037230147316941588), ('gotta', 0.0), ('pronounciation', 0.00018615073658470794), ('lasted', 0.0), ('consideration', 0.0), ('everyone', 0.00107393996156637), ('understandable', 8.8778829846448119e-05), ('raise', 0.0), ('fe0f', 0.0), ('holiday', 7.1589627373007151e-05), ('improve', 0.00062145180892513615), ('preferences', 0.0), ('dynamic', 0.0), ('fibe', 0.0), ('absence', 0.00018615073658470794), ('tvs', 0.00018615073658470794), ('mistaken', 0.0), ('299', 0.0), ('intercom', 0.0), ('inexpensive', 0.00018615073658470794), ('morning', 0.0009507822879540618), ('banana', 0.00018615073658470794), ('goose', 0.00018615073658470794), ('mobile', 5.1293827426262047e-07), ('application', 0.0006472314818220102), ('jot', 0.0), ('wink', 5.4842258223154173e-07), ('optimize', 0.00018615073658470794), ('mad', 0.00055845220975412355), ('favorite', 0.00048968833716938351), ('yo', 0.00018615073658470794), ('struggle', 0.00018615073658470794), ('link', 0.0016323936405569122), ('dc', 0.0), ('details', 0.0), ('echo', 7.6919277984266422e-12), ('prevent', 8.8778829846448146e-05), ('true', 1.1142951409799878e-17), ('niece', 8.8778829846448146e-05), ('dropping', 0.0), ('verbal', 0.00046108071821486984), ('devil', 0.0), ('powerful', 8.8778829846448051e-05), ('aux', 0.0), ('male', 0.00017755765969289629), ('sucks', 0.0), ('songs', 0.0), ('bowl', 0.0), ('xmas', 0.0010109405768992062), ('custom', 0.00018615073658470794), ('79', 1.7060677017264225e-17), ('creepy', 4.9018440196224122e-07), ('remotely', 0.0), ('devoloped', 0.00018615073658470794), ('money', 0.0015092401073896018), ('wake', 0.00068444488858482463), ('unir', 0.00018615073658470794), ('limlted', 0.0), ('research', 0.0003637089320807403), ('improvment', 0.0), ('readily', 0.00018615073658470794), ('speakerphone', 0.00018615073658470794), ('lip', 0.00018615073658470794), ('happen', 0.00082478975194490449), ('powered', 0.0), ('hiccup', 0.00018615073658470794), ('mummy', 0.0), ('yard', 0.00018615073658470794), ('rep', 8.0181333984701844e-05), ('spotify', 0.00095078228795209918), ('suddenly', 8.8778829846448214e-05), ('household', 0.00026633648953934455), ('monk', 0.0), ('install', 0.00054126678351213862), ('successfully', 0.00017755765969289624), ('extension', 0.00093075368292353953), ('anybody', 0.00018615073658470794), ('intermittenently', 0.00018615073658470794), ('disagree', 0.0), ('ugh', 0.0), ('feel', 0.002093474615649309), ('truth', 0.0), ('college', 8.8778829846448214e-05), ('dependent', 0.00018615073658470794), ('according', 0.0), ('event', 0.0017641359433562902), ('avao', 0.00018615073658470794), ('briefings', 0.0), ('daily', 0.00077322409494951525), ('artificial', 0.00037230147316941588), ('ocean', 8.8778829846448119e-05), ('coffee', 0.00018615073658470794), ('phisical', 0.0), ('babe', 0.00018615073658470794), ('choice', 0.00062145180892513735), ('determine', 0.0), ('irrigation', 0.00018615073658470794), ('joy', 5.4533112351353704e-07), ('equally', 0.00018615073658470794), ('die', 8.8778829846448146e-05), ('regularly', 8.0181328550354834e-05), ('registering', 0.0), ('giggle', 0.0), ('text', 0.0010109405768992062), ('hugs', 0.00018615073658470794), ('tout', 0.0), ('operational', 0.0), ('converse', 0.00018615073658470794), ('manages', 8.8778829846448051e-05), ('frozen', 0.0), ('350', 0.00018615073658470794), ('end', 0.00099375466640362555), ('slackers', 0.0), ('enjoyed', 1.7639103218130001e-14), ('lacking', 0.0), ('hurry', 0.0), ('bibical', 0.0), ('sounds', 0.0), ('goggle', 0.00037230147316941588), ('choices', 0.0), ('real', 0.00043529940864311419), ('expand', 0.0010195329792829476), ('box', 0.0023855901751696743), ('low', 0.00024914406153931241), ('tons', 0.0), ('ed', 0.0), ('job', 1.5123078560248973e-06), ('sleep', 0.00016036265309316594), ('watch', 0.00082478975194490449), ('fracture', 0.0), ('machine', 1.0662079280608697e-06), ('father', 8.8778829846448119e-05), ('downright', 0.0), ('info', 0.0019416944454660305), ('heavy', 0.0), ('hundreds', 0.00018615073658470794), ('afforded', 0.0), ('element', 0.00018615073658470794), ('par', 0.0), ('okay', 0.00091356880131541291), ('0091', 0.0), ('young', 0.00055845220975412355), ('importantly', 8.8778829846448119e-05), ('pleased', 5.5516531042877507e-05), ('friend', 0.0016066130086562318), ('hijinks', 0.0), ('charging', 0.0), ('tellls', 0.0), ('bike', 0.0), ('office', 0.00016896201593252219), ('till', 0.00037230147316941588), ('rechargeable', 0.0), ('integrate', 0.0012944629636440204), ('measurement', 0.00046108071821486984), ('basement', 0.0), ('sign', 5.3993465882198147e-07), ('ventura', 0.00018615073658470794), ('canr', 0.00018615073658470794), ('understands', 0.00063004566945105967), ('rob', 0.0), ('factory', 0.00018615073658470794), ('prompt', 0.00016896201599097632), ('misaligned', 0.0), ('suppose', 0.00017755765969289629), ('loose', 0.0), ('honesty', 0.0), ('days', 0.0), ('devise', 8.8778829846448146e-05), ('king', 0.00018615073658470794), ('coin', 0.00018615073658470794), ('ect', 8.8778829846448146e-05), ('folk', 8.8778829846448214e-05), ('attractive', 0.00027492991731496811), ('prior', 0.0), ('worker', 0.00018615073658470794), ('loyal', 0.0), ('homework', 0.0010195329792829476), ('glorified', 0.0), ('spec', 0.0), ('difference', 0.00054126678351213862), ('bypass', 0.00018615073658470794), ('harmony', 0.00054985983462993622), ('completely', 0.00073601065202795577), ('heart', 0.00037230147316941588), ('system', 0.0021736604547474784), ('cake', 8.8778829846448119e-05), ('manual', 0.0), ('burnt', 0.00018615073658470794), ('oz', 0.00018615073658470794), ('german', 0.0), ('printer', 8.8778829846448119e-05), ('somewhere', 0.0), ('percent', 0.00055845220975412355), ('loves', 0.0), ('distorted', 0.0), ('album', 0.00017755765969289572), ('chromebooks', 0.0), ('enforcement', 0.0), ('disappointment', 1.104149223726028e-06), ('fav', 0.0), ('reinstall', 0.0), ('pause', 0.00083338223328228034), ('grampa', 0.00018615073658470794), ('argument', 0.00027492991731496811), ('do', 0.0018529152135164627), ('reached', 0.0), ('warm', 0.00037230147316941588), ('straight', 8.8778829846448146e-05), ('fill', 0.0002577413649875297), ('meets', 0.0), ('unplugged', 0.0), ('reaching', 0.0), ('lightbulbs', 0.00037230147316941588), ('trust', 0.00018615073658470794), ('suggest', 8.8778829846448119e-05), ('dad', 0.0011083122046180961), ('group', 0.0010195329792829476), ('aaaa', 0.00018615073658470794), ('millennial', 0.00018615073658470794), ('category', 0.0), ('gear', 0.0), ('foreign', 0.0), ('wire', 0.00027492991731496811), ('metal', 0.00018615073658470794), ('bus', 0.00018615073658470794), ('intelligent', 0.00054985983462993622), ('sprinkler', 8.8778829846448187e-05), ('block', 0.0), ('retire', 0.00037230147316941588), ('definate', 0.0), ('annoy', 0.00016896201585135193), ('aside', 5.4309660859916539e-07), ('guessing', 0.0), ('rock', 0.0), ('17wow', 0.0), ('hoped', 0.0), ('needed', 0.0), ('staying', 0.0), ('outlet', 0.0003637089320807403), ('drama', 0.00037230147316941588), ('nursery', 0.0), ('al', 0.0), ('wide', 5.059261558635142e-07), ('oil', 0.00018615073658470794), ('spying', 0.0), ('last', 0.0), ('lumineersalexa', 0.0), ('liking', 0.0), ('assistance', 5.7581670947792024e-07), ('writing', 0.00018615073658470794), ('sort', 2.6240005568268909e-12), ('frustrating', 0.0), ('crap', 0.0), ('jokes', 5.1818711487424062e-07), ('brag', 0.0), ('sorely', 0.0), ('disappoint', 2.0712039626125199e-17), ('hundred', 0.00046108071821486984), ('noon', 0.0), ('school', 0.0006472314818220102), ('techie', 0.00018615073658470794), ('promoted', 0.0), ('wireless', 0.0002491440647621341), ('l', 0.00037230147316941588), ('treat', 8.8778829846448214e-05), ('surprisingly', 0.00016896201596170937), ('fir', 0.0), ('impressed', 0.00033792403186644441), ('chromocast', 0.00018615073658470794), ('internet', 0.0011455303798911739), ('installation', 0.00017755765969289637), ('orange', 0.00018615073658470794), ('inquiry', 0.00018615073658470794), ('train', 8.8778829846447333e-05), ('target', 0.0), ('counter', 0.00055845220975412355), ('monday', 0.00018615073658470794), ('boggling', 0.0), ('told', 0.0), ('establish', 0.00018615073658470794), ('eight', 0.00018615073658470794), ('sum', 0.00018615073658470794), ('service', 0.003866204053875358), ('blown', 0.0), ('scream', 0.00055845220975412355), ('era', 0.0), ('reminding', 0.0), ('case', 0.0003637089320807403), ('sensitive', 0.0), ('member', 0.00091356880131541291), ('teenage', 0.0), ('email', 0.00054126678351213862), ('marsh', 0.0), ('design', 0.00090497575225213735), ('concern', 0.00027492991731496811), ('rwview', 0.00018615073658470794), ('novelty', 0.00083338223328228034), ('pen', 0.00018615073658470794), ('deep', 0.0), ('impress', 0.00044389414923224089), ('telephone', 0.0), ('uiur', 0.00018615073658470794), ('residential', 0.00018615073658470794), ('undetermined', 0.00018615073658470794), ('alike', 0.00018615073658470794), ('kick', 0.00017755765969289629), ('functioned', 0.0), ('accessories', 0.0), ('neighbor', 0.00037230147316941588), ('value', 0.0010997196692598724), ('laminate', 0.0), ('reset', 0.00016896201587268691), ('notch', 8.8778829846448146e-05), ('sounded', 0.0), ('snarkily', 0.0), ('alexaone', 0.0), ('earlier', 8.8778829846448119e-05), ('dance', 5.1153510769522884e-07), ('hiccups', 0.0), ('pronounce', 8.8778829846447956e-05), ('instruction', 0.00072741786416148061), ('abysmal', 0.00018615073658470794), ('capital', 0.00046108071821486984), ('girl', 0.00037230147316941588), ('lady', 0.00018615073658470794), ('port', 8.8778829846448119e-05), ('wisecrack', 0.00018615073658470794), ('sounding', 0.0), ('giddy', 0.0), ('desk', 0.0), ('component', 0.0), ('retail', 0.00018615073658470794), ('consistently', 0.00018615073658470794), ('cyber', 0.00018615073658470794), ('compatibilty', 0.00018615073658470794), ('attach', 0.00037230147316941588), ('fullest', 0.0), ('enjoyable', 5.257486308451138e-07), ('complication', 0.00018615073658470794), ('picky', 0.0), ('chinese', 0.0), ('consider', 0.00045248787612606867), ('source', 0.002225216702192528), ('depend', 0.00018615073658470794), ('word', 0.00088778829846448016), ('manager', 0.0), ('downfall', 0.0), ('naturally', 0.00037230147316941588), ('result', 0.00063004566945105967), ('actuelle', 0.00018615073658470794), ('predict', 0.0), ('explanation', 0.00018615073658470794), ('mba', 0.0), ('degree', 8.8778829846448119e-05), ('defrost', 0.00018615073658470794), ('adapter', 0.0), ('incorporate', 0.00018615073658470794), ('flour', 0.00018615073658470794), ('takes', 0.0), ('blue', 0.00054985983462993622), ('requesting', 0.0), ('beauty', 0.00037230147316941588), ('undoubtedly', 0.00018615073658470794), ('mud', 0.0), ('calenda', 0.00018615073658470794), ('misery', 0.0), ('present', 0.00099375466640362555), ('weak', 0.0), ('cute', 0.0), ('drink', 5.623488140951211e-07), ('complaiint', 0.00018615073658470794), ('conversation', 0.00083338223328228034), ('teach', 0.00017755765969289486), ('stealth', 0.0), ('term', 0.0003637089320807403), ('currently', 0.00035511531938579248), ('hoping', 0.0), ('hot', 0.00027492991731496811), ('calen', 0.00018615073658470794), ('deeper', 0.0), ('mon', 0.0), ('message', 0.00073601065202795577), ('shut', 0.00017755765969289624), ('engine', 0.00055845220975412355), ('offer', 0.00080760340487038066), ('comment', 0.00037230147316941588), ('video', 0.00092216143642973969), ('filter', 0.0), ('seat', 0.00018615073658470794), ('sister', 8.0181315789022871e-05), ('offered', 0.0), ('break', 8.877882984644553e-05), ('bathroom', 0.0), ('wine', 0.0), ('soooo', 0.00018615073658470794), ('nature', 5.6063639219000755e-07), ('kidding', 0.0), ('additional', 0.00016896201594823686), ('original', 0.0), ('stone', 0.00018615073658470794), ('polite', 0.0), ('unfortunately', 0.00025774136498152333), ('started', 0.0), ('handily', 0.0), ('seamless', 0.00046108071821486984), ('apparent', 0.00018615073658470794), ('kwikset', 0.0), ('downstairs', 0.0), ('stylish', 8.8778829846448146e-05), ('smooth', 8.8778829846448146e-05), ('disagreement', 0.00018615073658470794), ('happier', 3.624808385156866e-07), ('iot', 0.00037230147316941588), ('pertain', 0.00018615073658470794), ('perfectly', 6.3217309346925329e-05), ('disapionted', 0.00018615073658470794), ('drop', 0.0), ('utility', 0.00018615073658470794), ('detailed', 0.00018615073658470794), ('screwed', 0.0), ('tutorial', 0.0), ('plataform', 0.0), ('sooo', 0.0), ('ring', 0.0), ('members', 0.0), ('packages', 0.0), ('0098', 0.0), ('switch', 0.00034652043785274349), ('personnel', 0.0), ('marysville', 0.0), ('feed', 8.8778829846448119e-05), ('eclipse', 0.0), ('costly', 0.00018615073658470794), ('amazon', 0.0075060593194072973), ('b', 0.0), ('unpacking', 0.0), ('rotate', 0.0), ('minus', 0.0), ('ride', 8.8778829846448146e-05), ('fart', 0.0), ('comands', 0.0), ('ignore', 5.3038611131610894e-07), ('bug', 8.8778829846448146e-05), ('sleek', 0.0), ('theymarket', 0.0), ('prefect', 0.0), ('convert', 0.00018615073658470794), ('noticeably', 8.8778829846448119e-05), ('ear', 0.0), ('color', 0.0010825335670242772), ('beautifully', 8.8778829846447997e-05), ('diminish', 0.0), ('bridge', 0.00037230147316941588), ('arrive', 0.00093075368292353953), ('frightening', 0.00018615073658470794), ('bose', 1.5979300034796365e-06), ('bonus', 0.00037230147316941588), ('alexas', 0.00037230147316941588), ('level', 0.001366056748409866), ('show', 0.0011455303798911555), ('diameter', 0.00018615073658470794), ('effect', 0.0), ('thumbs', 0.00018615073658470794), ('selection', 0.00016896201565287048), ('reasonable', 5.4719215024970365e-07), ('heather', 0.0), ('imply', 0.00018615073658470794), ('process', 0.0), ('owned', 0.0), ('sony', 0.0), ('kinds', 0.00017755765969289599), ('warning', 0.0), ('worried', 0.0), ('thermometer', 0.00018615073658470794), ('shipment', 0.00018615073658470794), ('iris', 0.00018615073658470794), ('organize', 0.00046108071821486984), ('100', 0.0011884987238887862), ('positive', 0.0), ('casual', 0.0), ('constantly', 0.00053267297907868833), ('track', 0.00054985983462993622), ('frustrate', 8.8778829846448051e-05), ('freshener', 0.00037230147316941588), ('quickly', 0.00052407833052024451), ('fight', 8.8778829846448146e-05), ('gap', 0.0), ('governer', 0.00018615073658470794), ('dementia', 0.00018615073658470794), ('hen', 0.00018615073658470794), ('matter', 8.0181327097368611e-05), ('faster', 8.8778829846448119e-05), ('requires', 0.0), ('waited', 0.0), ('mom', 0.00016896201590986055), ('lull', 0.00018615073658470794), ('clean', 0.0), ('purchase', 0.005137737726516209), ('version', 0.0), ('ehhh', 0.0), ('plug', 0.0010825335670242772), ('competing', 0.0), ('elicit', 0.0), ('f', 0.00018615073658470794), ('offensive', 0.0), ('intelligence', 0.00093075368292353953), ('kind', 0.00090497575225213735), ('plugs', 8.8778829846448119e-05), ('ooo', 0.0), ('1970', 0.0), ('tremendously', 0.0), ('calls', 0.0), ('deadbolt', 0.00018615073658470794), ('accent', 0.0), ('equalization', 0.0), ('melwin', 0.0), ('misunderstand', 0.0), ('advertised', 2.6344687616083844e-12), ('fashion', 0.00018615073658470794), ('contract', 0.0), ('enamored', 0.00018615073658470794), ('peace', 0.00037230147316941588), ('sonoff', 0.0), ('accomodate', 0.0), ('area', 0.00045248787612606867), ('googler', 0.00018615073658470794), ('push', 0.0), ('gladly', 0.0), ('electronic', 0.00027492991731496811), ('gmail', 0.00037230147316941588), ('pathetic', 0.0), ('select', 8.8778829846448146e-05), ('irritant', 0.0), ('auxiliary', 0.0), ('lutron', 0.0), ('remembers', 0.00018615073658470794), ('elderly', 0.00027492991731496811), ('calculator', 0.00018615073658470794), ('faith', 0.00037230147316941588), ('ex', 0.00018615073658470794), ('semantics', 0.00018615073658470794), ('trying', 0.0), ('homekit', 0.0), ('apis', 0.00037230147316941588), ('lie', 0.0), ('continual', 0.00018615073658470794), ('database', 8.8778829846448146e-05), ('shelf', 0.0), ('products', 0.0), ('external', 0.0), ('burn', 0.00018615073658470794), ('anxious', 0.00018615073658470794), ('everyday', 0.00051548272997299855), ('communication', 0.00017755765969289624), ('gonna', 0.00017755765969289561), ('thus', 5.264991533820368e-07), ('cook', 0.0013918344637002932), ('skill', 4.4068169417282916e-19), ('thisbis', 0.0), ('thinking', 8.0181329266150515e-05), ('lazy', 4.5328617505397765e-07), ('presently', 0.0), ('problems', 0.0), ('tom', 0.0), ('lots', 5.0742475526947931e-07), ('shelving', 0.0), ('page', 0.0), ('complete', 0.00045248787612606867), ('addressed', 0.0), ('giant', 0.0), ('loving', 0.0), ('locura', 0.0), ('possibility', 8.0181317881377359e-05), ('drunk', 0.0), ('step', 0.0), ('newer', 1.2464996492318511e-17), ('ai', 0.00025774136494474377), ('preheat', 0.00018615073658470794), ('function', 0.0011627188070312132), ('misplace', 0.00018615073658470794), ('relatively', 5.7631633990420785e-07), ('perfecting', 0.0), ('efficiency', 0.0), ('attempt', 0.00018615073658470794), ('periodically', 0.0), ('systems', 0.0), ('supporter', 0.0), ('sing', 0.00027492991731496811), ('stubhub', 0.00018615073658470794), ('deserve', 0.0), ('existent', 0.00018615073658470794), ('evernote', 0.00018615073658470794), ('ios', 0.0), ('item', 0.0046738085943544569), ('stove', 0.0), ('schedule', 0.00054985983462993622), ('multiroom', 0.00018615073658470794), ('hmmm', 0.0), ('refinement', 0.0), ('fifty', 0.00018615073658470794), ('brain', 0.0), ('limit', 0.0014892058926776635), ('concerned', 0.0), ('entered', 0.0), ('underwhelming', 0.0), ('purchased', 0.0), ('mistake', 0.00055845220975412355), ('goodnight', 0.00055845220975412355), ('treble', 0.0), ('yeah', 0.00037230147316941588), ('g', 4.833828689748402e-12), ('alittle', 0.0), ('dinner', 0.0006472314818220102), ('draw', 0.0), ('easiest', 0.0), ('walmart', 0.0030671911097307045), ('former', 0.0), ('intent', 0.0), ('moment', 0.0011169044195082471), ('hop', 0.00055845220975412355), ('mode', 0.0), ('soft', 0.0003637089320807403), ('report', 1.053736233966472e-06), ('visually', 0.0), ('claim', 0.0003637089320807403), ('alternative', 0.0), ('reactive', 0.00018615073658470794), ('issues', 0.0), ('nicely', 0.00046108071821486984), ('umpteen', 0.0), ('own', 0.00054985983462993622), ('ad', 0.0), ('setup', 0.0025201826778042387), ('29', 0.0), ('redeem', 0.00018615073658470794), ('adjustment', 0.0), ('visual', 8.8778829846448119e-05), ('requiring', 0.0), ('poise', 0.00018615073658470794), ('bread', 0.0), ('outruns', 0.00018615073658470794), ('phoning', 0.0), ('strap', 0.00018615073658470794), ('pro', 0.00055845220975412355), ('shop', 0.0031473781843256374), ('interpret', 0.00018615073658470794), ('small', 0.00010514577559518097), ('fix', 1.8634540210738782e-17), ('nada', 0.0), ('shape', 0.00018615073658470794), ('timer', 0.003113008155865698), ('fast', 0.0024027751700157313), ('brings', 0.0), ('shooting', 0.0), ('clearly', 0.00046108071821486984), ('contain', 0.00018615073658470794), ('helper', 0.00018615073658470794), ('ga', 0.00018615073658470794), ('convenient', 0.00079900946861803331), ('cromcast', 0.00018615073658470794), ('https', 0.00018615073658470794), ('commercial', 0.00025774136498232992), ('decent', 0.0012858704985482378), ('cooking', 1.0544883396279546e-17), ('package', 3.6133239722924202e-12), ('discontinue', 0.0), ('bake', 0.00027492991731496811), ('middle', 0.0), ('transfer', 0.00018615073658470794), ('dollar', 0.0014892058926776635), ('success', 0.0), ('finger', 0.00017755765969289624), ('history', 0.0), ('dolby', 0.0), ('manage', 0.00017755765969289624), ('smartphones', 0.0), ('contextual', 0.00018615073658470794), ('needing', 8.8778829846448119e-05), ('lark', 0.00018615073658470794), ('corner', 0.00018615073658470794), ('26', 0.0), ('lame', 0.00027492991731496811), ('heat', 8.8778829846448119e-05), ('passport', 0.00018615073658470794), ('universal', 0.00018615073658470794), ('noise', 0.0003637089320807403), ('tree', 0.0), ('neutral', 0.0), ('lights', 0.0), ('ten', 0.0010195329792829476), ('supervisor', 0.00037230147316941588), ('associated', 0.0), ('trivial', 0.0), ('w9_qly8vs', 0.00018615073658470794), ('rate', 2.1561925750601467e-17), ('fall', 9.2857928414998997e-18), ('requests', 0.0), ('breeze', 0.00073601065202795577), ('dont', 0.00027492991731496811), ('taste', 0.00018615073658470794), ('lows', 0.0), ('lack', 0.0012944629636440204), ('struggled', 0.0), ('kid', 0.00375164704713131), ('relate', 0.00018615073658470794), ('ultra', 0.00018615073658470794), ('12', 1.0009769910498197e-17), ('precious', 0.0), ('usb', 0.00037230147316941588), ('bucks', 0.0), ('connection', 0.00071023063877158495), ('vue', 0.0), ('accounts', 0.0), ('face', 0.00017755765969289624), ('access', 0.0018099515045042747), ('played', 2.014544887647436e-17), ('collect', 0.00027492991731496811), ('rectify', 0.00018615073658470794), ('vibrant', 0.0), ('astounded', 0.0), ('hoop', 0.00018615073658470794), ('streaming', 8.8778829846448119e-05), ('prayer', 0.0), ('giving', 0.0), ('generate', 0.00018615073658470794), ('womderful', 0.0), ('kansa', 0.0), ('fee', 0.00054126678351213862), ('change', 0.001915916622566834), ('9th', 0.0), ('dead', 0.00018615073658470794), ('satisfy', 0.00037230147316941588), ('awareness', 0.00037230147316941588), ('youngster', 0.00018615073658470794), ('wright', 0.00037230147316941588), ('arm', 0.00018615073658470794), ('buzz', 0.00018615073658470794), ('beside', 0.00018615073658470794), ('reminders', 5.2862907970817834e-07), ('magic', 8.8778829846448051e-05), ('blare', 0.0), ('environment', 0.0), ('steal', 0.00018615073658470794), ('switches', 0.0), ('smartthings', 0.00027492991731496811), ('apple', 2.5877319018804897e-06), ('produce', 5.7968647482248137e-07), ('stopped', 0.0), ('impression', 0.00018615073658470794), ('check', 0.0010997196692598724), ('background', 0.0001603626568220203), ('customizable', 0.00018615073658470794), ('operate', 0.0011083122046180961), ('existing', 0.0), ('inconvenient', 0.0), ('tunein', 0.0), ('cross', 0.0), ('philip', 0.00091356880131541291), ('provided', 0.0), ('overcome', 0.00018615073658470794), ('million', 0.0), ('definitely', 0.0017297656823526647), ('adaptable', 0.00018615073658470794), ('located', 0.0), ('th', 0.0), ('lmao', 0.00018615073658470794), ('309', 0.0), ('interface', 0.00046108071821486984), ('alex', 0.0), ('self', 8.8778829846448119e-05), ('bing', 0.00027492991731496811), ('except', 1.445552095474284e-06), ('patient', 0.00027492991731496811), ('knew', 0.0), ('loudly', 0.00018615073658470794), ('perfect', 0.00087059881728694536), ('overall', 0.00087919382951622059), ('trane', 0.0), ('administrative', 0.00018615073658470794), ('receipt', 0.00018615073658470794), ('soccer', 0.00018615073658470794), ('instal', 0.00037230147316941588), ('mellow', 0.00018615073658470794), ('floor', 0.0), ('pepperoni', 0.0), ('seemingly', 0.00074460294633883176), ('anyways', 0.00018615073658470794), ('focus', 0.00018615073658470794), ('therein', 0.0), ('exhausted', 0.0), ('actual', 0.00018615073658470794), ('screen', 8.8778829846448187e-05), ('justify', 0.00018615073658470794), ('often', 4.9480082603339418e-05), ('spouse', 0.0), ('dispatcher', 0.0), ('combine', 0.00018615073658470794), ('hell', 0.0), ('un', 0.0), ('samsung', 0.00074460294633883176), ('enable', 0.0010109405768992062), ('provider', 8.8778829846448119e-05), ('addons', 0.00018615073658470794), ('babble', 0.0), ('approach', 0.00018615073658470794), ('chromecast', 0.0042814669414482816), ('stories', 0.0), ('power', 0.0010997196692598724), ('population', 0.00018615073658470794), ('unassuming', 0.00018615073658470794), ('site', 0.00046108071821486984), ('passed', 0.0), ('expected', 0.0), ('nutrition', 0.00018615073658470794), ('worked', 1.5955428375337699e-297), ('run', 0.0012944629636440204), ('acre', 0.0), ('m', 0.00018615073658470794), ('typical', 0.00037230147316941588), ('thumb', 0.0), ('picture', 0.0), ('pci', 0.0), ('connect', 0.0043731001885670686), ('itfound', 0.0), ('youtube', 0.0039005733645062911), ('called', 0.0), ('throw', 0.00027492991731496811), ('thank', 2.7178845073768378e-06), ('restrain', 0.0), ('finding', 0.0), ('weaker', 0.0), ('websearch', 0.0), ('confusion', 0.0), ('devices', 0.0), ('information', 0.0039922051561843766), ('brifing', 0.0), ('wit', 0.00018615073658470794), ('imagined', 0.0), ('basically', 0.0003637089320807403), ('200', 0.0), ('deliver', 0.0003637089320807403), ('accessing', 0.0), ('reboot', 2.7073202240925532e-07), ('web', 0.0003637089320807403), ('alone', 4.0920443030338512e-18), ('sleeve', 0.0), ('competitor', 0.00055845220975412355), ('capabilities', 5.299640753010061e-07), ('uncertain', 0.0), ('lifx', 0.00093075368292353953), ('arthritic', 0.00018615073658470794), ('resulted', 0.0), ('data', 0.0003637089320807403), ('multiple', 0.00042670349582090751), ('plant', 0.0), ('versatile', 0.0), ('xm', 0.0), ('lolduring', 0.0), ('appliances', 0.0), ('screw', 0.0), ('late', 1.0257246429174117e-06), ('responses', 0.0), ('uber', 0.00046108071821486984), ('fith', 0.00018615073658470794), ('cohen', 0.0), ('podcasts', 0.00046108071821486984), ('flip', 5.4285481904589143e-07), ('peanut', 0.0), ('options', 0.0), ('edition', 0.0), ('common', 8.8778829846447997e-05), ('club', 0.00037230147316941588), ('blend', 3.4541748720040855e-07), ('mislead', 0.00018615073658470794), ('israelite', 0.0), ('con', 0.0011083122046180961), ('sample', 0.0), ('release', 0.00092216143642973969), ('relevant', 0.00018615073658470794), ('pouch', 0.00018615073658470794), ('unlimited', 0.0), ('integrates', 0.00037230147316941588), ('00a4', 0.0), ('shaky', 0.0), ('hallway', 0.0), ('itunes', 0.0), ('episode', 0.0), ('mr', 8.8778829846448146e-05), ('solid', 0.00027492991731496811), ('major', 0.00026633648953934433), ('measuring', 0.0), ('activation', 0.00037230147316941588), ('rated', 0.0), ('hubs', 0.0), ('privacy', 0.00046108071821486984), ('superior', 0.00054985983462993622), ('upload', 0.0), ('exchange', 0.00018615073658470794), ('venue', 0.00018615073658470794), ('hinders', 0.00018615073658470794), ('largely', 0.0), ('magazine', 0.0), ('filling', 0.0), ('amaze', 0.0025717409970964756), ('user', 0.0029612274339752055), ('0087', 0.0), ('entirely', 0.00018615073658470794), ('5th', 0.0), ('rid', 8.8778829846448119e-05), ('miscue', 0.0), ('forward', 0.0020218811537984125), ('please', 0.00025774136498611373), ('needs', 1.1237383201408352e-17), ('wont', 0.00027492991731496811), ('advanced', 0.00018615073658470794), ('making', 0.0), ('bad', 0.00021477011644121334), ('fence', 0.00018615073658470794), ('siri', 8.9991294630005974e-07), ('interact', 0.00083338223328228034), ('learn', 0.0066155033061295679), ('expect', 0.002643334502306964), ('stump', 0.00018615073658470794), ('effecting', 0.0), ('repair', 0.00018615073658470794), ('complaint', 0.00052407833052042589), ('adaquite', 0.0), ('girlfriend', 0.00037230147316941588), ('host', 0.0), ('big', 0.0015006457465237073), ('surround', 6.9564753151575504e-18), ('early', 0.00063863887418894472), ('stupid', 0.0), ('linen', 0.0), ('drops', 0.0), ('slew', 0.00018615073658470794), ('rooms', 0.0), ('food', 0.00018615073658470794), ('informative', 0.0012944629636440204), ('reappears', 0.0), ('man', 0.00027492991731496811), ('encyclopedia', 0.00037230147316941588), ('speech', 0.00073601065202795577), ('resonates', 0.0), ('hence', 8.8778829846448119e-05), ('miraculous', 0.0), ('advantage', 8.8778829846448146e-05), ('smarttv', 0.00018615073658470794), ('pulse', 0.0), ('thijgs', 0.00018615073658470794), ('live', 0.0011713124571299431), ('woth', 0.00018615073658470794), ('top', 0.00069304087570351525), ('firing', 0.0), ('sturdy', 0.0), ('lucky', 0.00018615073658470794), ('abandon', 0.0), ('filled', 0.0), ('frickin', 0.0), ('pleasantly', 0.00018615073658470794), ('stick', 0.0008161968202784561), ('tantrum', 0.0), ('vince', 0.00018615073658470794), ('suit', 0.00018615073658470794), ('removed', 0.0), ('automation', 0.0011884987238887862), ('tried', 0.0), ('force', 8.8778829846448119e-05), ('controller', 0.0), ('returning', 0.0), ('permanent', 0.00018615073658470794), ('possibly', 0.0), ('develop', 5.575219550043461e-07), ('wayyyyyy', 0.00018615073658470794), ('kudos', 0.00018615073658470794), ('50s', 0.0), ('scam', 0.0), ('calculation', 0.00018615073658470794), ('imho', 0.00018615073658470794), ('california', 0.00018615073658470794), ('program', 0.0012858704985482378), ('listen', 0.001672424853913175), ('quick', 0.00096797268340863643), ('anniversary', 0.0), ('leave', 0.00026633648953934433), ('simplest', 0.0), ('side', 0.00054126678351213862), ('00bb', 0.0), ('functions', 0.0), ('arianna', 0.00018615073658470794), ('nevertheless', 0.00018615073658470794), ('maniac', 0.00018615073658470794), ('dissatisfy', 0.00018615073658470794), ('tour', 0.00018615073658470794), ('convinced', 0.00018615073658470794), ('drive', 5.2591060470899479e-07), ('birthdays', 0.00018615073658470794), ('simple', 0.0021650671340485545), ('glitching', 0.0), ('129', 0.00074460294633883176), ('space', 0.0), ('shells', 0.0), ('reaso', 0.0), ('technological', 0.00018615073658470794), ('confuse', 0.00018615073658470794), ('spent', 0.0), ('drum', 0.00018615073658470794), ('request', 0.0041325414161433906), ('reliability', 0.00037230147316941588), ('techy', 0.00018615073658470794), ('greatest', 0.0), ('premium', 0.0011083122046180961), ('effort', 0.00037230147316941588), ('harsh', 0.00018615073658470794), ('fraudulent', 0.0), ('involving', 0.0), ('kinda', 0.00018615073658470794), ('cheaper', 0.0), ('whats', 8.8778829846448146e-05), ('microwave', 0.00018615073658470794), ('sale', 0.00063863887418894472), ('quiz', 5.121421971062982e-07), ('worthwhile', 0.00037230147316941588), ('rest', 0.00046108071821486984), ('stating', 0.0), ('pace', 0.0), ('size', 0.00039230438712587292), ('newest', 0.0), ('pending', 0.00018615073658470794), ('announce', 0.0), ('entertainment', 0.00016036264096060146), ('hulu', 0.0), ('gal', 0.00018615073658470794), ('learned', 0.0), ('wifi', 0.0014118669071131939), ('entire', 0.00062145180892513735), ('recite', 0.00018615073658470794), ('severe', 0.0), ('five', 0.00027492991731496811), ('names', 0.00018615073658470794), ('jam', 0.0), ('informational', 0.0), ('0092', 0.0), ('seamlessly', 0.00018615073658470794), ('outer', 0.0), ('gps', 0.0), ('output', 0.0), ('model', 0.0), ('friends', 0.0), ('blind', 0.00046108071821486984), ('forecast', 0.00063863887418894472), ('hit', 0.00055845220975412355), ('floored', 0.0), ('downer', 0.00018615073658470794), ('intrusive', 0.0), ('utube', 0.00018615073658470794), ('hooked', 0.0), ('membership', 0.0), ('piece', 0.0), ('91', 0.0), ('adjuncts', 0.00018615073658470794), ('p', 0.00027492991731496811), ('integrating', 0.0), ('sirius', 0.0), ('goid', 0.0), ('heck', 0.00018615073658470794), ('similarity', 0.00018615073658470794), ('medium', 9.9153381188897245e-18), ('safety', 0.0), ('functionality', 0.0018099515045042747), ('bar', 0.00027492991731496811), ('vocal', 0.0), ('begin', 0.00054985983462993622), ('seriously', 1.007272443823718e-17), ('incase', 0.00018615073658470794), ('sold', 0.0), ('related', 1.4542495907704929e-17), ('intrigue', 0.00018615073658470794), ('alarm', 0.0046652158532628748), ('birthday', 0.0003637089320807403), ('vb', 0.0), ('laying', 0.0), ('advertising', 0.0), ('bos', 0.0), ('emails', 0.0), ('symptom', 0.00018615073658470794), ('guy', 0.00037230147316941588), ('assignment', 0.00018615073658470794), ('formerly', 0.00018615073658470794), ('ridiculous', 0.0), ('considered', 0.0), ('enhancement', 0.0), ('font', 0.0), ('abilities', 8.8778829846447997e-05), ('trivia', 0.0010825335670242772), ('upside', 0.0), ('animal', 0.00037230147316941588), ('thoug', 0.0), ('dictate', 0.0), ('sentence', 0.00018615073658470794), ('entertain', 0.0012944629636440204), ('driving', 0.0), ('lover', 8.8778829846448187e-05), ('oppose', 0.00018615073658470794), ('structure', 0.00018615073658470794), ('broke', 0.0), ('becomes', 0.00037230147316941588), ('ticket', 0.00018615073658470794), ('pair', 1.1164870362445384e-06), ('starts', 0.0), ('accessory', 0.0010195329792829476), ('briefing', 0.0), ('automate', 5.1322085176778449e-07), ('crazy', 8.0181267912697368e-05), ('useless', 0.00016896201585566123), ('whose', 0.0), ('directly', 0.0003637089320807403), ('audiophile', 0.0), ('waking', 0.0), ('suffer', 0.0), ('supplement', 0.0), ('difficiency', 0.0), ('written', 0.0), ('coke', 0.00018615073658470794), ('forcast', 0.00018615073658470794), ('popular', 5.3327974915997462e-07), ('furniture', 0.00055845220975412355), ('siticher', 0.0), ('math', 0.00055845220975412355), ('pandora', 0.002271032558174894), ('educational', 0.00055845220975412355), ('doubt', 0.00027492991731496811), ('collection', 0.0), ('configured', 0.0), ('ruined', 0.0), ('sense', 0.0), ('tap', 0.00024054387890856018), ('wanting', 0.0), ('tag', 0.00018615073658470794), ('business', 0.00093075368292353953), ('left', 0.0), ('highly', 0.00087059881728683054), ('strike', 0.0), ('monetary', 0.00018615073658470794), ('hint', 0.0), ('half', 6.3584073016372178e-18), ('slow', 7.1591547703786864e-05), ('suspicious', 0.0), ('debate', 0.0), ('view', 0.00027492991731496811), ('giver', 0.0), ('fingertip', 0.00018615073658470794), ('surpass', 0.00037230147316941588), ('tea', 0.0), ('ecstatic', 0.0), ('netflix', 0.0011083122046180961), ('phones', 0.0), ('exist', 0.00027492991731496811), ('oven', 0.00037230147316941588), ('natural', 0.00037230147316941588), ('upgraded', 0.0), ('continuing', 0.0), ('computer', 0.0021994393385197449), ('appliance', 0.0013918344637002932), ('ebay', 0.0), ('unfamiliarity', 0.00018615073658470794), ('accidently', 0.0), ('leader', 0.00018615073658470794), ('improving', 0.0), ('ball', 0.00018615073658470794), ('lion', 0.00018615073658470794), ('required', 0.0), ('games', 0.0), ('richer', 0.0), ('ending', 0.0), ('certain', 0.00063004566945105967), ('beginning', 0.0), ('local', 0.00063863887418894472), ('meal', 0.00037230147316941588), ('corny', 0.00055845220975412355), ('estimate', 0.00018615073658470794), ('test', 0.00034652043785248383), ('headache', 8.8778829846448119e-05), ('friendly', 0.00091356880131541291), ('measure', 8.8778829846448119e-05), ('car', 0.0), ('resolve', 5.5786561801918095e-07), ('equipped', 0.0), ('qa', 0.0), ('verbally', 0.00055845220975412355), ('broken', 0.0), ('purpose', 0.0), ('selective', 0.0), ('optimized', 0.0), ('boy', 0.0), ('splurge', 0.0), ('noticed', 0.0), ('promise', 0.00055845220975412355), ('spin', 8.8778829846448146e-05), ('2764', 0.0), ('1000', 0.0), ('gooogle', 0.00018615073658470794), ('purchasing', 0.0), ('company', 3.2769265228839206e-10), ('channel', 0.0), ('mcentire', 0.0), ('drawback', 0.00037230147316941588), ('game', 0.0023426249142598863), ('normal', 0.00046108071821486984), ('key', 0.00027492991731496811), ('surprise', 0.00080760340487038066), ('expecte', 0.00018615073658470794), ('butter', 0.0), ('ran', 0.0), ('reacting', 0.0), ('ancient', 0.00018615073658470794), ('permit', 0.00018615073658470794), ('grows', 0.00018615073658470794), ('www', 0.00018615073658470794), ('cast', 0.0022338088390164942), ('cam', 0.0), ('necessity', 8.8778829846448146e-05), ('usable', 8.8778829846448119e-05), ('air', 0.00037230147316941588), ('starting', 0.0), ('bedstand', 0.0), ('reads', 0.0), ('compatible', 0.0010997196692598724), ('reliant', 0.00018615073658470794), ('terrible', 0.0), ('someday', 0.0), ('lately', 0.00027492991731496811), ('welcome', 3.1839327451711435e-07), ('attempted', 0.0), ('heavily', 0.00018615073658470794), ('team', 0.0), ('designthe', 0.0), ('peterson', 0.0), ('algorithm', 0.00037230147316941588), ('bulbs', 0.00018615073658470794), ('rrific', 0.00018615073658470794), ('banter', 0.00018615073658470794), ('theater', 0.00037230147316941588), ('translate', 0.00074460294633883176), ('trade', 0.00018615073658470794), ('indie', 0.0), ('exploration', 0.0), ('programmed', 0.0), ('ordering', 0.0), ('hassle', 1.0513406132410055e-17), ('expectations', 0.0), ('upset', 0.0), ('replacing', 0.0), ('2022', 0.0), ('familiar', 0.00037230147316941588), ('dosent', 0.00018615073658470794), ('generations', 0.0), ('merely', 0.00018615073658470794), ('dynamite', 0.0), ('deeply', 0.00018615073658470794), ('ip', 0.0), ('fastest', 0.0), ('twice', 0.00018615073658470794), ('project', 5.305847783102436e-07), ('basis', 8.8778829846448119e-05), ('statement', 0.00018615073658470794), ('t5', 0.0), ('disappointing', 3.6097042773848748e-10), ('label', 8.8778829846447997e-05), ('anymore', 0.0), ('formal', 0.0), ('leveling', 0.0), ('guest', 0.0), ('place', 0.00035511531938579258), ('bare', 0.00018615073658470794), ('updating', 0.00018615073658470794), ('disc', 0.00018615073658470794), ('world', 0.0017641359433562902), ('acoustic', 0.0), ('inspired', 0.0), ('wrap', 0.00027492991731496811), ('awesomely', 0.00018615073658470794), ('adk', 0.0), ('speakers', 0.0), ('stairs', 0.0), ('mix', 0.00018615073658470794), ('reword', 0.00018615073658470794), ('hardly', 8.8778829846448119e-05), ('comparison', 0.00027492991731496811), ('programmer', 0.0), ('wealth', 0.00018615073658470794), ('instrumnational', 0.0), ('nut', 0.0), ('respond', 0.0027578918073270712), ('moving', 0.0), ('playlists', 8.8778829846448146e-05), ('brother', 0.0), ('kiddy', 0.00018615073658470794), ('field', 0.00037230147316941588), ('network', 7.158292151898019e-05), ('technology', 0.0014376490835211805), ('crystal', 0.00018615073658470794), ('anytime', 0.00046108071821486984), ('transportation', 0.00018615073658470794), ('compare', 0.0015608004186739048), ('topics', 0.0), ('medication', 0.0), ('persistence', 0.0), ('eternity', 0.0), ('perform', 0.0), ('thousand', 0.00017755765969289624), ('task', 0.00054126678351213862), ('appeal', 0.00018615073658470794), ('commands', 0.0), ('havae', 0.0), ('bible', 0.00018615073658470794), ('knowledge', 0.0011083122046180961), ('eliminating', 0.0), ('plain', 5.6309283768108873e-07), ('sam', 0.00018615073658470794), ('forthcoming', 0.00018615073658470794), ('greatvproduc', 0.0), ('cable', 0.0), ('brook', 0.0), ('biggest', 0.0), ('acts', 0.0), ('recognition', 0.0023855901751696743), ('blew', 0.0), ('juice', 0.00018615073658470794), ('guarantee', 0.00018615073658470794), ('ahead', 0.00054985983462993622), ('obtain', 0.00027492991731496811), ('security', 0.0), ('fearures', 0.0), ('different', 0.00073023305721129023), ('vary', 0.0), ('impulse', 0.0), ('functional', 0.00054985983462993622), ('timesaver', 0.00018615073658470794), ('singing', 0.00018615073658470794), ('weakness', 0.0), ('bed', 1.6506288743725035e-12), ('asking', 0.0), ('designer', 0.0), ('boot', 0.00018615073658470794), ('employee', 0.00037230147316941588), ('basos', 0.0), ('discontinued', 0.0), ('correct', 1.0819382425515662e-06), ('quality', 2.051058513736045e-16), ('moron', 0.0), ('hefty', 0.00018615073658470794), ('nervous', 0.0), ('failure', 0.0), ('download', 0.0021278451995480254), ('depth', 0.0003637089320807403), ('obscure', 0.0), ('creature', 0.00018615073658470794), ('mail', 0.0), ('map', 0.00018615073658470794), ('strange', 0.0), ('onboard', 0.0), ('worth', 0.0019703222266409396), ('medications', 0.0), ('youre', 0.0), ('configurations', 0.0), ('expense', 0.00037230147316941588), ('slip', 0.0), ('bump', 0.00018615073658470794), ('whole', 0.0013574636283782055), ('cuz', 0.00018615073658470794), ('spot', 0.0), ('utilizes', 0.00037230147316941588), ('assist', 8.8778829846448146e-05), ('law', 0.0006472314818220102), ('nonetheless', 0.00018615073658470794), ('thruout', 0.0), ('brainer', 0.0), ('tho', 0.0), ('hope', 0.00042670349575399809), ('items', 0.0), ('watching', 0.0), ('exceptionally', 0.0), ('limitation', 0.00074460294633883176), ('jacket', 0.00018615073658470794), ('thoroughly', 0.0), ('ceiling', 5.3945036343691645e-07), ('a1', 0.0), ('sized', 0.0), ('equal', 0.0), ('unplug', 0.00026633648953934417), ('available', 0.001366056748409866), ('vaux', 0.0), ('course', 0.00063863887418894472), ('robust', 0.00018615073658470794), ('darn', 8.8778829846448119e-05), ('goog', 0.00018615073658470794), ('grandkid', 0.00018615073658470794), ('recipes', 0.0), ('child', 0.0017555436876404492), ('comfortable', 0.0), ('limitations', 0.0), ('listeners', 0.0), ('ecosystem', 0.00027492991731496811), ('curious', 0.0), ('wal', 0.00055845220975412355), ('musoic', 0.0), ('daylight', 0.00037230147316941588), ('issue', 7.0477280258765391e-11), ('barely', 0.00027492991731496811), ('google', 0.10349407600104282), ('light', 0.011793355440283485), ('catch', 0.0015779852039121416), ('previous', 1.2464996492318511e-17), ('glitches', 0.0), ('practice', 0.00037230147316941588), ('colors', 0.0), ('recommended', 0.0), ('integration', 0.0021278451995480254), ('envious', 0.0), ('relationship', 0.0), ('0095', 0.0), ('trouble', 0.00015175936029458703), ('interested', 0.00055845220975412355), ('socket', 0.0), ('speaks', 0.0), ('head', 8.0181318372966469e-05), ('free', 0.002660520093375412), ('applet', 0.00055845220975412355), ('ons', 8.8778829846448119e-05), ('properly', 7.1588630463835225e-05), ('surprised', 0.0), ('chill', 0.00018615073658470794), ('husband', 0.0032905662499745671), ('jeopardy', 0.0), ('recipe', 0.0016667644665645607), ('algorithms', 0.00018615073658470794), ('paragraph', 0.0), ('incredible', 0.00045248787612606867), ('refund', 5.2005677941745704e-07), ('lit', 0.0), ('80', 0.00018615073658470794), ('condo', 0.00018615073658470794), ('lamp', 0.00018615073658470794), ('open', 0.0015693929247259082), ('meet', 1.0544883396279546e-17), ('oh', 5.7202069421475545e-07), ('ver', 0.00018615073658470794), ('provide', 0.001746951230111492), ('comfort', 0.0), ('explained', 0.0), ('geared', 0.0), ('potentially', 0.00018615073658470794), ('cancel', 0.00074460294633883176), ('confirm', 0.00037230147316941588), ('tied', 0.0), ('bro', 0.0), ('den', 0.0), ('general', 0.00054126678351213862), ('unhappy', 0.0), ('active', 0.0), ('kindle', 0.00037230147316941588), ('human', 0.00074460294633883176), ('soundtouch', 0.00018615073658470794), ('drainage', 0.00018615073658470794), ('retrieve', 0.0), ('crackle', 0.00018615073658470794), ('plugged', 0.0), ('single', 0.00027492991731496811), ('ate', 0.0), ('interest', 8.8778829846447807e-05), ('messy', 0.0), ('420', 0.0), ('frustration', 8.8778829846448146e-05), ('unite', 0.00018615073658470794), ('master', 5.7216119595131864e-07), ('slight', 8.8778829846447956e-05), ('spell', 0.0010195329792829476), ('added', 0.0), ('damage', 0.00037230147316941588), ('citizen', 0.0), ('misunderstanding', 0.0), ('solve', 8.8778829846448146e-05), ('appreciate', 3.4624990256440272e-18), ('vacuum', 0.00018615073658470794), ('rarely', 0.0), ('minimize', 0.0), ('investigate', 0.0), ('starship', 0.00018615073658470794), ('responding', 0.0), ('syntax', 0.00018615073658470794), ('hi', 0.00018615073658470794), ('pairing', 0.0), ('interactivity', 0.00018615073658470794), ('fact', 0.00087059881728666585), ('alexus', 0.0), ('eagle', 8.8778829846448119e-05), ('verbalize', 0.00018615073658470794), ('unbearable', 0.0), ('exceeded', 0.0), ('suggestion', 0.0), ('opted', 0.0), ('sport', 0.0003637089320807403), ('ownership', 0.00018615073658470794), ('diane', 0.0), ('texts', 0.00018615073658470794), ('hesitate', 0.00027492991731496811), ('screaming', 0.0), ('trebble', 0.0), ('query', 8.8778829846448119e-05), ('replaced', 0.0), ('back', 0.0022910607597823396), ('savvy', 0.00017755765969289624), ('eliminate', 0.0), ('neat', 0.00045248787612606867), ('upcoming', 0.0), ('intolerable', 0.0), ('wear', 0.00027492991731496811), ('dinosaur', 8.8778829846448119e-05), ('thought', 9.4431791608471121e-19), ('yield', 0.00018615073658470794), ('reply', 0.00018615073658470794), ('verde', 0.00018615073658470794), ('specifically', 0.0006472314818220102), ('relative', 0.0), ('linking', 0.0), ('highs', 0.0), ('prompts', 0.0), ('absolute', 0.0), ('agenda', 0.00018615073658470794), ('wording', 0.0), ('wasted', 0.0), ('sci', 0.00018615073658470794), ('high', 0.0013574636283782055), ('recorded', 0.0), ('random', 0.001649579503889809), ('swappable', 0.0), ('recommend', 0.003628496219197524), ('subscriptions', 0.0), ('spoke', 5.3889878841188617e-07), ('recently', 0.0), ('phillips', 8.8778829846448119e-05), ('kitchen', 0.0019961025780921883), ('onemy', 0.0), ('water', 0.00037230147316941588), ('upstairs', 0.00016896201582661136), ('bip', 0.0), ('adjusts', 0.00018615073658470794), ('prefer', 1.8980790113303188e-17), ('code', 0.0), ('santol', 0.0), ('skills', 0.0), ('suite', 0.00037230147316941588), ('lead', 0.00037230147316941588), ('fashioned', 0.0), ('cousin', 0.0), ('charged', 0.0), ('awsome', 8.8778829846448119e-05), ('records', 0.0), ('artist', 0.0011884987238887862), ('pare', 0.0), ('dog', 0.00017755765969289643), ('television', 0.0), ('subscribe', 0.00055845220975412355), ('taught', 0.0), ('valuable', 0.00018615073658470794), ('addicted', 0.0), ('eclectic', 0.0), ('cut', 5.3186065680064598e-07), ('silver', 0.0), ('worse', 0.0), ('roll', 0.00037230147316941588), ('drift', 0.00018615073658470794), ('redundant', 0.00018615073658470794), ('intending', 0.0), ('book', 0.00024914406336307799), ('direction', 0.00074460294633883176), ('degign', 0.00018615073658470794), ('bother', 0.0), ('loop', 0.0), ('list', 0.0067672833820232705), ('thanks', 2.9874679561371559e-12), ('reason', 0.00079900946861802258), ('longer', 0.00025774136498807728), ('phenomenal', 0.00018615073658470794), ('documentaries', 0.00018615073658470794), ('nest', 0.0012944629636440204), ('snap', 0.0), ('towel', 0.00018615073658470794), ('continues', 0.0), ('activity', 0.00018615073658470794), ('recordings', 0.0), ('puerto', 0.00037230147316941588), ('control', 0.0042041350517886206), ('delivered', 0.0), ('humongous', 0.00018615073658470794), ('vision', 0.0), ('fairness', 0.00018615073658470794), ('disappointingly', 0.0), ('circle', 0.00037230147316941588), ('woman', 0.00017755765969289624), ('morphed', 0.0), ('saver', 0.0), ('alexia', 0.00035511531938579248), ('sirrus', 0.00018615073658470794), ('repeating', 0.0), ('strict', 0.0), ('preset', 0.0), ('teethe', 0.00018615073658470794), ('care', 0.00018615073658470794), ('dumb', 0.0), ('hat', 0.00018615073658470794), ('silly', 0.0), ('coverage', 0.0), ('deleted', 0.0), ('timers', 0.0), ('weight', 0.0), ('state', 0.0), ('experiencing', 0.0), ('factor', 9.9153381188897245e-18), ('address', 0.00046108071821486984), ('standard', 0.00017755765969289629), ('launch', 8.8778829846448119e-05), ('aol', 0.00018615073658470794), ('manually', 0.00018615073658470794), ('grandson', 0.00018615073658470794), ('wrong', 0.0), ('huge', 1.3888192759652522e-06), ('rain', 0.0), ('putting', 0.0), ('manner', 0.00018615073658470794), ('commerials', 0.00018615073658470794), ('quarter', 0.0), ('classic', 0.0), ('tongue', 0.00018615073658470794), ('customer', 0.0), ('disable', 0.00018615073658470794), ('friday', 0.00073601065202795577), ('granted', 0.0), ('detect', 0.0), ('forcing', 0.0), ('create', 0.0031645625219400338), ('answers', 0.0), ('moved', 0.0), ('chromecasts', 0.00018615073658470794), ('native', 0.00074460294633883176), ('cleaned', 0.0), ('chosen', 0.00018615073658470794), ('reasonably', 0.00018615073658470794), ('strung', 0.0), ('com', 0.00093075368292353953), ('efficient', 8.8778829846448187e-05), ('crisp', 0.0), ('tune', 1.1205905937538861e-17), ('progress', 0.00018615073658470794), ('texturized', 0.0), ('fictional', 0.0), ('lighting', 0.0), ('promote', 0.00018615073658470794), ('rush', 8.8778829846448214e-05), ('signal', 4.3262352341420159e-07), ('picked', 0.00037230147316941588), ('tecky', 0.00018615073658470794), ('errand', 0.0), ('mobility', 0.00018615073658470794), ('confuses', 0.0), ('spotty', 0.00018615073658470794), ('checking', 0.0), ('productive', 0.0), ('accuracy', 0.00027492991731496811), ('vs', 0.0), ('shy', 8.8778829846448146e-05), ('competition', 0.00055845220975412355), ('ps', 0.0), ('point', 0.00052407833052030446), ('sms', 0.0), ('party', 0.00063863887418894472), ('beyond', 1.4448064116096455e-17), ('afraid', 8.8778829846448146e-05), ('holler', 0.0), ('som', 0.00018615073658470794), ('ya', 0.0), ('merecipes', 0.0), ('sorts', 0.0), ('politics', 0.0), ('gentlemanly', 0.0), ('jbl', 0.0), ('smarthings', 0.00018615073658470794), ('display', 0.0), ('max', 8.8778829846448119e-05), ('lists', 0.00018615073658470794), ('pleasing', 0.0), ('apartment', 5.2001089943382353e-07), ('besides', 0.00046108071821486984), ('wanna', 0.00037230147316941588), ('stilling', 0.0), ('organizer', 0.00018615073658470794), ('hated', 0.0), ('800', 0.00018615073658470794), ('catalog', 8.8778829846447306e-05), ('rare', 0.0), ('effective', 0.00018615073658470794), ('ypu', 0.00018615073658470794), ('students', 0.0), ('decision', 0.00037230147316941588), ('hopper', 0.0), ('location', 7.1587768158075889e-05), ('fullness', 0.0), ('load', 5.2570310841357776e-07), ('soundlink', 0.0), ('surf', 0.00018615073658470794), ('thrill', 0.00018615073658470794), ('form', 8.8778829846448051e-05), ('higher', 0.0), ('described', 0.0), ('accurately', 0.00046108071821486984), ('glass', 0.0), ('name', 2.6864101501737646e-12), ('electronics', 0.00045248787612606867), ('dark', 0.0), ('relatives', 0.0), ('baby', 0.00046108071821486984), ('older', 0.0), ('reserve', 0.00018615073658470794), ('featuresthe', 0.0), ('fair', 0.00037230147316941588), ('0094', 0.0), ('pass', 0.0), ('outstanding', 0.00046108071821486984), ('outside', 5.5046574008456574e-07), ('litten', 0.00018615073658470794), ('belkin', 0.00018615073658470794), ('hello', 0.00018615073658470794), ('snooze', 0.00018615073658470794), ('compact', 7.1587564362035678e-05), ('turning', 0.0), ('70', 8.0181324240710084e-05), ('dumbfounded', 0.00018615073658470794), ('frequency', 0.0), ('connecting', 9.1598837860219357e-18), ('plex', 0.0), ('race', 0.00018615073658470794), ('express', 0.00037230147316941588), ('pushed', 8.8778829846448119e-05), ('assume', 0.0), ('horribly', 0.0), ('sufficient', 0.00037230147316941588), ('damn', 0.0), ('player', 0.0), ('ymv', 0.00018615073658470794), ('blood', 0.0), ('upgrade', 0.00063004566945105967), ('figuring', 0.0), ('chants', 0.0), ('senior', 0.00018615073658470794), ('toe', 0.00018615073658470794), ('totally', 0.0), ('browser', 0.00055845220975412355), ('excellently', 0.00018615073658470794), ('playlist', 0.00080760340487038066), ('hearing', 0.00017755765969289629), ('conversion', 0.0), ('indicate', 0.00073601065202795577), ('difficult', 1.888635832169274e-19), ('saved', 0.0), ('rat', 0.0), ('24', 0.0), ('howl', 0.0), ('gotten', 0.0), ('carry', 0.0002036019533576215), ('subject', 0.0001062301955012912), ('dust', 0.00030983241026953298), ('trigger', 0.0), ('commercials', 0.0002036019533576215), ('expanded', 0.0002036019533576215), ('review', 0.0039127321892581945), ('larger', 0.0002036019533576215), ('aide', 0.0002036019533576215), ('pizza', 0.0001062301955012912), ('ship', 0.0), ('battery', 0.00031869058650387341), ('sensational', 0.0002036019533576215), ('cave', 0.0002036019533576215), ('responds', 0.00030983241026953298), ('initial', 0.0002124603910025824), ('wanted', 0.0015314442340097795), ('bog', 0.0002036019533576215), ('presence', 0.0), ('briefly', 0.0), ('alot', 0.0), ('bang', 0.0002036019533576215), ('enhanced', 0.00040720390671524301), ('tininess', 0.0), ('emerge', 0.0), ('speak', 6.3457916683168038e-05), ('invested', 0.0002036019533576215), ('amazingly', 0.00040720390671524301), ('potential', 0.00072589516606692698), ('scary', 0.0002036019533576215), ('therapy', 0.0002036019533576215), ('score', 0.00071703639103473009), ('months', 0.00040720390671524301), ('quibble', 0.0002036019533576215), ('right', 0.00070822473188562386), ('residence', 0.0), ('reson', 0.0), ('abate', 0.0), ('room', 0.0074536951612138701), ('renewal', 0.0), ('exception', 0.00010623019550129116), ('foray', 0.0002036019533576215), ('breastfeed', 0.0), ('stage', 0.0), ('bomb', 0.0002036019533576215), ('siriusxm', 0.00040720390671524301), ('lookin', 0.0002036019533576215), ('owning', 0.00040720390671524301), ('questions', 0.0020360195335762149), ('podcast', 0.0002036019533576215), ('9325', 0.0002036019533576215), ('inevitably', 0.0), ('unsecure', 0.0), ('bit', 0.00046034482105134639), ('opposite', 0.0002036019533576215), ('gimmicky', 0.0002036019533576215), ('unlock', 0.0), ('line', 0.00013278913722804698), ('helpful', 0.0013013340854334567), ('wml', 0.0002036019533576215), ('pleasure', 0.0002036019533576215), ('describe', 0.00061080586007286445), ('stay', 0.00052229301168526664), ('lag', 0.0002036019533576215), ('toggle', 0.0), ('sweet', 0.0002036019533576215), ('adult', 0.0), ('sometime', 0.0002036019533576215), ('blah', 0.0002036019533576215), ('pleasent', 0.0), ('impersonator', 0.0), ('replace', 0.0011242403178986066), ('fine', 0.001460648771752495), ('include', 0.00032754769807431252), ('deprive', 0.0), ('wave', 0.0001062301955012912), ('logitech', 9.2910099224458788e-06), ('grow', 0.0), ('entry', 0.0), ('total', 0.00061966482053906597), ('guilty', 0.0), ('promotion', 0.0), ('integrated', 0.0), ('stop', 0.00079674886677678588), ('soo', 0.0002036019533576215), ('slower', 0.0002036019533576215), ('fortune', 0.0002036019533576215), ('nothe', 0.0), ('understand', 0.0026380393366818712), ('door', 0.00082326683875735081), ('committed', 0.0002036019533576215), ('heading', 0.0002036019533576215), ('changing', 0.00061080586007286445), ('appearance', 0.00061080586007286445), ('subpar', 0.0002036019533576215), ('moments', 0.00040720390671524301), ('ipad', 0.00041606273714141705), ('49', 0.0), ('searched', 0.0002036019533576215), ('aspect', 0.00041606273714141705), ('exhibit', 0.0), ('comcast', 0.0001062301955012912), ('reminder', 0.00035411232379354023), ('misses', 0.0002036019533576215), ('clear', 0.0022839158166051469), ('sev', 0.0), ('capability', 2.4769116844465062e-06), ('pay', 7.3361392476900973e-05), ('scale', 0.0002036019533576215), ('identifies', 0.0002036019533576215), ('fabulously', 0.0), ('adults', 0.0), ('sidekick', 0.0), ('regular', 9.3650764388974744e-06), ('might', 0.00073475349322890703), ('bart', 0.0), ('obsessed', 0.0002036019533576215), ('spy', 0.00061080586007286445), ('speaking', 0.00040720390671524301), ('bulb', 0.00032754769807430238), ('customers', 0.00061080586007286445), ('btw', 2.8485994780656939e-06), ('marry', 0.0), ('ecommerce', 0.0), ('democrat', 0.0), ('dodesnt', 0.0002036019533576215), ('liked', 0.00061966482053906597), ('closer', 0.00040720390671524301), ('opened', 0.0002036019533576215), ('shipped', 0.0002036019533576215), ('biggie', 0.0), ('desire', 9.3076676984562655e-06), ('dock', 0.0002036019533576215), ('successful', 0.0), ('removal', 0.0002036019533576215), ('lump', 0.0002036019533576215), ('scratch', 8.6546360365879577e-06), ('coupon', 0.0), ('region', 0.0), ('pill', 1.774756912000446e-15), ('geeni', 0.0), ('hate', 0.00030983241026953298), ('mile', 0.00030983241026953298), ('chance', 0.0001062301955012912), ('implement', 0.0), ('order', 0.0014429899807499873), ('decade', 0.0001062301955012912), ('approved', 0.0002036019533576215), ('cortana', 0.00040720390671524301), ('languages', 0.0001062301955012912), ('times', 0.0002036019533576215), ('definition', 0.00011508620566693665), ('rapid', 0.0002036019533576215), ('distorts', 0.0002036019533576215), ('responsive', 0.00054886498398446979), ('buying', 0.0013455599980732522), ('usually', 0.00022131723103713176), ('fixed', 0.0002036019533576215), ('apps', 9.0785555524288197e-05), ('controls', 0.0002036019533576215), ('public', 0.0), ('intuitive', 0.0002301724111398783), ('somewhat', 0.00051343441549061078), ('installed', 0.0002036019533576215), ('challenge', 0.0002124603910025824), ('entertaining', 0.00061080586007286445), ('cleaning', 0.0002036019533576215), ('aspects', 0.0), ('exuded', 0.0002036019533576215), ('dislike', 0.00030983241026953298), ('satisfied', 0.00030983241026953298), ('ipod', 0.0002036019533576215), ('burgular', 0.0), ('automating', 0.0002036019533576215), ('whisper', 0.0), ('subwoofer', 0.0001062301955012912), ('gain', 4.431462385281908e-16), ('preference', 0.0), ('blow', 0.0), ('alert', 0.0), ('wheni', 0.0002036019533576215), ('specified', 0.0002036019533576215), ('desktop', 0.00011508620576821378), ('operation', 0.0), ('shoot', 0.0002036019533576215), ('crappy', 0.0002036019533576215), ('informed', 0.0), ('hide', 0.0002124603910025824), ('majority', 0.0001062301955012912), ('meaning', 0.00040720390671524301), ('series', 0.0002036019533576215), ('xfinity', 0.0), ('wiuld', 0.0002036019533576215), ('budget', 0.0), ('tomorrow', 0.0001062301955012912), ('spending', 0.0002036019533576215), ('strong', 9.3237824356776606e-06), ('firmware', 0.00040720390671524301), ('wonder', 0.0), ('90', 0.0001150862056229648), ('answered', 0.00081440781343048601), ('english', 0.00052229301168526664), ('variety', 4.0939067148244588e-15), ('corrects', 0.0), ('numerous', 0.00030983241026953298), ('handle', 0.0), ('account', 2.7065936752187838e-16), ('defiantly', 0.0002036019533576215), ('charge', 0.00011508620580296858), ('loses', 0.0002036019533576215), ('communicate', 0.0002124603910025824), ('conversations', 0.0002036019533576215), ('height', 0.0), ('reachability', 0.0), ('008f', 0.0002036019533576215), ('antenna', 0.0002036019533576215), ('temperature', 0.00032754769807427246), ('complaints', 0.00040720390671524301), ('zillion', 0.0), ('understanding', 0.00071703639103473009), ('habit', 0.0), ('dial', 0.0002036019533576215), ('blame', 0.0002036019533576215), ('stops', 0.00081440781343048601), ('content', 0.00051343441549061078), ('guess', 0.00062852325997511996), ('chrome', 0.0), ('expectation', 0.00022131723103818553), ('combination', 0.0002036019533576215), ('rico', 0.0), ('art', 0.0), ('grain', 0.0002036019533576215), ('150', 0.0), ('yell', 0.00031869058650387341), ('minor', 0.0002124603910025824), ('ruth', 0.0), ('confident', 0.0), ('replacement', 0.00071703639103473009), ('din', 0.0002036019533576215), ('personal', 3.73997195739443e-05), ('entertains', 0.0002036019533576215), ('assort', 0.0), ('happens', 0.00030983241026953298), ('ink', 0.0), ('gets', 0.00081440781343048601), ('stream', 0.0015491620513476648), ('hopeful', 0.0002036019533576215), ('frankly', 0.0), ('basey', 0.0002036019533576215), ('wasnt', 0.0), ('inappropriate', 0.00040720390671524301), ('restore', 0.0002036019533576215), ('reponse', 0.0), ('connector', 0.0002036019533576215), ('await', 0.0002036019533576215), ('eye', 0.0002036019533576215), ('section', 0.0002036019533576215), ('creates', 0.0002036019533576215), ('diffrent', 0.0002036019533576215), ('definity', 0.0), ('lackluster', 0.0), ('firestick', 0.0002036019533576215), ('tools', 0.0002036019533576215), ('completed', 0.0002036019533576215), ('auto', 0.0), ('watches', 0.0002036019533576215), ('fabric', 0.0011242403178986066), ('republican', 0.0), ('wait', 0.00020437788537956616), ('online', 0.0), ('tech', 0.00015049732250360643), ('n', 9.3464648787654841e-06), ('beta', 0.0), ('tweet', 0.0), ('sings', 0.0002036019533576215), ('reviews', 0.00061080586007286445), ('acct', 0.0002036019533576215), ('context', 0.0), ('waiting', 0.00061080586007286445), ('parent', 0.00023017241119001978), ('irritate', 0.0), ('jury', 0.0002036019533576215), ('log', 0.0), ('unbelievable', 0.0002036019533576215), ('decant', 0.0002036019533576215), ('hopefully', 3.8132897557554741e-16), ('alternate', 0.0001062301955012912), ('split', 0.0002036019533576215), ('separate', 0.0001062301955012912), ('stuck', 0.00030983241026953298), ('differnt', 0.0), ('intention', 0.0002036019533576215), ('discover', 0.0002036019533576215), ('finish', 0.0010180097667881075), ('experiment', 0.0002036019533576215), ('jazz', 0.00010623019550129116), ('performance', 0.0012216117201457289), ('acceptable', 0.0002036019533576215), ('fortunate', 0.0002036019533576215), ('genre', 0.00071703639103473009), ('backing', 0.0002036019533576215), ('safe', 0.0001062301955012912), ('pack', 0.00041606273714141705), ('vehicle', 0.0), ('promptly', 0.0), ('easily', 0.0013455599980732522), ('venice', 0.0002036019533576215), ('fumble', 0.0001062301955012912), ('frequently', 0.00041606273714141705), ('hub', 3.5624344737287711e-08), ('displease', 0.0), ('tedious', 0.0002036019533576215), ('retailer', 0.0), ('reordering', 0.0002036019533576215), ('soothe', 0.0), ('british', 0.0), ('oklahoma', 0.0002036019533576215), ('offering', 0.00030983241026953298), ('lure', 0.0002036019533576215), ('unbelievably', 0.0002036019533576215), ('audio', 0.0025052347969980724), ('receive', 1.6137274195837231e-12), ('60', 0.00021246039100258232), ('founded', 0.0002036019533576215), ('rephrase', 0.0001062301955012912), ('serf', 0.0002036019533576215), ('nah', 0.0002036019533576215), ('ole', 0.0002036019533576215), ('tired', 0.0001062301955012912), ('probable', 0.0002036019533576215), ('elementary', 0.0), ('impossible', 0.00081440781343048601), ('band', 0.0002036019533576215), ('planning', 0.00040720390671524301), ('deny', 0.0002036019533576215), ('life', 0.0012836198606531993), ('creamer', 0.0002036019533576215), ('dim', 0.0), ('title', 0.0002036019533576215), ('fifth', 0.00030983241026953298), ('grandchild', 0.0002124603910025824), ('texture', 0.00010623019550129116), ('hum', 0.0), ('suprised', 0.0001062301955012912), ('upgrades', 0.0002036019533576215), ('ability', 0.00018619869600329579), ('amazed', 0.00061080586007286445), ('interesting', 9.3426911240101228e-06), ('selects', 0.0), ('equipment', 0.00051343441549061078), ('aesthetically', 0.00040720390671524301), ('individually', 0.00040720390671524301), ('compared', 0.00061080586007286445), ('overpriced', 0.0), ('elegant', 0.0), ('glorify', 0.0), ('yhinking', 0.0002036019533576215), ('cutting', 0.0002036019533576215), ('contact', 0.0015314442340097795), ('eta', 0.0), ('orient', 0.0), ('humidity', 0.0), ('hand', 0.0010445860233705333), ('grandkids', 0.00012393873925553445), ('remind', 4.1326557153028633e-10), ('try', 0.00080560344014894442), ('sensors', 0.0002036019533576215), ('none', 0.0), ('maximum', 0.0002036019533576215), ('pure', 0.0002036019533576215), ('tube', 0.0), ('send', 1.3365894681437003e-19), ('discount', 0.0), ('cooky', 0.0), ('spoken', 0.0), ('nugent', 0.0002036019533576215), ('joke', 0.0014960802707295053), ('theu', 0.0), ('win', 0.0002036019533576215), ('primary', 0.0), ('gave', 0.0028504273470067007), ('hr', 0.0), ('tonal', 0.0002036019533576215), ('satisfactory', 0.0), ('wcho', 0.0002036019533576215), ('cylinder', 0.0002036019533576215), ('santana', 0.0002036019533576215), ('number', 0.00053115097750645564), ('tie', 0.0), ('placed', 0.0002036019533576215), ('superb', 0.00051343441549061078), ('occasional', 0.00051343441549061078), ('microphones', 0.0002036019533576215), ('insert', 0.0), ('deal', 0.0010445860233705333), ('00', 0.00012393887491030827), ('exceed', 0.0002036019533576215), ('nursing', 0.0002036019533576215), ('bring', 2.8083026431769078e-05), ('tailored', 0.0), ('shorter', 0.00051343441549061078), ('spruce', 0.0), ('instagram', 0.0002036019533576215), ('continuous', 0.0), ('luv', 0.0002036019533576215), ('tp', 0.00040720390671524301), ('method', 9.2320982213733877e-06), ('mood', 0.0001062301955012912), ('estate', 0.0002036019533576215), ('sell', 2.6892848415947384e-15), ('differently', 0.0), ('round', 0.0), ('performs', 0.0001062301955012912), ('press', 0.0002036019533576215), ('honest', 0.0), ('reacts', 0.0), ('fluid', 0.0), ('buyer', 0.00040720390671524301), ('utilize', 0.0004249207820051648), ('range', 0.0021422501014621547), ('drinking', 0.0002036019533576215), ('taking', 0.0002036019533576215), ('valid', 0.0002036019533576215), ('john', 0.0001062301955012912), ('share', 0.0), ('plank', 0.0002036019533576215), ('unpack', 0.0), ('stellar', 0.00040720390671524301), ('delivers', 0.0), ('lovely', 0.0002036019533576215), ('past', 0.0002124603910025824), ('country', 0.0002036019533576215), ('itsself', 0.0), ('extremely', 2.7922438697567627e-05), ('avail', 9.3736178386239999e-06), ('positioning', 0.0002036019533576215), ('shout', 0.0002124603910025824), ('happily', 0.0), ('serve', 0.0), ('extra', 0.0008409837170701576), ('card', 0.00030983241026953298), ('forget', 9.349950500977669e-06), ('20ft', 0.0002036019533576215), ('incorporated', 0.0002036019533576215), ('cant', 0.00053115097750645564), ('idea', 0.00083212547428283411), ('ham', 0.0), ('ended', 0.0002036019533576215), ('disappear', 0.0002036019533576215), ('snack', 0.0002036019533576215), ('complicated', 0.0002036019533576215), ('199', 0.0002036019533576215), ('freeze', 0.0), ('invention', 0.00030983241026953298), ('galas', 0.0), ('decor', 0.00052229301168526664), ('distinct', 0.0002036019533576215), ('functionally', 0.0002036019533576215), ('gather', 0.00010623019550129116), ('favor', 0.0), ('news', 0.0030010179034115291), ('attention', 9.320237846049219e-06), ('iheart', 0.00030983241026953298), ('smarter', 0.00061966482053906597), ('loader', 0.0002036019533576215), ('co', 0.0), ('sennce', 0.0), ('debut', 0.0), ('response', 1.3875892017294643e-08), ('adequate', 0.00040720390671524301), ('fidelity', 0.0002036019533576215), ('tested', 0.0), ('capable', 0.00041606273714141705), ('subset', 0.0002036019533576215), ('gorilla', 0.0), ('synch', 0.0), ('thermostat', 1.226000026486583e-10), ('start', 0.0011065861551933205), ('compression', 0.0002036019533576215), ('virtually', 0.0002036019533576215), ('platform', 0.0), ('beep', 0.0), ('toddler', 0.0), ('massachussets', 0.0002036019533576215), ('language', 2.8011230441769904e-05), ('louder', 0.00092063835670776032), ('189', 0.0), ('dip', 0.0002036019533576215), ('smartphone', 0.00022131723102558233), ('rhe', 0.0002036019533576215), ('clock', 0.00011508620579179115), ('done', 0.0014252136735033504), ('toys', 0.0), ('cover', 0.0012304708102289714), ('fuel', 0.0), ('patience', 0.00030983241026953298), ('recognizing', 0.00040720390671524301), ('luck', 0.00051343441549061078), ('sleeps', 0.0002036019533576215), ('149', 0.0), ('rolls', 0.0002036019533576215), ('assistant', 0.0), ('centric', 0.0002036019533576215), ('cupcake', 0.0002036019533576215), ('boyfriend', 0.0), ('subscription', 0.00051343441549061078), ('functioning', 0.0002036019533576215), ('horrible', 0.00061966482053906597), ('whereas', 0.0), ('keeping', 0.00061080586007286445), ('zip', 0.0002036019533576215), ('future', 6.6161178724280239e-18), ('ii', 0.0002036019533576215), ('wildly', 0.0002036019533576215), ('hacker', 0.0), ('son', 0.00069937126565769523), ('aesthetic', 0.0001062301955012912), ('cdcs', 0.0002036019533576215), ('reading', 0.00031869058650387341), ('tricky', 0.0002036019533576215), ('diagnostics', 0.0002036019533576215), ('glitch', 2.4377721182195242e-15), ('cellular', 0.0), ('outlets', 0.00040720390671524301), ('silicone', 0.0), ('listening', 0.0042756410205100513), ('improved', 0.0024432234402914578), ('working', 0.0018324175802185935), ('usefulness', 0.0001062301955012912), ('exceptional', 0.0002036019533576215), ('cold', 0.0), ('benefits', 0.0002036019533576215), ('shipping', 0.0), ('facebook', 0.0), ('constant', 0.0), ('running', 0.00061080586007286445), ('released', 0.00040720390671524301), ('luckily', 0.0002036019533576215), ('mkindle', 0.0002036019533576215), ('alarms', 0.00051343441549061078), ('cautious', 0.0), ('directed', 0.0002036019533576215), ('85', 0.0), ('landline', 0.0002036019533576215), ('stepchild', 0.0), ('badge', 0.0002036019533576215), ('update', 0.003275420558969901), ('intelligently', 0.0002036019533576215), ('verizon', 0.0002036019533576215), ('wakeup', 0.0), ('quit', 0.00040720390671524301), ('imencially', 0.0002036019533576215), ('plenty', 0.0001062301955012912), ('fathom', 0.0), ('affordable', 0.00040720390671524301), ('sophisticated', 0.00040720390671524301), ('recomend', 0.0002036019533576215), ('dozen', 0.0002036019533576215), ('rundown', 0.0), ('therapist', 0.0002036019533576215), ('multi', 0.00082326683875735081), ('speedily', 0.0), ('helpfulness', 0.0), ('special', 0.00031869058650387341), ('spends', 0.0002036019533576215), ('convienent', 0.0002036019533576215), ('pleasant', 0.00011508620507132699), ('havent', 0.0), ('talking', 0.001628815626860972), ('rating', 0.00031869058650387341), ('fantastic', 0.00062852325997511996), ('supply', 0.0002124603910025824), ('allman', 0.0002036019533576215), ('directions', 0.0002036019533576215), ('rich', 0.00030983241026953298), ('crank', 0.0002036019533576215), ('peak', 0.0002036019533576215), ('crom', 0.0), ('hold', 0.00030983241026953298), ('ridden', 0.0), ('write', 0.00011508620393547788), ('conversational', 0.0), ('kids', 0.00040720390671524301), ('mention', 0.00022131723103630286), ('wood', 0.00061080586007286445), ('receiver', 0.00030983241026953298), ('login', 0.0), ('wise', 0.0001062301955012912), ('tells', 0.00040720390671524301), ('asleep', 0.0002036019533576215), ('jack', 0.0), ('impact', 0.0), ('forth', 0.0), ('aswell', 0.0), ('advice', 0.0001062301955012912), ('controlled', 0.0002036019533576215), ('save', 6.0274838705080177e-15), ('amount', 0.0001062301955012912), ('figured', 0.0002036019533576215), ('consumer', 0.0), ('bandwagon', 0.0), ('qill', 0.0), ('experimenting', 0.00040720390671524301), ('tool', 0.00053115097750645564), ('arab', 0.0), ('description', 0.0), ('explain', 0.00010623019550129116), ('depot', 0.0), ('toy', 9.9611889363354809e-10), ('object', 0.0), ('synchronize', 0.0), ('couch', 0.0001062301955012912), ('considering', 0.00040720390671524301), ('sadly', 0.0001062301955012912), ('bonding', 0.0002036019533576215), ('house', 0.0055416208825539506), ('ordered', 0.0011242403178986066), ('inability', 0.00010623019550129116), ('substantial', 0.0), ('returned', 0.0001062301955012912), ('pricy', 0.0), ('unable', 0.00043377802847780367), ('commute', 0.0), ('spanish', 0.00031869058650387341), ('disgreement', 0.0), ('bounce', 0.0002036019533576215), ('frosting', 0.0002036019533576215), ('black', 0.0), ('taker', 0.0), ('move', 0.00010623019550129116), ('shopping', 0.00036296495318882444), ('century', 0.0002036019533576215), ('muffle', 0.00030983241026953298), ('talk', 0.0011862468633855594), ('file', 0.0), ('super', 0.00096492922960273115), ('historical', 0.0002036019533576215), ('lift', 0.0002036019533576215), ('microphone', 0.0005488649839843631), ('beat', 0.0), ('pool', 0.0002036019533576215), ('grandma', 0.0002036019533576215), ('upon', 0.0002036019533576215), ('paid', 0.0002036019533576215), ('rave', 0.0), ('sitting', 0.0002036019533576215), ('honestly', 0.00071703639103473009), ('sneeze', 0.0), ('shuffle', 0.0002036019533576215), ('portability', 0.0002036019533576215), ('fuller', 0.00040720390671524301), ('bloody', 0.0002036019533576215), ('glaze', 0.0), ('wi', 1.9491607584379407e-06), ('colored', 0.0), ('reach', 0.0), ('hooking', 0.0002036019533576215), ('radio', 0.0027796329337664415), ('unequivocally', 0.0002036019533576215), ('sonos', 0.0013278422766774805), ('resource', 0.0), ('dictionary', 0.0002036019533576215), ('handy', 0.00013278881765690784), ('ambient', 0.00040720390671524301), ('instantly', 9.3478979094931526e-06), ('supported', 0.00040720390671524301), ('shouting', 0.0002036019533576215), ('setting', 0.00073475349322890703), ('says', 0.00061080586007286445), ('portable', 0.00092063835670776032), ('frustrated', 0.00040720390671524301), ('looo', 0.0002036019533576215), ('boughf', 0.0), ('negative', 0.00061966482053906597), ('c', 0.0), ('laptop', 0.0001062301955012912), ('pricey', 0.0), ('cranked', 0.0002036019533576215), ('equivalent', 0.0002036019533576215), ('bonuses', 0.0), ('lyric', 0.0002036019533576215), ('overlooked', 0.0002036019533576215), ('changed', 0.00040720390671524301), ('teenager', 0.0002036019533576215), ('skip', 0.0002036019533576215), ('repeatedly', 0.0001062301955012912), ('honeywell', 0.0), ('wheel', 0.0), ('exists', 0.0002036019533576215), ('distortion', 0.0002036019533576215), ('proper', 0.0002036019533576215), ('closet', 0.0002036019533576215), ('granddaughter', 0.0), ('cell', 0.00012393883868578792), ('mh', 0.0002036019533576215), ('35', 0.0), ('website', 0.0), ('short', 0.0011242403178986066), ('quote', 0.0), ('front', 0.00071703639103473009), ('noisy', 0.0), ('helps', 0.0002036019533576215), ('actually', 0.0017616227511748561), ('blasting', 0.0002036019533576215), ('story', 0.00041606273714141705), ('norway', 0.0), ('bigger', 0.00081440781343048601), ('trip', 0.0), ('resources', 0.0002036019533576215), ('behind', 0.0), ('videos', 0.0), ('avoid', 0.0), ('answering', 0.00071703639103473009), ('chat', 0.0), ('complain', 0.0), ('convenience', 0.0011242403178986066), ('situation', 0.0002124603910025824), ('incredibly', 0.0001062301955012912), ('tablet', 0.0), ('beer', 0.0002036019533576215), ('amm', 0.0002036019533576215), ('bugs', 0.0), ('later', 0.0013367012572443118), ('appropriately', 0.0), ('696', 0.0002036019533576215), ('productivity', 0.0001062301955012912), ('remote', 0.00073475349322890703), ('assistants', 0.0002036019533576215), ('precise', 0.0), ('full', 0.0011596743577390373), ('annoying', 0.0012216117201457289), ('funny', 0.00041606273714141705), ('raspy', 0.0002036019533576215), ('depending', 0.0002036019533576215), ('turned', 0.00061080586007286445), ('grammatical', 0.0), ('excited', 0.0004249207820051648), ('audible', 0.0), ('muffled', 0.00040720390671524301), ('immediately', 0.00092063835670776032), ('mini', 0.0), ('shock', 0.0002036019533576215), ('figure', 0.00053115097750645564), ('terrific', 9.3181152280611197e-06), ('uninstall', 0.0002036019533576215), ('person', 0.00023902585537863592), ('reputed', 0.0002036019533576215), ('industrial', 0.0), ('tight', 0.0002036019533576215), ('follow', 5.4480055061167643e-15), ('frequent', 0.0), ('expensive', 0.00032754769807427192), ('syncs', 0.00030983241026953298), ('age', 9.3363542103435106e-06), ('nicer', 0.0002036019533576215), ('aware', 0.0002036019533576215), ('error', 0.00052229301168526664), ('cheap', 0.00071703639103473009), ('problem', 0.002823925566690299), ('controlling', 0.00081440781343048601), ('albums', 0.0002036019533576215), ('curated', 0.0), ('accessibility', 0.0), ('lower', 0.0001062301955012912), ('sincerely', 0.0), ('adding', 0.0010180097667881075), ('lengthy', 0.0), ('grande', 0.0), ('escape', 0.0002036019533576215), ('festival', 0.0), ('disapoointed', 0.0002036019533576215), ('fool', 0.0002036019533576215), ('post', 0.0002036019533576215), ('family', 0.00068164950562369904), ('poor', 0.00061966482053906597), ('loved', 0.0022484806357972132), ('popped', 0.0002036019533576215), ('promising', 0.0), ('prime', 0.0044084488230131469), ('knowledable', 0.0002036019533576215), ('meds', 0.0), ('engineer', 0.0), ('footprint', 0.00040720390671524301), ('beware', 0.0), ('stock', 0.0), ('xxx52420', 0.0002036019533576215), ('portland', 0.0), ('defective', 0.0002036019533576215), ('quirk', 0.0), ('voluminous', 0.0002036019533576215), ('reccomend', 0.0002036019533576215), ('inform', 0.0002036019533576215), ('p2p', 0.0002036019533576215), ('activate', 0.0), ('barrage', 0.0002036019533576215), ('condition', 0.0), ('possible', 0.00071703639103473009), ('muddy', 0.0002036019533576215), ('dots', 0.00061080586007286445), ('cord', 0.0002124603910025824), ('default', 0.0), ('connectivity', 0.0001062301955012912), ('grab', 0.0002036019533576215), ('randomly', 0.00051343441549061078), ('excitement', 0.0), ('sits', 0.0), ('thats', 0.0002036019533576215), ('enterprise', 0.0), ('likes', 0.00040720390671524301), ('practical', 0.00031869058650387341), ('fail', 0.00010623019550129116), ('fits', 0.0002036019533576215), ('emirate', 0.0), ('io', 0.00030983241026953298), ('drain', 0.0002036019533576215), ('ive', 0.0002036019533576215), ('bluetooth', 0.0018855697799253603), ('repeat', 0.0), ('howard', 0.0), ('ironically', 0.0), ('greeting', 0.00040720390671524301), ('chose', 0.0), ('fire', 0.00082326683875735081), ('testing', 0.00040720390671524301), ('touched', 0.0002036019533576215), ('egg', 0.0002036019533576215), ('garage', 0.00040720390671524301), ('greet', 0.0), ('wonderfully', 0.0002036019533576215), ('appts', 0.0002036019533576215), ('never', 0.0018855697799253603), ('main', 0.00062852325997511996), ('enhance', 0.0002036019533576215), ('table', 0.00011508620573379673), ('explainations', 0.0002036019533576215), ('hmmmmm', 0.0), ('originally', 0.0001062301955012912), ('white', 0.00012393881214065822), ('immediate', 0.0001062301955012912), ('beloved', 0.0002036019533576215), ('featured', 0.0002036019533576215), ('flaw', 0.0002036019533576215), ('stated', 0.00061080586007286445), ('flash', 0.0010180097667881075), ('indicator', 0.0), ('civilization', 0.0002036019533576215), ('ac', 0.0001062301955012912), ('broaden', 0.0), ('spreading', 0.0), ('im', 0.00012393868252155393), ('continue', 0.00082326683875735081), ('volumn', 0.0002036019533576215), ('fry', 0.0002036019533576215), ('medicine', 0.0), ('warranty', 0.00040720390671524301), ('folder', 0.0002036019533576215), ('buddy', 0.0001062301955012912), ('yelling', 0.00040720390671524301), ('tat', 0.0002036019533576215), ('blast', 0.00030983241026953298), ('character', 0.0002036019533576215), ('worry', 0.0001062301955012912), ('experience', 0.0019652248228345542), ('loud', 0.0022927742562482314), ('008d', 0.00081440781343048601), ('class', 0.0), ('per', 0.00030983241026953298), ('worst', 0.00061080586007286445), ('spoiled', 0.0002036019533576215), ('flexibility', 9.3338025742656775e-06), ('additionally', 0.0), ('portuguese', 0.0002036019533576215), ('nasty', 0.0002036019533576215), ('shortcoming', 0.0), ('require', 3.5112873651804791e-15), ('weigh', 0.0), ('ground', 0.0), ('individual', 0.0), ('important', 0.00040720390671524301), ('cost', 4.90488237528898e-15), ('champ', 0.0002036019533576215), ('deregister', 0.0002036019533576215), ('googlehome', 0.0), ('exspecting', 0.0), ('libs', 0.0), ('app', 0.0021866035016807465), ('stuff', 0.0), ('k', 0.0002124603910025824), ('glad', 0.00044263446207766765), ('diections', 0.0002036019533576215), ('waste', 7.6319258693895217e-16), ('asked', 0.003257631253721944), ('identical', 0.0), ('expecting', 0.0002036019533576215), ('sling', 0.0), ('net', 0.0), ('educate', 0.0), ('posting', 0.0002036019533576215), ('pc', 0.0), ('robotic', 0.0), ('recognizes', 0.0), ('lg5', 0.0002036019533576215), ('input', 9.3018990974434042e-06), ('unlike', 9.3602755888543208e-06), ('telling', 0.00061080586007286445), ('seller', 0.0002036019533576215), ('dream', 0.0002036019533576215), ('lb', 0.0), ('basic', 3.0591166082149448e-12), ('notice', 0.00061966482053906597), ('rubber', 0.0), ('brand', 2.1516083128541281e-15), ('bite', 9.0587351278087651e-16), ('hip', 0.0), ('losing', 0.00040720390671524301), ('overseas', 0.0), ('spooky', 0.0002036019533576215), ('fabulous', 1.3785583785794394e-15), ('ofie', 0.0), ('scope', 0.0002036019533576215), ('refer', 0.0), ('crowd', 0.0), ('accord', 9.2120186805827316e-06), ('unreliable', 0.0), ('saw', 0.0001062301955012912), ('contacted', 0.00061080586007286445), ('necessarily', 0.0), ('foot', 0.0002036019533576215), ('investment', 1.4654366940803769e-15), ('latest', 0.00081440781343048601), ('mitigate', 0.0), ('works', 0.0019386481461628128), ('phrase', 0.0), ('interrupts', 0.0), ('action', 0.0001062301955012912), ('elton', 0.00040720390671524301), ('distinguish', 0.0), ('casting', 0.0), ('calling', 0.00061080586007286445), ('read', 0.00038950961878685635), ('hump', 0.0), ('traffic', 0.00032754769807427978), ('smaller', 0.0014252136735033504), ('glitchy', 0.0002036019533576215), ('brief', 0.0), ('quieter', 0.0002036019533576215), ('eve', 0.0001062301955012912), ('wallys', 0.0), ('option', 0.00027442753510503368), ('rebate', 0.0), ('ev', 0.0), ('ups', 0.0), ('fan', 0.0012216117201457289), ('adjust', 0.00071703639103473009), ('responsiveness', 0.00061080586007286445), ('sooner', 0.0), ('chore', 0.0002036019533576215), ('gifts', 0.00051343441549061078), ('dropped', 0.0001062301955012912), ('vibrating', 0.0002036019533576215), ('introduce', 0.0), ('tooth', 0.00061966482053906597), ('configure', 0.0), ('instructions', 0.00040720390671524301), ('uses', 0.0002036019533576215), ('cheese', 0.0002036019533576215), ('headed', 0.0002036019533576215), ('mics', 0.00011508620572694605), ('imagine', 0.00092063835670776032), ('appealing', 0.0002036019533576215), ('pros', 0.0), ('learns', 0.0), ('excels', 0.0), ('rything', 0.0), ('essentilas', 0.0), ('lone', 0.0002036019533576215), ('00be', 0.0002036019533576215), ('setups', 0.0002036019533576215), ('notify', 0.00040720390671524301), ('updates', 0.00081440781343048601), ('id', 0.0), ('stand', 0.00082326683875735081), ('beautiful', 0.00061966482053906597), ('misled', 0.0002036019533576215), ('winner', 0.0001062301955012912), ('routine', 0.0002124603910025824), ('heel', 0.0002036019533576215), ('others', 0.00072589516606692698), ('humor', 0.00030983241026953298), ('freak', 0.0002036019533576215), ('charm', 0.0), ('forgive', 0.0), ('silvery', 0.0002036019533576215), ('iphone', 0.00083212547428283411), ('industry', 0.0), ('unintuitive', 0.0), ('tinny', 0.0002036019533576215), ('plan', 0.00072589516606692698), ('period', 0.0001062301955012912), ('recipient', 9.3742650998431348e-06), ('cloud', 0.0002036019533576215), ('wemo', 0.0), ('ballet', 0.0), ('tonight', 0.0), ('movie', 0.0), ('understood', 0.00010623019550129116), ('untapped', 0.0), ('enjoys', 0.0010180097667881075), ('subscribed', 0.0002036019533576215), ('breadth', 0.0002036019533576215), ('minute', 2.0048842009731681e-19), ('echoes', 0.0002036019533576215), ('concrete', 0.0002036019533576215), ('stunning', 0.0002036019533576215), ('grace', 0.0), ('build', 1.0450541562007275e-09), ('habe', 0.0), ('desired', 0.0001062301955012912), ('packaging', 0.00010623019550129116), ('completion', 0.0), ('tasking', 0.0002036019533576215), ('dose', 0.0001062301955012912), ('newborn', 0.0), ('digging', 0.0), ('fiance', 0.0002036019533576215), ('personality', 0.00051343441549061078), ('worthless', 0.00040720390671524301), ('bedside', 0.0002036019533576215), ('promo', 0.0), ('sight', 0.0002036019533576215), ('hears', 0.00023017241124359845), ('soundtrack', 0.0), ('technical', 9.2289206085426915e-06), ('command', 0.0014607012544745801), ('christ', 0.0002036019533576215), ('endorsed', 0.0002036019533576215), ('w', 0.00040720390671524301), ('suck', 0.00010623019550129116), ('pharrell', 0.0002036019533576215), ('road', 0.0002036019533576215), ('trial', 0.0), ('inefficient', 0.0), ('sorry', 0.00025669212703886211), ('360', 0.0), ('exact', 0.00040720390671524301), ('contacting', 0.0002036019533576215), ('laugh', 9.3575815392725922e-06), ('market', 0.0), ('female', 0.0), ('books', 0.0002036019533576215), ('loneliest', 0.0002036019533576215), ('travel', 0.0), ('enjoying', 0.0022396214869338364), ('besthow', 0.0002036019533576215), ('war', 0.0002036019533576215), ('gizmo', 0.0001062301955012912), ('mother', 0.0013455599980732522), ('hesitant', 0.0002124603910025824), ('pocket', 0.0), ('requirement', 0.0), ('tine', 0.0), ('cat', 0.00010623019550129116), ('wind', 9.3437468938432465e-06), ('challenging', 0.0002036019533576215), ('correctly', 0.00071703639103473009), ('repeated', 0.0002036019533576215), ('rattling', 0.0002036019533576215), ('arrival', 0.0), ('recognize', 0.00033640371863859491), ('return', 0.00049575217559255885), ('eagles', 0.0002036019533576215), ('gritted', 0.0002036019533576215), ('suppress', 0.0), ('aww', 0.0), ('date', 0.00062852325997511996), ('base', 2.4455163176043831e-12), ('comparing', 0.00040720390671524301), ('navigate', 0.0), ('numereous', 0.0), ('consume', 0.0002036019533576215), ('angrier', 0.0), ('properietery', 0.0), ('extends', 0.0), ('developer', 0.0002036019533576215), ('register', 0.00040720390671524301), ('shopper', 0.0), ('nowhere', 0.00030983241026953298), ('stroke', 0.0), ('gives', 0.0002036019533576215), ('customize', 0.00012393883249361834), ('translation', 3.6936649982585606e-16), ('adapt', 0.0002036019533576215), ('drove', 0.00040720390671524301), ('grandsons', 0.0002036019533576215), ('sensitivity', 0.0001062301955012912), ('equip', 0.0), ('long', 0.00057543102958765703), ('doesnt', 0.00031869058650387341), ('starter', 0.0002036019533576215), ('clarity', 0.0002036019533576215), ('boat', 0.0001062301955012912), ('lake', 0.0), ('technician', 0.0001062301955012912), ('laundry', 0.0002036019533576215), ('towards', 0.0), ('developed', 0.0002036019533576215), ('help', 0.0020360886734728484), ('investigating', 0.0002036019533576215), ('flight', 0.0), ('hole', 0.0), ('notifications', 0.0002036019533576215), ('yearly', 0.0), ('cordless', 0.0002036019533576215), ('0080', 0.0002036019533576215), ('debued', 0.0), ('married', 0.0002036019533576215), ('overcomes', 0.0), ('luxury', 0.0), ('demand', 9.2712777179465331e-06), ('record', 0.0002124603910025824), ('impressive', 0.00092063835670776032), ('hexadecimal', 0.0002036019533576215), ('speed', 0.0001062301955012912), ('inside', 0.0002124603910025824), ('mere', 0.0002036019533576215), ('connected', 0.0017350461904063427), ('shuts', 0.0001062301955012912), ('utilitarian', 0.0002036019533576215), ('secretary', 0.0002036019533576215), ('reference', 0.0002036019533576215), ('reload', 0.0002036019533576215), ('endless', 8.1191127309293959e-16), ('assisted', 0.0002036019533576215), ('kardon', 0.0002036019533576215), ('buck', 0.0010180097667881075), ('pioneer', 0.0002036019533576215), ('status', 0.0), ('keyless', 0.0), ('jump', 0.0002124603910025824), ('interacting', 0.0002036019533576215), ('everybody', 0.0002036019533576215), ('occur', 0.00010623019550129116), ('generic', 0.0002036019533576215), ('ecobee', 0.0), ('wherever', 0.0), ('stair', 0.0002036019533576215), ('clue', 9.3325568923412841e-06), ('sufficiently', 0.0), ('met', 0.0002036019533576215), ('library', 0.00033640371861299825), ('scores', 0.0002036019533576215), ('simplicity', 0.0002036019533576215), ('city', 9.3814174636408372e-06), ('overly', 0.0), ('pain', 0.00051343441549061078), ('anywhere', 0.00071703639103473009), ('alright', 0.0002036019533576215), ('cause', 0.00052229301168526664), ('dj', 0.0001062301955012912), ('tim', 0.00030983241026953298), ('enabled', 0.0002036019533576215), ('usage', 0.0002036019533576215), ('android', 0.0), ('hands', 0.0002036019533576215), ('exclusively', 0.0002036019533576215), ('crossword', 0.0), ('downloaded', 0.0002036019533576215), ('awake', 0.0002036019533576215), ('enjoyment', 0.00051343441549061078), ('eq', 0.0002036019533576215), ('home', 0.0), ('complicate', 8.3667971018305696e-06), ('gadget', 8.9541470018405974e-15), ('satellite', 0.0002036019533576215), ('suggestions', 0.0002036019533576215), ('timei', 0.0002036019533576215), ('impaired', 0.0002036019533576215), ('icon', 0.0002036019533576215), ('hard', 0.0013721347709866735), ('verity', 0.0002036019533576215), ('familiy', 0.0), ('extensive', 0.0), ('feeling', 0.0), ('cinema', 0.0), ('sleeker', 0.0002036019533576215), ('14', 9.3738470838379915e-06), ('resembles', 0.0), ('difficulty', 0.00071703639103473009), ('windows', 0.0), ('red', 2.3224447631836489e-12), ('ears', 0.0002036019533576215), ('audiophiles', 0.0002036019533576215), ('truncate', 0.0), ('daughter', 0.0016023104738573332), ('wall', 0.00031869058650387341), ('hindarance', 0.0002036019533576215), ('documentation', 0.0002036019533576215), ('playback', 0.0), ('keeper', 0.00040720390671524301), ('notification', 0.0002036019533576215), ('iteration', 0.0002036019533576215), ('route', 0.0), ('relay', 0.0002036019533576215), ('intact', 0.0), ('grand', 0.0), ('calendar', 0.0), ('lookup', 0.0), ('hook', 0.00064623855383041755), ('treating', 0.0002036019533576215), ('retaining', 0.0002036019533576215), ('musical', 0.0001062301955012912), ('synchronizing', 0.0002036019533576215), ('classical', 0.00081440781343048601), ('elite', 0.0), ('hardware', 6.7659548910773858e-06), ('search', 1.9713625399790569e-14), ('jealous', 0.00040720390671524301), ('plays', 0.0012216117201457289), ('forever', 0.00030983241026953298), ('expire', 0.0), ('remember', 0.0018412767134155206), ('built', 0.00051343441549061078), ('definately', 0.0002036019533576215), ('instant', 1.869953129855985e-05), ('grocery', 0.0010445860233705333), ('nope', 0.00040720390671524301), ('husbands', 0.0), ('occasionally', 0.0002124603910025824), ('motivate', 0.0), ('improvement', 0.0019386481461628128), ('locate', 0.0), ('twenty', 0.0002036019533576215), ('bedroom', 0.0020803136857070852), ('reviewer', 0.0002036019533576215), ('dressed', 0.00040720390671524301), ('ignores', 0.0002036019533576215), ('explicit', 0.00040720390671524301), ('espected', 0.0002036019533576215), ('sparingly', 0.0002036019533576215), ('specific', 0.00084984156401032959), ('talked', 0.00040720390671524301), ('competitive', 0.0002036019533576215), ('involved', 0.0002036019533576215), ('slim', 0.0002036019533576215), ('faithful', 0.0002036019533576215), ('among', 0.0), ('intrigued', 0.0002036019533576215), ('limited', 0.00022131723103822383), ('facts', 0.0002036019533576215), ('private', 0.0), ('disappointed', 0.0028681455641389204), ('boloney', 0.0002036019533576215), ('choose', 0.00016799079348340457), ('hectic', 0.0), ('paper', 0.00030983241026953298), ('dialing', 0.0002036019533576215), ('makes', 0.0010180097667881075), ('mic', 0.00061966482053906597), ('perk', 0.0002036019533576215), ('nwastrbof', 0.0002036019533576215), ('overlap', 0.0), ('misunderstood', 0.0002036019533576215), ('shutoff', 0.0), ('remarkable', 0.0002036019533576215), ('throughly', 0.0002036019533576215), ('pop', 2.1101072098340651e-15), ('normally', 1.8494722633312524e-15), ('downside', 0.0001062301955012912), ('station', 0.0022573396435679326), ('capacity', 9.3032078780936574e-06), ('encompassing', 0.0002036019533576215), ('overrate', 0.0), ('entertained', 0.0), ('click', 0.0001062301955012912), ('sens', 0.0002036019533576215), ('living', 3.7297900963931762e-05), ('lenovo', 0.0), ('axe', 0.0), ('laptaps', 0.0), ('porch', 0.0), ('appartment', 0.0002036019533576215), ('updated', 0.00071703639103473009), ('increased', 0.0002036019533576215), ('groupon', 0.0), ('garbage', 0.0), ('delete', 0.00040720390671524301), ('callender', 0.0), ('compel', 0.0), ('piano', 0.0), ('camera', 0.0002036019533576215), ('ontune', 0.0002036019533576215), ('bedroon', 0.0002036019533576215), ('yr', 9.3480431496680827e-06), ('40', 0.00051343441549061078), ('initially', 0.0002124603910025824), ('automatically', 0.0002036019533576215), ('asks', 0.0), ('various', 0.00062852325997511996), ('asset', 0.0002036019533576215), ('flooded', 0.0002036019533576215), ('cleaver', 0.0002036019533576215), ('valentines', 0.0002036019533576215), ('gray', 0.00040720390671524301), ('remains', 0.0002036019533576215), ('requestedaaa', 0.0002036019533576215), ('meantime', 0.0), ('empty', 0.0), ('availabe', 0.0), ('took', 0.0010180097667881075), ('interfere', 0.0), ('accomplish', 0.0002036019533576215), ('harder', 0.0002036019533576215), ('particular', 0.0001062301955012912), ('eyesight', 0.0), ('entiende', 0.0002036019533576215), ('arrived', 0.00041606273714141705), ('router', 1.872793151809153e-05), ('isnt', 0.0), ('informs', 0.0002036019533576215), ('evar', 0.0), ('political', 0.0001062301955012912), ('soundbar', 0.0002036019533576215), ('strip', 0.0002036019533576215), ('minimal', 0.0001062301955012912), ('flawlessly', 1.8788195549570023e-05), ('grant', 0.0), ('static', 0.0), ('dining', 0.0002036019533576215), ('accept', 9.3832664181827537e-06), ('dime', 0.0002036019533576215), ('trainer', 0.0002036019533576215), ('lol', 2.8030866708575156e-05), ('ones', 0.0002036019533576215), ('amplifier', 0.0002036019533576215), ('godda', 0.0002036019533576215), ('inferior', 0.0002036019533576215), ('tv', 0.0017616817229850633), ('distance', 1.6709707397135566e-15), ('stereo', 0.0012304708102289714), ('software', 0.00063738117300774682), ('0099', 0.0002036019533576215), ('comparable', 0.0002036019533576215), ('lock', 0.00012393863853583448), ('companion', 0.0), ('precision', 0.0), ('listener', 0.0001062301955012912), ('memorizing', 0.0002036019533576215), ('listens', 0.00051343441549061078), ('turn', 0.0032223356026865328), ('monthly', 0.00061080586007286445), ('mastermind', 0.0), ('hugely', 0.0), ('hockey', 0.0002036019533576215), ('difficut', 0.0), ('interaction', 0.0), ('seek', 0.0001062301955012912), ('community', 0.0), ('chime', 0.0), ('profile', 0.0), ('partner', 0.0), ('literally', 0.00071703639103473009), ('sec', 0.00040720390671524301), ('wow', 3.3818052603474042e-15), ('apparently', 1.7395711942225661e-15), ('volume', 0.0070287737564338117), ('infancy', 0.0), ('mac', 0.0002036019533576215), ('maker', 0.0002036019533576215), ('large', 0.0010357275837913282), ('sync', 0.0), ('curve', 0.00082326683875735081), ('guide', 0.00040720390671524301), ('enthusiasm', 0.0), ('dimming', 0.0002036019533576215), ('outrageous', 0.0002036019533576215), ('incorrect', 0.00051343441549061078), ('disabled', 0.00061080586007286445), ('plastic', 0.00040720390671524301), ('waist', 0.0002036019533576215), ('finicky', 0.0002036019533576215), ('eco', 0.00071703639103473009), ('fell', 0.0001062301955012912), ('keeps', 0.0002036019533576215), ('pod', 0.0002036019533576215), ('saving', 0.0002036019533576215), ('mart', 0.0), ('appointment', 0.0), ('concept', 0.00061080586007286445), ('pickup', 0.0), ('leaving', 0.00040720390671524301), ('occasion', 0.0001062301955012912), ('complement', 0.0002036019533576215), ('usability', 0.0001062301955012912), ('match', 0.00051343441549061078), ('exercise', 0.0), ('tone', 0.00051343441549061078), ('territory', 0.0), ('hidden', 0.0), ('personalize', 0.0001062301955012912), ('fi', 2.0316159932305742e-17), ('hype', 0.0002036019533576215), ('interactive', 0.00030983241026953298), ('island', 0.0), ('tether', 0.0002036019533576215), ('recording', 0.0002036019533576215), ('unfortunate', 0.0002036019533576215), ('goes', 0.0002036019533576215), ('modern', 0.00040720390671524301), ('type', 2.7335526708716276e-05), ('store', 3.7090357769889391e-18), ('categories', 0.0002036019533576215), ('goigleand', 0.0), ('yay', 0.0002036019533576215), ('followed', 0.0002036019533576215), ('pas', 0.0), ('provides', 0.0002036019533576215), ('touch', 0.00031869058650387341), ('ease', 0.00015045779275580929), ('hamilton', 0.0), ('googlewill', 0.0), ('37', 0.0), ('brighten', 0.0), ('revolve', 0.0002036019533576215), ('applied', 0.0002036019533576215), ('creation', 0.0), ('necessary', 0.0), ('paired', 0.00061080586007286445), ('wowesome', 0.0), ('ultimately', 0.0), ('guilardi', 0.0), ('pesky', 0.0002036019533576215), ('receptacles', 0.0002036019533576215), ('whenever', 0.00030983241026953298), ('decend', 0.0002036019533576215), ('looking', 0.0020360195335762149), ('wished', 0.00010623019550129116), ('six', 0.00041606273714141705), ('penny', 0.00040720390671524301), ('slowly', 0.0001062301955012912), ('doorbell', 0.0002036019533576215), ('costco', 0.0), ('replacements', 0.0002036019533576215), ('sky', 0.0), ('meanwhile', 0.00010623019550129116), ('junk', 0.00081440781343048601), ('foliage', 0.0002036019533576215), ('unnecessary', 0.0), ('cumbersome', 0.0002036019533576215), ('accurate', 0.00031869058650387341), ('presentation', 0.0), ('opinion', 0.0002124603910025824), ('memory', 0.00011508620575186408), ('hue', 0.0), ('economical', 0.0002036019533576215), ('acknowledge', 0.00040720390671524301), ('fascinated', 0.0002036019533576215), ('thrilled', 0.00030983241026953298), ('advertise', 6.4728076953021464e-10), ('tastes', 0.0002036019533576215), ('protect', 0.0001062301955012912), ('corporate', 0.0001062301955012912), ('french', 0.0), ('rocks', 0.0002036019533576215), ('ton', 9.0982745660071016e-06), ('robot', 0.0), ('grip', 0.0002036019533576215), ('linked', 0.00061080586007286445), ('cellphone', 0.0002036019533576215), ('vast', 0.0), ('flawless', 0.0), ('development', 0.0), ('learning', 0.0050989080222569299), ('units', 0.00081440781343048601), ('refuse', 0.0001062301955012912), ('copyright', 0.0), ('availability', 0.0), ('jet', 0.0), ('replies', 0.0002036019533576215), ('excite', 3.77689394600996e-10), ('trek', 0.0002036019533576215), ('newly', 0.0002036019533576215), ('norwegian', 0.0), ('sick', 0.0002036019533576215), ('temp', 0.0), ('heard', 0.00062852325997511996), ('unhelpful', 0.0002036019533576215), ('transform', 0.0002036019533576215), ('benefit', 0.00051343441549061078), ('fit', 0.00011508620561555033), ('girls', 0.0002036019533576215), ('decide', 0.00023902587013881565), ('payment', 0.0002036019533576215), ('instructed', 0.0002036019533576215), ('delivery', 0.0001239384783901683), ('pound', 0.0), ('gotta', 0.0002036019533576215), ('pronounciation', 0.0), ('lasted', 0.0002036019533576215), ('consideration', 0.0002036019533576215), ('everyone', 0.0009649292296027306), ('understandable', 0.0001062301955012912), ('raise', 0.0002036019533576215), ('fe0f', 0.00061080586007286445), ('holiday', 0.00072589516606692698), ('improve', 0.0007436113685090381), ('preferences', 0.0002036019533576215), ('dynamic', 0.00040720390671524301), ('fibe', 0.0002036019533576215), ('absence', 0.0), ('tvs', 0.0), ('mistaken', 0.0002036019533576215), ('299', 0.0002036019533576215), ('intercom', 0.00081440781343048601), ('inexpensive', 0.0), ('morning', 0.0020980302501959385), ('banana', 0.0), ('goose', 0.0), ('mobile', 0.00030983241026953298), ('application', 0.0), ('jot', 0.0002036019533576215), ('wink', 0.00030983241026953298), ('optimize', 0.0), ('mad', 0.0), ('favorite', 0.0021865439752309429), ('yo', 0.0), ('struggle', 0.0), ('link', 0.00067280743725574852), ('dc', 0.0002036019533576215), ('details', 0.0002036019533576215), ('echo', 0.060585337131093028), ('prevent', 0.0001062301955012912), ('true', 0.00051343441549061078), ('niece', 0.0001062301955012912), ('dropping', 0.0002036019533576215), ('verbal', 2.1511405065398924e-15), ('devil', 0.0002036019533576215), ('powerful', 0.0001062301955012912), ('aux', 0.00071703639103473009), ('male', 0.0002124603910025824), ('sucks', 0.0002036019533576215), ('songs', 0.0010180097667881075), ('bowl', 0.00040720390671524301), ('xmas', 1.3155976293865904e-08), ('custom', 0.0), ('79', 0.00051343441549061078), ('creepy', 0.00030983241026953298), ('remotely', 0.00040720390671524301), ('devoloped', 0.0), ('money', 0.0018059133235219494), ('wake', 0.0017793395378224268), ('unir', 0.0), ('limlted', 0.0002036019533576215), ('research', 0.00011508620546849775), ('improvment', 0.0002036019533576215), ('readily', 0.0), ('speakerphone', 0.0), ('lip', 0.0), ('happen', 2.7915166255983447e-05), ('powered', 0.00040720390671524301), ('hiccup', 0.0), ('mummy', 0.0002036019533576215), ('yard', 0.0), ('rep', 0.00041606273714141705), ('spotify', 0.0020980302501959385), ('suddenly', 0.00010623019550129116), ('household', 0.00031869058650387341), ('monk', 0.0002036019533576215), ('install', 0.00032754769807433822), ('successfully', 0.0002124603910025824), ('extension', 0.0), ('anybody', 0.0), ('intermittenently', 0.0), ('disagree', 0.0002036019533576215), ('ugh', 0.0002036019533576215), ('feel', 0.00058428499797924603), ('truth', 0.00040720390671524301), ('college', 0.00010623019550129116), ('dependent', 0.0), ('according', 0.0002036019533576215), ('event', 0.0), ('avao', 0.0), ('briefings', 0.0002036019533576215), ('daily', 0.0018855697799253603), ('artificial', 0.0), ('ocean', 0.0001062301955012912), ('coffee', 0.0), ('phisical', 0.0002036019533576215), ('babe', 0.0), ('choice', 0.0007436113685090381), ('determine', 0.0002036019533576215), ('irrigation', 0.0), ('joy', 0.00030983241026953298), ('equally', 0.0), ('die', 0.00010623019550129116), ('regularly', 0.00041606273714141705), ('registering', 0.0002036019533576215), ('giggle', 0.0002036019533576215), ('text', 5.2156018344944513e-08), ('hugs', 0.0), ('tout', 0.00040720390671524301), ('operational', 0.0002036019533576215), ('converse', 0.0), ('manages', 0.0001062301955012912), ('frozen', 0.0002036019533576215), ('350', 0.0), ('end', 0.00054886498398425479), ('slackers', 0.0002036019533576215), ('enjoyed', 0.0013367012572443118), ('lacking', 0.0002036019533576215), ('hurry', 0.0002036019533576215), ('bibical', 0.0002036019533576215), ('sounds', 0.001628815626860972), ('goggle', 0.0), ('choices', 0.0002036019533576215), ('real', 0.0008409837170701576), ('expand', 0.0), ('box', 1.3016740599722677e-05), ('low', 0.00093835575756789089), ('tons', 0.0002036019533576215), ('ed', 0.0002036019533576215), ('job', 0.00092949723080859906), ('sleep', 0.00083212547428283411), ('watch', 2.7448238297691613e-05), ('fracture', 0.0002036019533576215), ('machine', 0.00061966482053906597), ('father', 0.0001062301955012912), ('downright', 0.0002036019533576215), ('info', 2.0048842009731681e-19), ('heavy', 0.0002036019533576215), ('hundreds', 0.0), ('afforded', 0.0002036019533576215), ('element', 0.0), ('par', 0.00061080586007286445), ('okay', 0.00013278842750892369), ('0091', 0.00081440781343048601), ('young', 0.0), ('importantly', 0.0001062301955012912), ('pleased', 0.0013455599980732522), ('friend', 0.0016023104738573338), ('hijinks', 0.0002036019533576215), ('charging', 0.0002036019533576215), ('tellls', 0.0002036019533576215), ('bike', 0.0002036019533576215), ('office', 0.00052229301168526664), ('till', 0.0), ('rechargeable', 0.00040720390671524301), ('integrate', 0.0), ('measurement', 1.5445293759229613e-15), ('basement', 0.0002036019533576215), ('sign', 0.00030983241026953298), ('ventura', 0.0), ('canr', 0.0), ('understands', 0.00043377802847780622), ('rob', 0.0002036019533576215), ('factory', 0.0), ('prompt', 0.00052229301168526664), ('misaligned', 0.0002036019533576215), ('suppose', 0.0002124603910025824), ('loose', 0.0002036019533576215), ('honesty', 0.0002036019533576215), ('days', 0.00040720390671524301), ('devise', 0.0001062301955012912), ('king', 0.0), ('coin', 0.0), ('ect', 0.0001062301955012912), ('folk', 0.00010623019550129116), ('attractive', 9.3396088851554859e-06), ('prior', 0.00040720390671524301), ('worker', 0.0), ('loyal', 0.0002036019533576215), ('homework', 0.0), ('glorified', 0.0002036019533576215), ('spec', 0.0002036019533576215), ('difference', 0.00032754769807428807), ('bypass', 0.0), ('harmony', 1.8471954530354412e-05), ('completely', 2.189462065705979e-10), ('heart', 0.0), ('system', 0.0010003555044619131), ('cake', 0.0001062301955012912), ('manual', 0.00040720390671524301), ('burnt', 0.0), ('oz', 0.0), ('german', 0.0002036019533576215), ('printer', 0.0001062301955012912), ('somewhere', 0.00040720390671524301), ('percent', 0.0), ('loves', 0.00081440781343048601), ('distorted', 0.00040720390671524301), ('album', 0.0002124603910025824), ('chromebooks', 0.0002036019533576215), ('enforcement', 0.00040720390671524301), ('disappointment', 0.00061966482053906597), ('fav', 0.0002036019533576215), ('reinstall', 0.0002036019533576215), ('pause', 0.0), ('grampa', 0.0), ('argument', 8.9806775716222722e-06), ('do', 0.0), ('reached', 0.0002036019533576215), ('warm', 0.0), ('straight', 0.00010623019550129116), ('fill', 0.00062852325997511996), ('meets', 0.0002036019533576215), ('unplugged', 0.00040720390671524301), ('reaching', 0.0002036019533576215), ('lightbulbs', 0.0), ('trust', 0.0), ('suggest', 0.0001062301955012912), ('dad', 1.1300901296624817e-105), ('group', 0.0), ('aaaa', 0.0), ('millennial', 0.0), ('category', 0.0002036019533576215), ('gear', 0.0002036019533576215), ('foreign', 0.00061080586007286445), ('wire', 9.3203367100471381e-06), ('metal', 0.0), ('bus', 0.0), ('intelligent', 1.8559588219771278e-05), ('sprinkler', 0.00010623019550129116), ('block', 0.00040720390671524301), ('retire', 0.0), ('definate', 0.0002036019533576215), ('annoy', 0.00052229301168526664), ('aside', 0.00030983241026953298), ('guessing', 0.0002036019533576215), ('rock', 0.00092063835670776032), ('17wow', 0.0002036019533576215), ('hoped', 0.00061080586007286445), ('needed', 0.00092063835670776032), ('staying', 0.0002036019533576215), ('outlet', 0.00011508620583660593), ('drama', 0.0), ('nursery', 0.0002036019533576215), ('al', 0.0002036019533576215), ('wide', 0.00030983241026953298), ('oil', 0.0), ('spying', 0.0002036019533576215), ('last', 0.0020448786753904298), ('lumineersalexa', 0.0002036019533576215), ('liking', 0.0002036019533576215), ('assistance', 0.00030983241026953298), ('writing', 0.0), ('sort', 0.00082326683875735081), ('frustrating', 0.0011242403178986066), ('crap', 0.00040720390671524301), ('jokes', 0.00030983241026953298), ('brag', 0.0002036019533576215), ('sorely', 0.0002036019533576215), ('disappoint', 0.0010268688309812216), ('hundred', 1.8112458045108395e-15), ('noon', 0.0002036019533576215), ('school', 0.0), ('techie', 0.0), ('promoted', 0.0002036019533576215), ('wireless', 0.00093835575756789089), ('l', 0.0), ('treat', 0.00010623019550129116), ('surprisingly', 0.00052229301168526664), ('fir', 0.0002036019533576215), ('impressed', 0.0010445860233705333), ('chromocast', 0.0), ('internet', 0.0016908253804451931), ('installation', 0.00021246039100258232), ('orange', 0.0), ('inquiry', 0.0), ('train', 0.0001062301955012912), ('target', 0.0002036019533576215), ('counter', 0.0), ('monday', 0.0), ('boggling', 0.0002036019533576215), ('told', 0.0002036019533576215), ('establish', 0.0), ('eight', 0.0), ('sum', 0.0), ('service', 2.5691247232098612e-10), ('blown', 0.00061080586007286445), ('scream', 0.0), ('era', 0.0002036019533576215), ('reminding', 0.0002036019533576215), ('case', 0.00011508620562157233), ('sensitive', 0.00040720390671524301), ('member', 0.00013278902013783654), ('teenage', 0.0002036019533576215), ('email', 0.00032754769807430396), ('marsh', 0.0002036019533576215), ('design', 0.00044263446207500073), ('concern', 9.3658326824205323e-06), ('rwview', 0.0), ('novelty', 0.0), ('pen', 0.0), ('deep', 0.00040720390671524301), ('impress', 0.00053115097750645564), ('telephone', 0.0002036019533576215), ('uiur', 0.0), ('residential', 0.0), ('undetermined', 0.0), ('alike', 0.0), ('kick', 0.0002124603910025824), ('functioned', 0.0002036019533576215), ('accessories', 0.0002036019533576215), ('neighbor', 0.0), ('value', 3.751320393316665e-05), ('laminate', 0.0002036019533576215), ('reset', 0.00052229301168526664), ('notch', 0.00010623019550129116), ('sounded', 0.0018324175802185935), ('snarkily', 0.0002036019533576215), ('alexaone', 0.0002036019533576215), ('earlier', 0.0001062301955012912), ('dance', 0.00030983241026953298), ('hiccups', 0.0002036019533576215), ('pronounce', 0.0001062301955012912), ('instruction', 0.00023017241130895993), ('abysmal', 0.0), ('capital', 3.1707577831535881e-15), ('girl', 0.0), ('lady', 0.0), ('port', 0.0001062301955012912), ('wisecrack', 0.0), ('sounding', 0.00040720390671524301), ('giddy', 0.0002036019533576215), ('desk', 0.00040720390671524301), ('component', 0.0002036019533576215), ('retail', 0.0), ('consistently', 0.0), ('cyber', 0.0), ('compatibilty', 0.0), ('attach', 0.0), ('fullest', 0.0002036019533576215), ('enjoyable', 0.00030983241026953298), ('complication', 0.0), ('picky', 0.0002036019533576215), ('chinese', 0.0002036019533576215), ('consider', 0.00022131723103914968), ('source', 0.0), ('depend', 0.0), ('word', 0.0010623019550129113), ('manager', 0.0002036019533576215), ('downfall', 0.0002036019533576215), ('naturally', 0.0), ('result', 0.00043377802847780503), ('actuelle', 0.0), ('predict', 0.0002036019533576215), ('explanation', 0.0), ('mba', 0.0002036019533576215), ('degree', 0.0001062301955012912), ('defrost', 0.0), ('adapter', 0.00040720390671524301), ('incorporate', 0.0), ('flour', 0.0), ('takes', 0.00040720390671524301), ('blue', 1.8747298973744791e-05), ('requesting', 0.0002036019533576215), ('beauty', 0.0), ('undoubtedly', 0.0), ('mud', 0.0002036019533576215), ('calenda', 0.0), ('misery', 0.0002036019533576215), ('present', 0.00054886498398409173), ('weak', 0.00061080586007286445), ('cute', 0.0002036019533576215), ('drink', 0.00030983241026953298), ('complaiint', 0.0), ('conversation', 0.0), ('teach', 0.0002124603910025824), ('stealth', 0.0002036019533576215), ('term', 0.00011508620454525874), ('currently', 0.0004249207820051648), ('hoping', 0.00081440781343048601), ('hot', 9.3666301462285288e-06), ('calen', 0.0), ('deeper', 0.00040720390671524301), ('mon', 0.0002036019533576215), ('message', 5.2809298703723019e-10), ('shut', 0.0002124603910025824), ('engine', 0.0), ('offer', 0.00064623855383041516), ('comment', 0.0), ('video', 9.9582598406102516e-16), ('filter', 0.0002036019533576215), ('seat', 0.0), ('sister', 0.00041606273714141705), ('offered', 0.0002036019533576215), ('break', 0.0001062301955012912), ('bathroom', 0.00040720390671524301), ('wine', 0.0002036019533576215), ('soooo', 0.0), ('nature', 0.00030983241026953298), ('kidding', 0.0002036019533576215), ('additional', 0.00052229301168526664), ('original', 0.0039746676901922951), ('stone', 0.0), ('polite', 0.0002036019533576215), ('unfortunately', 0.00062852325997511996), ('started', 0.00081440781343048601), ('handily', 0.0002036019533576215), ('seamless', 3.6664988172966306e-15), ('apparent', 0.0), ('kwikset', 0.0002036019533576215), ('downstairs', 0.00040720390671524301), ('stylish', 0.0001062301955012912), ('smooth', 0.0001062301955012912), ('disagreement', 0.0), ('happier', 0.00030983241026953298), ('iot', 0.0), ('pertain', 0.0), ('perfectly', 0.0010357275837913282), ('disapionted', 0.0), ('drop', 0.001628815626860972), ('utility', 0.0), ('detailed', 0.0), ('screwed', 0.0002036019533576215), ('tutorial', 0.0002036019533576215), ('plataform', 0.0002036019533576215), ('sooo', 0.00040720390671524301), ('ring', 0.0020448786753904298), ('members', 0.0002036019533576215), ('packages', 0.0002036019533576215), ('0098', 0.0012216117201457289), ('switch', 0.00073475349322890703), ('personnel', 0.0002036019533576215), ('marysville', 0.0002036019533576215), ('feed', 0.0001062301955012912), ('eclipse', 0.0002036019533576215), ('costly', 0.0), ('amazon', 0.013783288156588613), ('b', 0.0002036019533576215), ('unpacking', 0.0002036019533576215), ('rotate', 0.00040720390671524301), ('minus', 0.00061080586007286445), ('ride', 0.0001062301955012912), ('fart', 0.00040720390671524301), ('comands', 0.0002036019533576215), ('ignore', 0.00030983241026953298), ('bug', 0.0001062301955012912), ('sleek', 0.00040720390671524301), ('theymarket', 0.0002036019533576215), ('prefect', 0.0002036019533576215), ('convert', 0.0), ('noticeably', 0.0001062301955012912), ('ear', 0.0002036019533576215), ('color', 0.00065509539614839465), ('beautifully', 0.0001062301955012912), ('diminish', 0.0002036019533576215), ('bridge', 0.0), ('arrive', 0.0), ('frightening', 0.0), ('bose', 0.00092949723080859906), ('bonus', 0.0), ('alexas', 0.0), ('level', 0.00035411213689010273), ('show', 0.0016908253804451931), ('diameter', 0.0), ('effect', 0.0002036019533576215), ('thumbs', 0.0), ('selection', 0.00052229301168526664), ('reasonable', 0.00030983241026953298), ('heather', 0.0002036019533576215), ('imply', 0.0), ('process', 0.00092063835670776032), ('owned', 0.00040720390671524301), ('sony', 0.0002036019533576215), ('kinds', 0.0002124603910025824), ('warning', 0.0002036019533576215), ('worried', 0.0002036019533576215), ('thermometer', 0.0), ('shipment', 0.0), ('iris', 0.0), ('organize', 1.0714769480203561e-15), ('100', 0.00014163920762186283), ('positive', 0.00040720390671524301), ('casual', 0.00040720390671524301), ('constantly', 0.00063738117300774682), ('track', 1.8248143912651048e-05), ('frustrate', 0.0001062301955012912), ('freshener', 0.0), ('quickly', 0.00094721393462890175), ('fight', 0.0001062301955012912), ('gap', 0.0002036019533576215), ('governer', 0.0), ('dementia', 0.0), ('hen', 0.0), ('matter', 0.00041606273714141705), ('faster', 0.0001062301955012912), ('requires', 0.00040720390671524301), ('waited', 0.0002036019533576215), ('mom', 0.00052229301168526664), ('lull', 0.0), ('clean', 0.00061080586007286445), ('purchase', 0.0032666203554270554), ('version', 0.0028592865109713559), ('ehhh', 0.0002036019533576215), ('plug', 0.00065509539614859111), ('competing', 0.0002036019533576215), ('elicit', 0.0002036019533576215), ('f', 0.0), ('offensive', 0.0002036019533576215), ('intelligence', 0.0), ('kind', 0.00044263446207640537), ('plugs', 0.0001062301955012912), ('ooo', 0.0002036019533576215), ('1970', 0.0002036019533576215), ('tremendously', 0.0002036019533576215), ('calls', 0.00040720390671524301), ('deadbolt', 0.0), ('accent', 0.00061080586007286445), ('equalization', 0.0002036019533576215), ('melwin', 0.0002036019533576215), ('misunderstand', 0.00040720390671524301), ('advertised', 0.00082326683875735081), ('fashion', 0.0), ('contract', 0.0002036019533576215), ('enamored', 0.0), ('peace', 0.0), ('sonoff', 0.0002036019533576215), ('accomodate', 0.0002036019533576215), ('area', 0.00022131723103913464), ('googler', 0.0), ('push', 0.00061080586007286445), ('gladly', 0.00040720390671524301), ('electronic', 9.3373532917735357e-06), ('gmail', 0.0), ('pathetic', 0.0002036019533576215), ('select', 0.0001062301955012912), ('irritant', 0.0002036019533576215), ('auxiliary', 0.0002036019533576215), ('lutron', 0.0002036019533576215), ('remembers', 0.0), ('elderly', 9.1196884419271538e-06), ('calculator', 0.0), ('faith', 0.0), ('ex', 0.0), ('semantics', 0.0), ('trying', 0.0022396214869338364), ('homekit', 0.0002036019533576215), ('apis', 0.0), ('lie', 0.0002036019533576215), ('continual', 0.0), ('database', 0.00010623019550129116), ('shelf', 0.0002036019533576215), ('products', 0.00061080586007286445), ('external', 0.0002036019533576215), ('burn', 0.0), ('anxious', 0.0), ('everyday', 0.0012570465199502399), ('communication', 0.0002124603910025824), ('gonna', 0.0002124603910025824), ('thus', 0.00030983241026953298), ('cook', 0.0), ('skill', 0.0042048468480750147), ('thisbis', 0.0002036019533576215), ('thinking', 0.00041606273714141705), ('lazy', 0.00030983241026953298), ('presently', 0.0002036019533576215), ('problems', 0.00081440781343048601), ('tom', 0.0002036019533576215), ('lots', 0.00030983241026953298), ('shelving', 0.0002036019533576215), ('page', 0.0002036019533576215), ('complete', 0.00022131723103868664), ('addressed', 0.0002036019533576215), ('giant', 0.0002036019533576215), ('loving', 0.0015314442340097795), ('locura', 0.0002036019533576215), ('possibility', 0.00041606273714141705), ('drunk', 0.0002036019533576215), ('step', 0.0013278422766774805), ('newer', 0.00051343441549061078), ('ai', 0.00062852325997511996), ('preheat', 0.0), ('function', 0.0010711594429296117), ('misplace', 0.0), ('relatively', 0.00030983241026953298), ('perfecting', 0.0002036019533576215), ('efficiency', 0.0002036019533576215), ('attempt', 0.0), ('periodically', 0.0002036019533576215), ('systems', 0.0002036019533576215), ('supporter', 0.0002036019533576215), ('sing', 9.3708852137912727e-06), ('stubhub', 0.0), ('deserve', 0.0002036019533576215), ('existent', 0.0), ('evernote', 0.0), ('ios', 0.0002036019533576215), ('item', 0.00016026531886964907), ('stove', 0.0002036019533576215), ('schedule', 1.8763089495317725e-05), ('multiroom', 0.0), ('hmmm', 0.0002036019533576215), ('refinement', 0.0002036019533576215), ('fifty', 0.0), ('brain', 0.0002036019533576215), ('limit', 0.0), ('concerned', 0.00040720390671524301), ('entered', 0.0002036019533576215), ('underwhelming', 0.0002036019533576215), ('purchased', 0.0028592865109713559), ('mistake', 0.0), ('goodnight', 0.0), ('treble', 0.00040720390671524301), ('yeah', 0.0), ('g', 0.00082326683875735081), ('alittle', 0.0002036019533576215), ('dinner', 0.0), ('draw', 0.0002036019533576215), ('easiest', 0.0002036019533576215), ('walmart', 0.0), ('former', 0.0002036019533576215), ('intent', 0.0002036019533576215), ('moment', 0.0), ('hop', 0.0), ('mode', 0.00040720390671524301), ('soft', 0.00011508620574697892), ('report', 0.00061966482053906597), ('visually', 0.00040720390671524301), ('claim', 0.00011508620563405147), ('alternative', 0.0002036019533576215), ('reactive', 0.0), ('issues', 0.0010180097667881075), ('nicely', 7.8100264161664449e-16), ('umpteen', 0.0002036019533576215), ('own', 1.8670684532695897e-05), ('ad', 0.0002036019533576215), ('setup', 0.0017351121139112355), ('29', 0.0002036019533576215), ('redeem', 0.0), ('adjustment', 0.00040720390671524301), ('visual', 0.0001062301955012912), ('requiring', 0.0002036019533576215), ('poise', 0.0), ('bread', 0.0002036019533576215), ('outruns', 0.0), ('phoning', 0.0002036019533576215), ('strap', 0.0), ('pro', 0.0), ('shop', 0.0), ('interpret', 0.0), ('small', 0.0030009524091826304), ('fix', 0.0010268688309812216), ('nada', 0.0002036019533576215), ('shape', 0.0), ('timer', 0.00020425464694475906), ('fast', 0.0), ('brings', 0.00040720390671524301), ('shooting', 0.0002036019533576215), ('clearly', 5.3674091611208537e-16), ('contain', 0.0), ('helper', 0.0), ('ga', 0.0), ('convenient', 0.00095607175951162055), ('cromcast', 0.0), ('https', 0.0), ('commercial', 0.00062852325997511996), ('decent', 2.110759528687723e-07), ('cooking', 0.00051343441549061078), ('package', 0.00082326683875735081), ('discontinue', 0.00040720390671524301), ('bake', 9.2715845878518182e-06), ('middle', 0.0018324175802185935), ('transfer', 0.0), ('dollar', 0.0), ('success', 0.00040720390671524301), ('finger', 0.0002124603910025824), ('history', 0.00040720390671524301), ('dolby', 0.00081440781343048601), ('manage', 0.0002124603910025824), ('smartphones', 0.0002036019533576215), ('contextual', 0.0), ('needing', 0.0001062301955012912), ('lark', 0.0), ('corner', 0.0), ('26', 0.0002036019533576215), ('lame', 9.2498696722772291e-06), ('heat', 0.0001062301955012912), ('passport', 0.0), ('universal', 0.0), ('noise', 0.00011508620491950686), ('tree', 0.0002036019533576215), ('neutral', 0.0002036019533576215), ('lights', 0.00040720390671524301), ('ten', 0.0), ('supervisor', 0.0), ('associated', 0.0002036019533576215), ('trivial', 0.0002036019533576215), ('w9_qly8vs', 0.0), ('rate', 0.00051343441549061078), ('fall', 0.00051343441549061078), ('requests', 0.00040720390671524301), ('breeze', 2.152675263441964e-10), ('dont', 9.4236463033744214e-06), ('taste', 0.0), ('lows', 0.0002036019533576215), ('lack', 0.0), ('struggled', 0.0002036019533576215), ('kid', 0.00032743337730202591), ('relate', 0.0), ('ultra', 0.0), ('12', 0.00051343441549061078), ('precious', 0.0002036019533576215), ('usb', 0.0), ('bucks', 0.0002036019533576215), ('connection', 0.00084984156401032959), ('vue', 0.0002036019533576215), ('accounts', 0.0002036019533576215), ('face', 0.0002124603910025824), ('access', 0.00088526892415485131), ('played', 0.0010268688309812216), ('collect', 9.3556089800102142e-06), ('rectify', 0.0), ('vibrant', 0.0002036019533576215), ('astounded', 0.0002036019533576215), ('hoop', 0.0), ('streaming', 0.0001062301955012912), ('prayer', 0.0002036019533576215), ('giving', 0.00081440781343048601), ('generate', 0.0), ('womderful', 0.0002036019533576215), ('kansa', 0.0002036019533576215), ('fee', 0.00032754769807424476), ('change', 0.00037181628458904441), ('9th', 0.0002036019533576215), ('dead', 0.0), ('satisfy', 0.0), ('awareness', 0.0), ('youngster', 0.0), ('wright', 0.0), ('arm', 0.0), ('buzz', 0.0), ('beside', 0.0), ('reminders', 0.00030983241026953298), ('magic', 0.0001062301955012912), ('blare', 0.0002036019533576215), ('environment', 0.0002036019533576215), ('steal', 0.0), ('switches', 0.00061080586007286445), ('smartthings', 9.2936666209356479e-06), ('apple', 0.0015491620513476648), ('produce', 0.00030983241026953298), ('stopped', 0.0002036019533576215), ('impression', 0.0), ('check', 3.728096481008211e-05), ('background', 0.00083212547428283411), ('customizable', 0.0), ('operate', 2.0658019530324134e-77), ('existing', 0.0002036019533576215), ('inconvenient', 0.0002036019533576215), ('tunein', 0.0002036019533576215), ('cross', 0.0002036019533576215), ('philip', 0.00013278855284183845), ('provided', 0.00040720390671524301), ('overcome', 0.0), ('million', 0.0002036019533576215), ('definitely', 0.00046919871253121604), ('adaptable', 0.0), ('located', 0.00040720390671524301), ('th', 0.00040720390671524301), ('lmao', 0.0), ('309', 0.0002036019533576215), ('interface', 3.99951008355907e-15), ('alex', 0.00061080586007286445), ('self', 0.0001062301955012912), ('bing', 9.0622939636355185e-06), ('except', 0.00092949723080859906), ('patient', 9.3432625920516442e-06), ('knew', 0.0002036019533576215), ('loudly', 0.0), ('perfect', 0.0016819674341403152), ('overall', 0.0013721347709866735), ('trane', 0.0002036019533576215), ('administrative', 0.0), ('receipt', 0.0), ('soccer', 0.0), ('instal', 0.0), ('mellow', 0.0), ('floor', 0.00061080586007286445), ('pepperoni', 0.0002036019533576215), ('seemingly', 0.0), ('anyways', 0.0), ('focus', 0.0), ('therein', 0.0002036019533576215), ('exhausted', 0.0002036019533576215), ('actual', 0.0), ('screen', 0.00010623019550129116), ('justify', 0.0), ('often', 0.0016553924108499022), ('spouse', 0.0002036019533576215), ('dispatcher', 0.0002036019533576215), ('combine', 0.0), ('hell', 0.0002036019533576215), ('un', 0.0002036019533576215), ('samsung', 0.0), ('enable', 4.6201813880251458e-08), ('provider', 0.0001062301955012912), ('addons', 0.0), ('babble', 0.0002036019533576215), ('approach', 0.0), ('chromecast', 0.0), ('stories', 0.0002036019533576215), ('power', 3.7639586114996289e-05), ('population', 0.0), ('unassuming', 0.0), ('site', 1.59181122839751e-15), ('passed', 0.0002036019533576215), ('expected', 0.0024432234402914578), ('nutrition', 0.0), ('worked', 0.0012304708102289714), ('run', 0.0), ('acre', 0.0002036019533576215), ('m', 0.0), ('typical', 0.0), ('thumb', 0.0002036019533576215), ('picture', 0.0002036019533576215), ('pci', 0.0002036019533576215), ('connect', 0.0010711899810516936), ('itfound', 0.0002036019533576215), ('youtube', 0.0), ('called', 0.00061080586007286445), ('throw', 9.3303440441105449e-06), ('thank', 0.0015491620513476648), ('restrain', 0.0002036019533576215), ('finding', 0.00061080586007286445), ('weaker', 0.0002036019533576215), ('websearch', 0.0002036019533576215), ('confusion', 0.0002036019533576215), ('devices', 0.0022396214869338364), ('information', 0.0015757876101295636), ('brifing', 0.0002036019533576215), ('wit', 0.0), ('imagined', 0.0002036019533576215), ('basically', 0.00011508620564964392), ('200', 0.0002036019533576215), ('deliver', 0.00011508620563561955), ('accessing', 0.0002036019533576215), ('reboot', 0.00030983241026953298), ('web', 0.00011508620560406583), ('alone', 0.00051343441549061078), ('sleeve', 0.00061080586007286445), ('competitor', 0.0), ('capabilities', 0.00030983241026953298), ('uncertain', 0.0002036019533576215), ('lifx', 0.0), ('arthritic', 0.0), ('resulted', 0.0002036019533576215), ('data', 0.00011508620563962291), ('multiple', 0.0011508162764406501), ('plant', 0.0002036019533576215), ('versatile', 0.00040720390671524301), ('xm', 0.00040720390671524301), ('lolduring', 0.0002036019533576215), ('appliances', 0.00040720390671524301), ('screw', 0.0002036019533576215), ('late', 0.00061966482053906597), ('responses', 0.0002036019533576215), ('uber', 1.093029453211935e-15), ('fith', 0.0), ('cohen', 0.0002036019533576215), ('podcasts', 1.3776227659509679e-15), ('flip', 0.00030983241026953298), ('peanut', 0.0002036019533576215), ('options', 0.0002036019533576215), ('edition', 0.00040720390671524301), ('common', 0.0001062301955012912), ('club', 0.0), ('blend', 0.00030983241026953298), ('mislead', 0.0), ('israelite', 0.0002036019533576215), ('con', 1.1300901296624817e-105), ('sample', 0.00040720390671524301), ('release', 6.663900946289117e-15), ('relevant', 0.0), ('pouch', 0.0), ('unlimited', 0.0012216117201457289), ('integrates', 0.0), ('00a4', 0.00040720390671524301), ('shaky', 0.0002036019533576215), ('hallway', 0.0002036019533576215), ('itunes', 0.00040720390671524301), ('episode', 0.0002036019533576215), ('mr', 0.00010623019550129116), ('solid', 9.271235558768141e-06), ('major', 0.00031869058650387341), ('measuring', 0.0002036019533576215), ('activation', 0.0), ('rated', 0.0002036019533576215), ('hubs', 0.0002036019533576215), ('privacy', 1.8880328695189762e-15), ('superior', 1.8678596020205971e-05), ('upload', 0.00040720390671524301), ('exchange', 0.0), ('venue', 0.0), ('hinders', 0.0), ('largely', 0.0002036019533576215), ('magazine', 0.0002036019533576215), ('filling', 0.0002036019533576215), ('amaze', 1.0438546320218461e-06), ('user', 0.0), ('0087', 0.0002036019533576215), ('entirely', 0.0), ('5th', 0.00040720390671524301), ('rid', 0.0001062301955012912), ('miscue', 0.0002036019533576215), ('forward', 1.2264017865480684e-07), ('please', 0.00062852325997511996), ('needs', 0.00051343441549061078), ('wont', 9.3898524339921299e-06), ('advanced', 0.0), ('making', 0.00081440781343048601), ('bad', 0.0021776854982007801), ('fence', 0.0), ('siri', 0.0012393296410781319), ('interact', 0.0), ('learn', 3.0755729154506184e-07), ('expect', 0.00060199088012850225), ('stump', 0.0), ('effecting', 0.0002036019533576215), ('repair', 0.0), ('complaint', 0.00094721393462890175), ('adaquite', 0.0002036019533576215), ('girlfriend', 0.0), ('host', 0.0002036019533576215), ('big', 0.0021157461823562993), ('surround', 0.00051343441549061078), ('early', 0.00012393882254426892), ('stupid', 0.00061080586007286445), ('linen', 0.0002036019533576215), ('drops', 0.0002036019533576215), ('slew', 0.0), ('rooms', 0.0002036019533576215), ('food', 0.0), ('informative', 0.0), ('reappears', 0.0002036019533576215), ('man', 9.334439045854093e-06), ('encyclopedia', 0.0), ('speech', 5.3866413035551961e-10), ('resonates', 0.0002036019533576215), ('hence', 0.0001062301955012912), ('miraculous', 0.0002036019533576215), ('advantage', 0.0001062301955012912), ('smarttv', 0.0), ('pulse', 0.0002036019533576215), ('thijgs', 0.0), ('live', 0.00076132574596116792), ('woth', 0.0), ('top', 0.0014695069864578141), ('firing', 0.00040720390671524301), ('sturdy', 0.0002036019533576215), ('lucky', 0.0), ('abandon', 0.00040720390671524301), ('filled', 0.0002036019533576215), ('frickin', 0.0002036019533576215), ('pleasantly', 0.0), ('stick', 0.00033640371861511569), ('tantrum', 0.0002036019533576215), ('vince', 0.0), ('suit', 0.0), ('removed', 0.0002036019533576215), ('automation', 0.0001416374964682251), ('tried', 0.00071703639103473009), ('force', 0.0001062301955012912), ('controller', 0.0002036019533576215), ('returning', 0.0014252136735033504), ('permanent', 0.0), ('possibly', 0.0002036019533576215), ('develop', 0.00030983241026953298), ('wayyyyyy', 0.0), ('kudos', 0.0), ('50s', 0.0002036019533576215), ('scam', 0.0002036019533576215), ('calculation', 0.0), ('imho', 0.0), ('california', 0.0), ('program', 4.3702691701161529e-07), ('listen', 0.0058425950870099799), ('quick', 0.0014783649752308601), ('anniversary', 0.0002036019533576215), ('leave', 0.00031869058650387341), ('simplest', 0.0002036019533576215), ('side', 0.00032754769807425761), ('00bb', 0.0002036019533576215), ('functions', 0.00040720390671524301), ('arianna', 0.0), ('nevertheless', 0.0), ('maniac', 0.0), ('dissatisfy', 0.0), ('tour', 0.0), ('convinced', 0.0), ('drive', 0.00030983241026953298), ('birthdays', 0.0), ('simple', 0.0013101907922970859), ('glitching', 0.0002036019533576215), ('129', 0.0), ('space', 0.0002036019533576215), ('shells', 0.0002036019533576215), ('reaso', 0.0002036019533576215), ('technological', 0.0), ('confuse', 0.0), ('spent', 0.00040720390671524301), ('drum', 0.0), ('request', 2.1551990684474254e-06), ('reliability', 0.0), ('techy', 0.0), ('greatest', 0.00081440781343048601), ('premium', 2.0658019530324134e-77), ('effort', 0.0), ('harsh', 0.0), ('fraudulent', 0.0002036019533576215), ('involving', 0.0002036019533576215), ('kinda', 0.0), ('cheaper', 0.0002036019533576215), ('whats', 0.0001062301955012912), ('microwave', 0.0), ('sale', 0.00012393876690253256), ('quiz', 0.00030983241026953298), ('worthwhile', 0.0), ('rest', 1.9414296188153216e-15), ('stating', 0.00040720390671524301), ('pace', 0.0002036019533576215), ('size', 0.0023901461243804305), ('newest', 0.0002036019533576215), ('pending', 0.0), ('announce', 0.0002036019533576215), ('entertainment', 0.00083212547428283411), ('hulu', 0.0002036019533576215), ('gal', 0.0), ('learned', 0.0002036019533576215), ('wifi', 0.0020095159826633608), ('entire', 0.0007436113685090381), ('recite', 0.0), ('severe', 0.0002036019533576215), ('five', 9.3145799513459879e-06), ('names', 0.0), ('jam', 0.0002036019533576215), ('informational', 0.0002036019533576215), ('0092', 0.0002036019533576215), ('seamlessly', 0.0), ('outer', 0.00040720390671524301), ('gps', 0.0002036019533576215), ('output', 0.00040720390671524301), ('model', 0.0015314442340097795), ('friends', 0.00081440781343048601), ('blind', 2.1118113614073524e-15), ('forecast', 0.00012393882798107089), ('hit', 0.0), ('floored', 0.0002036019533576215), ('downer', 0.0), ('intrusive', 0.0002036019533576215), ('utube', 0.0), ('hooked', 0.00092063835670776032), ('membership', 0.00071703639103473009), ('piece', 0.00040720390671524301), ('91', 0.0002036019533576215), ('adjuncts', 0.0), ('p', 9.2556221931260227e-06), ('integrating', 0.0002036019533576215), ('sirius', 0.0002036019533576215), ('goid', 0.0002036019533576215), ('heck', 0.0), ('similarity', 0.0), ('medium', 0.00051343441549061078), ('safety', 0.0002036019533576215), ('functionality', 0.00088526892415771664), ('bar', 1.8028973424838451e-06), ('vocal', 0.00040720390671524301), ('begin', 1.8745721833061081e-05), ('seriously', 0.00051343441549061078), ('incase', 0.0), ('sold', 0.00040720390671524301), ('related', 0.00051343441549061078), ('intrigue', 0.0), ('alarm', 0.00046044322404840894), ('birthday', 0.00011508620521499117), ('vb', 0.0002036019533576215), ('laying', 0.0002036019533576215), ('advertising', 0.0002036019533576215), ('bos', 0.0002036019533576215), ('emails', 0.0002036019533576215), ('symptom', 0.0), ('guy', 0.0), ('assignment', 0.0), ('formerly', 0.0), ('ridiculous', 0.00040720390671524301), ('considered', 0.0002036019533576215), ('enhancement', 0.0002036019533576215), ('font', 0.0002036019533576215), ('abilities', 0.0001062301955012912), ('trivia', 0.00065509539614123989), ('upside', 0.00040720390671524301), ('animal', 0.0), ('thoug', 0.0002036019533576215), ('dictate', 0.0002036019533576215), ('sentence', 0.0), ('entertain', 0.0), ('driving', 0.0002036019533576215), ('lover', 0.00010623019550129116), ('oppose', 0.0), ('structure', 0.0), ('broke', 0.0002036019533576215), ('becomes', 0.0), ('ticket', 0.0), ('pair', 0.00061966482053906597), ('starts', 0.0002036019533576215), ('accessory', 0.0), ('briefing', 0.00061080586007286445), ('automate', 0.00030983241026953298), ('crazy', 0.00041606273714141705), ('useless', 0.00052229301168526664), ('whose', 0.0002036019533576215), ('directly', 0.0001150862056454894), ('audiophile', 0.00061080586007286445), ('waking', 0.00040720390671524301), ('suffer', 0.0002036019533576215), ('supplement', 0.0002036019533576215), ('difficiency', 0.0002036019533576215), ('written', 0.0002036019533576215), ('coke', 0.0), ('forcast', 0.0), ('popular', 0.00030983241026953298), ('furniture', 0.0), ('siticher', 0.0002036019533576215), ('math', 0.0), ('pandora', 0.00079674886705368309), ('educational', 0.0), ('doubt', 9.3858073115050958e-06), ('collection', 0.00061080586007286445), ('configured', 0.00040720390671524301), ('ruined', 0.0002036019533576215), ('sense', 0.00071703639103473009), ('tap', 0.0012481882114242513), ('wanting', 0.0002036019533576215), ('tag', 0.0), ('business', 0.0), ('left', 0.00040720390671524301), ('highly', 0.0016819674341403152), ('strike', 0.0002036019533576215), ('monetary', 0.0), ('hint', 0.0002036019533576215), ('half', 0.00051343441549061078), ('slow', 0.00072589516606692698), ('suspicious', 0.0002036019533576215), ('debate', 0.0002036019533576215), ('view', 9.3800866772127518e-06), ('giver', 0.0002036019533576215), ('fingertip', 0.0), ('surpass', 0.0), ('tea', 0.0002036019533576215), ('ecstatic', 0.0002036019533576215), ('netflix', 8.0481404260541353e-49), ('phones', 0.00040720390671524301), ('exist', 9.3511454057378423e-06), ('oven', 0.0), ('natural', 0.0), ('upgraded', 0.00081440781343048601), ('continuing', 0.0002036019533576215), ('computer', 7.5138386998617801e-05), ('appliance', 0.0), ('ebay', 0.0002036019533576215), ('unfamiliarity', 0.0), ('accidently', 0.0002036019533576215), ('leader', 0.0), ('improving', 0.00040720390671524301), ('ball', 0.0), ('lion', 0.0), ('required', 0.0002036019533576215), ('games', 0.00081440781343048601), ('richer', 0.00081440781343048601), ('ending', 0.0002036019533576215), ('certain', 0.00043377802847780541), ('beginning', 0.0002036019533576215), ('local', 0.00012393882524807379), ('meal', 0.0), ('corny', 0.0), ('estimate', 0.0), ('test', 0.00073475349322890703), ('headache', 0.0001062301955012912), ('friendly', 0.00013279009951631029), ('measure', 0.0001062301955012912), ('car', 0.00040720390671524301), ('resolve', 0.00030983241026953298), ('equipped', 0.0002036019533576215), ('qa', 0.0002036019533576215), ('verbally', 0.0), ('broken', 0.00040720390671524301), ('purpose', 0.0002036019533576215), ('selective', 0.0002036019533576215), ('optimized', 0.0002036019533576215), ('boy', 0.0002036019533576215), ('splurge', 0.0002036019533576215), ('noticed', 0.00040720390671524301), ('promise', 0.0), ('spin', 0.0001062301955012912), ('2764', 0.00061080586007286445), ('1000', 0.0002036019533576215), ('gooogle', 0.0), ('purchasing', 0.0010180097667881075), ('company', 0.001133099254938912), ('channel', 0.0002036019533576215), ('mcentire', 0.0002036019533576215), ('drawback', 0.0), ('game', 0.0015226514919220798), ('normal', 2.5383170610434937e-15), ('key', 9.3791340793401017e-06), ('surprise', 0.00064623855383041701), ('expecte', 0.0), ('butter', 0.0002036019533576215), ('ran', 0.0002036019533576215), ('reacting', 0.0002036019533576215), ('ancient', 0.0), ('permit', 0.0), ('grows', 0.0), ('www', 0.0), ('cast', 0.0), ('cam', 0.0002036019533576215), ('necessity', 0.0001062301955012912), ('usable', 0.0001062301955012912), ('air', 0.0), ('starting', 0.0002036019533576215), ('bedstand', 0.0002036019533576215), ('reads', 0.0002036019533576215), ('compatible', 3.7355053668100275e-05), ('reliant', 0.0), ('terrible', 0.00071703639103473009), ('someday', 0.0002036019533576215), ('lately', 9.1687355551555122e-06), ('welcome', 0.00030983241026953298), ('attempted', 0.0002036019533576215), ('heavily', 0.0), ('team', 0.0002036019533576215), ('designthe', 0.0002036019533576215), ('peterson', 0.0002036019533576215), ('algorithm', 0.0), ('bulbs', 0.0), ('rrific', 0.0), ('banter', 0.0), ('theater', 0.0), ('translate', 0.0), ('trade', 0.0), ('indie', 0.0002036019533576215), ('exploration', 0.0002036019533576215), ('programmed', 0.00040720390671524301), ('ordering', 0.0002036019533576215), ('hassle', 0.00051343441549061078), ('expectations', 0.0010180097667881075), ('upset', 0.00040720390671524301), ('replacing', 0.00040720390671524301), ('2022', 0.00040720390671524301), ('familiar', 0.0), ('dosent', 0.0), ('generations', 0.0002036019533576215), ('merely', 0.0), ('dynamite', 0.0002036019533576215), ('deeply', 0.0), ('ip', 0.0002036019533576215), ('fastest', 0.0002036019533576215), ('twice', 0.0), ('project', 0.00030983241026953298), ('basis', 0.0001062301955012912), ('statement', 0.0), ('t5', 0.0002036019533576215), ('disappointing', 0.001133099254938912), ('label', 0.0001062301955012912), ('anymore', 0.00040720390671524301), ('formal', 0.00040720390671524301), ('leveling', 0.0002036019533576215), ('guest', 0.0002036019533576215), ('place', 0.00042492078200516463), ('bare', 0.0), ('updating', 0.0), ('disc', 0.0), ('world', 0.0), ('acoustic', 0.0002036019533576215), ('inspired', 0.0002036019533576215), ('wrap', 9.3723288237778304e-06), ('awesomely', 0.0), ('adk', 0.0002036019533576215), ('speakers', 0.0022396214869338364), ('stairs', 0.0002036019533576215), ('mix', 0.0), ('reword', 0.0), ('hardly', 0.0001062301955012912), ('comparison', 8.8905566473583288e-06), ('programmer', 0.0002036019533576215), ('wealth', 0.0), ('instrumnational', 0.0002036019533576215), ('nut', 0.0002036019533576215), ('respond', 4.3754422748112772e-08), ('moving', 0.0002036019533576215), ('playlists', 0.0001062301955012912), ('brother', 0.0002036019533576215), ('kiddy', 0.0), ('field', 0.0), ('network', 0.00072589516606692698), ('technology', 0.0010800166093085178), ('crystal', 0.0), ('anytime', 3.6723463962245776e-15), ('transportation', 0.0), ('compare', 2.1879703587107694e-06), ('topics', 0.0002036019533576215), ('medication', 0.0002036019533576215), ('persistence', 0.0002036019533576215), ('eternity', 0.0002036019533576215), ('perform', 0.00071703639103473009), ('thousand', 0.0002124603910025824), ('task', 0.00032754769807430049), ('appeal', 0.0), ('commands', 0.00061080586007286445), ('havae', 0.0002036019533576215), ('bible', 0.0), ('knowledge', 2.0658019530324134e-77), ('eliminating', 0.0002036019533576215), ('plain', 0.00030983241026953298), ('sam', 0.0), ('forthcoming', 0.0), ('greatvproduc', 0.0002036019533576215), ('cable', 0.00040720390671524301), ('brook', 0.0002036019533576215), ('biggest', 0.0002036019533576215), ('acts', 0.0002036019533576215), ('recognition', 1.3880388633259721e-05), ('blew', 0.0002036019533576215), ('juice', 0.0), ('guarantee', 0.0), ('ahead', 1.8663071199597935e-05), ('obtain', 9.358967452448447e-06), ('security', 0.00071703639103473009), ('fearures', 0.0002036019533576215), ('different', 0.0034347321883559773), ('vary', 0.0002036019533576215), ('impulse', 0.0002036019533576215), ('functional', 1.8665893857130157e-05), ('timesaver', 0.0), ('singing', 0.0), ('weakness', 0.0002036019533576215), ('bed', 0.00082326683875735081), ('asking', 0.003257631253721944), ('designer', 0.0002036019533576215), ('boot', 0.0), ('employee', 0.0), ('basos', 0.0002036019533576215), ('discontinued', 0.0002036019533576215), ('correct', 0.00061966482053906597), ('quality', 0.018483638957661988), ('moron', 0.0002036019533576215), ('hefty', 0.0), ('nervous', 0.0002036019533576215), ('failure', 0.0002036019533576215), ('download', 2.0048842006956599e-19), ('depth', 0.00011508620551330417), ('obscure', 0.0002036019533576215), ('creature', 0.0), ('mail', 0.0002036019533576215), ('map', 0.0), ('strange', 0.0002036019533576215), ('onboard', 0.0002036019533576215), ('worth', 0.0017173980236126997), ('medications', 0.0002036019533576215), ('youre', 0.0002036019533576215), ('configurations', 0.0002036019533576215), ('expense', 0.0), ('slip', 0.0002036019533576215), ('bump', 0.0), ('whole', 0.00066395169311540771), ('cuz', 0.0), ('spot', 0.00040720390671524301), ('utilizes', 0.0), ('assist', 0.0001062301955012912), ('law', 0.0), ('nonetheless', 0.0), ('thruout', 0.0002036019533576215), ('brainer', 0.00040720390671524301), ('tho', 0.00040720390671524301), ('hope', 0.0011508162764406501), ('items', 0.00061080586007286445), ('watching', 0.00040720390671524301), ('exceptionally', 0.0002036019533576215), ('limitation', 0.0), ('jacket', 0.0), ('thoroughly', 0.0002036019533576215), ('ceiling', 0.00030983241026953298), ('a1', 0.0002036019533576215), ('sized', 0.00040720390671524301), ('equal', 0.0002036019533576215), ('unplug', 0.00031869058650387341), ('available', 0.00035411230119342346), ('vaux', 0.0002036019533576215), ('course', 0.00012393767532342778), ('robust', 0.0), ('darn', 0.0001062301955012912), ('goog', 0.0), ('grandkid', 0.0), ('recipes', 0.0002036019533576215), ('child', 2.0048842012506766e-19), ('comfortable', 0.0002036019533576215), ('limitations', 0.0002036019533576215), ('listeners', 0.0002036019533576215), ('ecosystem', 9.3230411123258819e-06), ('curious', 0.0002036019533576215), ('wal', 0.0), ('musoic', 0.0002036019533576215), ('daylight', 0.0), ('issue', 0.0036028997727300632), ('barely', 9.3581618010305502e-06), ('google', 0.0), ('light', 7.3339651917101512e-12), ('catch', 0.0), ('previous', 0.00051343441549061078), ('glitches', 0.0002036019533576215), ('practice', 0.0), ('colors', 0.0002036019533576215), ('recommended', 0.00071703639103473009), ('integration', 2.0048842006956599e-19), ('envious', 0.0002036019533576215), ('relationship', 0.0002036019533576215), ('0095', 0.0002036019533576215), ('trouble', 0.0011419579083025734), ('interested', 0.0), ('socket', 0.0002036019533576215), ('speaks', 0.00040720390671524301), ('head', 0.00041606273714141705), ('free', 1.7371096106825423e-05), ('applet', 0.0), ('ons', 0.0001062301955012912), ('properly', 0.00072589516606692698), ('surprised', 0.00061080586007286445), ('chill', 0.0), ('husband', 0.00041602466699847514), ('jeopardy', 0.00061080586007286445), ('recipe', 0.0), ('algorithms', 0.0), ('paragraph', 0.0002036019533576215), ('incredible', 0.00022131723103820859), ('refund', 0.00030983241026953298), ('lit', 0.0002036019533576215), ('80', 0.0), ('condo', 0.0), ('lamp', 0.0), ('open', 3.308058936214012e-18), ('meet', 0.00051343441549061078), ('oh', 0.00030983241026953298), ('ver', 0.0), ('provide', 6.0148117691688204e-09), ('comfort', 0.0002036019533576215), ('explained', 0.0002036019533576215), ('geared', 0.0002036019533576215), ('potentially', 0.0), ('cancel', 0.0), ('confirm', 0.0), ('tied', 0.0002036019533576215), ('bro', 0.0002036019533576215), ('den', 0.00040720390671524301), ('general', 0.00032754769807428298), ('unhappy', 0.0002036019533576215), ('active', 0.0002036019533576215), ('kindle', 0.0), ('human', 0.0), ('soundtouch', 0.0), ('drainage', 0.0), ('retrieve', 0.0002036019533576215), ('crackle', 0.0), ('plugged', 0.0018324175802185935), ('single', 9.37260630955359e-06), ('ate', 0.0002036019533576215), ('interest', 0.0001062301955012912), ('messy', 0.0002036019533576215), ('420', 0.0002036019533576215), ('frustration', 0.0001062301955012912), ('unite', 0.0), ('master', 0.00030983241026953298), ('slight', 0.0001062301955012912), ('spell', 0.0), ('added', 0.0012304708102289714), ('damage', 0.0), ('citizen', 0.00040720390671524301), ('misunderstanding', 0.0002036019533576215), ('solve', 0.0001062301955012912), ('appreciate', 0.00051343441549061078), ('vacuum', 0.0), ('rarely', 0.0012216117201457289), ('minimize', 0.0002036019533576215), ('investigate', 0.00040720390671524301), ('starship', 0.0), ('responding', 0.00061080586007286445), ('syntax', 0.0), ('hi', 0.0), ('pairing', 0.0002036019533576215), ('interactivity', 0.0), ('fact', 0.0016819674341403152), ('alexus', 0.0002036019533576215), ('eagle', 0.0001062301955012912), ('verbalize', 0.0), ('unbearable', 0.0002036019533576215), ('exceeded', 0.0010180097667881075), ('suggestion', 0.00040720390671524301), ('opted', 0.0002036019533576215), ('sport', 0.00011508620561405175), ('ownership', 0.0), ('diane', 0.0002036019533576215), ('texts', 0.0), ('hesitate', 9.3464823452066667e-06), ('screaming', 0.00040720390671524301), ('trebble', 0.0002036019533576215), ('query', 0.0001062301955012912), ('replaced', 0.00040720390671524301), ('back', 0.0033816507608903862), ('savvy', 0.0002124603910025824), ('eliminate', 0.0002036019533576215), ('neat', 0.00022131723103817772), ('upcoming', 0.00040720390671524301), ('intolerable', 0.0002036019533576215), ('wear', 9.2069594057731455e-06), ('dinosaur', 0.0001062301955012912), ('thought', 0.0030806064929436638), ('yield', 0.0), ('reply', 0.0), ('verde', 0.0), ('specifically', 0.0), ('relative', 0.0002036019533576215), ('linking', 0.0002036019533576215), ('highs', 0.00061080586007286445), ('prompts', 0.0002036019533576215), ('absolute', 0.00061080586007286445), ('agenda', 0.0), ('wording', 0.0002036019533576215), ('wasted', 0.00040720390671524301), ('sci', 0.0), ('high', 0.00066395169311399456), ('recorded', 0.0002036019533576215), ('random', 5.6457202984000578e-05), ('swappable', 0.0002036019533576215), ('recommend', 0.0014607012547530897), ('subscriptions', 0.0002036019533576215), ('spoke', 0.00030983241026953298), ('recently', 0.00071703639103473009), ('phillips', 0.0001062301955012912), ('kitchen', 0.0007878938050436535), ('onemy', 0.0002036019533576215), ('water', 0.0), ('upstairs', 0.00052229301168526664), ('bip', 0.0002036019533576215), ('adjusts', 0.0), ('prefer', 0.00051343441549061078), ('code', 0.0002036019533576215), ('santol', 0.0002036019533576215), ('skills', 0.00081440781343048601), ('suite', 0.0), ('lead', 0.0), ('fashioned', 0.0002036019533576215), ('cousin', 0.0002036019533576215), ('charged', 0.0002036019533576215), ('awsome', 0.0001062301955012912), ('records', 0.0002036019533576215), ('artist', 0.0001416406594345932), ('pare', 0.0002036019533576215), ('dog', 0.00021246039100258232), ('television', 0.0002036019533576215), ('subscribe', 0.0), ('taught', 0.0002036019533576215), ('valuable', 0.0), ('addicted', 0.0002036019533576215), ('eclectic', 0.0002036019533576215), ('cut', 0.00030983241026953298), ('silver', 0.00040720390671524301), ('worse', 0.00081440781343048601), ('roll', 0.0), ('drift', 0.0), ('redundant', 0.0), ('intending', 0.0002036019533576215), ('book', 0.00093835575756789089), ('direction', 0.0), ('degign', 0.0), ('bother', 0.00040720390671524301), ('loop', 0.00040720390671524301), ('list', 0.00073479472933798626), ('thanks', 0.001133099254938912), ('reason', 0.00095607175951162055), ('longer', 0.00062852325997511996), ('phenomenal', 0.0), ('documentaries', 0.0), ('nest', 0.0), ('snap', 0.0002036019533576215), ('towel', 0.0), ('continues', 0.0002036019533576215), ('activity', 0.0), ('recordings', 0.0002036019533576215), ('puerto', 0.0), ('control', 0.00054886206592487917), ('delivered', 0.0002036019533576215), ('humongous', 0.0), ('vision', 0.00040720390671524301), ('fairness', 0.0), ('disappointingly', 0.0002036019533576215), ('circle', 0.0), ('woman', 0.0002124603910025824), ('morphed', 0.0002036019533576215), ('saver', 0.00061080586007286445), ('alexia', 0.0004249207820051648), ('sirrus', 0.0), ('repeating', 0.00040720390671524301), ('strict', 0.0002036019533576215), ('preset', 0.0002036019533576215), ('teethe', 0.0), ('care', 0.0), ('dumb', 0.0002036019533576215), ('hat', 0.0), ('silly', 0.00071703639103473009), ('coverage', 0.0002036019533576215), ('deleted', 0.0002036019533576215), ('timers', 0.00081440781343048601), ('weight', 0.0002036019533576215), ('state', 0.00071703639103473009), ('experiencing', 0.0002036019533576215), ('factor', 0.00051343441549061078), ('address', 1.410101890053626e-15), ('standard', 0.0002124603910025824), ('launch', 0.0001062301955012912), ('aol', 0.0), ('manually', 0.0), ('grandson', 0.0), ('wrong', 0.0011242403178986066), ('huge', 0.00092949723080859906), ('rain', 0.00061080586007286445), ('putting', 0.0002036019533576215), ('manner', 0.0), ('commerials', 0.0), ('quarter', 0.0002036019533576215), ('classic', 0.00061080586007286445), ('tongue', 0.0), ('customer', 0.0026645435937222729), ('disable', 0.0), ('friday', 4.8308142533745721e-10), ('granted', 0.0002036019533576215), ('detect', 0.00040720390671524301), ('forcing', 0.0002036019533576215), ('create', 0.0), ('answers', 0.00061080586007286445), ('moved', 0.0002036019533576215), ('chromecasts', 0.0), ('native', 0.0), ('cleaned', 0.0002036019533576215), ('chosen', 0.0), ('reasonably', 0.0), ('strung', 0.0002036019533576215), ('com', 0.0), ('efficient', 0.00010623019550129116), ('crisp', 0.00040720390671524301), ('tune', 0.00051343441549061078), ('progress', 0.0), ('texturized', 0.0002036019533576215), ('fictional', 0.0002036019533576215), ('lighting', 0.00071703639103473009), ('promote', 0.0), ('rush', 0.00010623019550129116), ('signal', 0.00030983241026953298), ('picked', 0.0), ('tecky', 0.0), ('errand', 0.0002036019533576215), ('mobility', 0.0), ('confuses', 0.0002036019533576215), ('spotty', 0.0), ('checking', 0.00040720390671524301), ('productive', 0.0002036019533576215), ('accuracy', 9.4265486831188175e-06), ('vs', 0.0002036019533576215), ('shy', 0.0001062301955012912), ('competition', 0.0), ('ps', 0.0002036019533576215), ('point', 0.00094721393462890175), ('sms', 0.0002036019533576215), ('party', 0.00012393876355755437), ('beyond', 0.00051343441549061078), ('afraid', 0.00010623019550129116), ('holler', 0.0002036019533576215), ('som', 0.0), ('ya', 0.0002036019533576215), ('merecipes', 0.0002036019533576215), ('sorts', 0.0002036019533576215), ('politics', 0.0002036019533576215), ('gentlemanly', 0.0002036019533576215), ('jbl', 0.0002036019533576215), ('smarthings', 0.0), ('display', 0.0002036019533576215), ('max', 0.0001062301955012912), ('lists', 0.0), ('pleasing', 0.0002036019533576215), ('apartment', 0.00030983241026953298), ('besides', 2.5518166146828704e-15), ('wanna', 0.0), ('stilling', 0.0002036019533576215), ('organizer', 0.0), ('hated', 0.0002036019533576215), ('800', 0.0), ('catalog', 0.0001062301955012912), ('rare', 0.0002036019533576215), ('effective', 0.0), ('ypu', 0.0), ('students', 0.0002036019533576215), ('decision', 0.0), ('hopper', 0.0002036019533576215), ('location', 0.00072589516606692698), ('fullness', 0.0002036019533576215), ('load', 0.00030983241026953298), ('soundlink', 0.0002036019533576215), ('surf', 0.0), ('thrill', 0.0), ('form', 0.0001062301955012912), ('higher', 0.0002036019533576215), ('described', 0.00071703639103473009), ('accurately', 8.398459930001641e-16), ('glass', 0.0002036019533576215), ('name', 0.0024698005162720514), ('electronics', 0.00022131723103785894), ('dark', 0.0002036019533576215), ('relatives', 0.0002036019533576215), ('baby', 2.4533433855362305e-15), ('older', 0.00040720390671524301), ('reserve', 0.0), ('featuresthe', 0.0002036019533576215), ('fair', 0.0), ('0094', 0.00061080586007286445), ('pass', 0.0002036019533576215), ('outstanding', 1.6431696787532565e-15), ('outside', 0.00030983241026953298), ('litten', 0.0), ('belkin', 0.0), ('hello', 0.0), ('snooze', 0.0), ('compact', 0.00072589516606692698), ('turning', 0.00061080586007286445), ('70', 0.00041606273714141705), ('dumbfounded', 0.0), ('frequency', 0.00081440781343048601), ('connecting', 0.00051343441549061078), ('plex', 0.0002036019533576215), ('race', 0.0), ('express', 0.0), ('pushed', 0.0001062301955012912), ('assume', 0.0002036019533576215), ('horribly', 0.0002036019533576215), ('sufficient', 0.0), ('damn', 0.0002036019533576215), ('player', 0.00061080586007286445), ('ymv', 0.0), ('blood', 0.0002036019533576215), ('upgrade', 0.00043377802847778161), ('figuring', 0.0002036019533576215), ('chants', 0.0002036019533576215), ('senior', 0.0), ('toe', 0.0), ('totally', 0.0013278422766774805), ('browser', 0.0), ('excellently', 0.0), ('playlist', 0.00064623855383041777), ('hearing', 0.0002124603910025824), ('conversion', 0.0002036019533576215), ('indicate', 6.1021323228628153e-10), ('difficult', 0.0017439052272450993), ('saved', 0.0002036019533576215), ('rat', 0.0002036019533576215), ('24', 0.00040720390671524301), ('howl', 0.0002036019533576215), ('gotten', 0.00081440781343048601)]\n"
     ]
    }
   ],
   "source": [
    "topic_word_list = []\n",
    "for row in range(result[2].shape[0]):\n",
    "    for col in range(result[2].shape[1]):\n",
    "        topic_word_list.append((voca[col], result[2][row][col]))\n",
    "\n",
    "print(len(topic_word_list), topic_word_list)"
   ]
  },
  {
   "cell_type": "code",
   "execution_count": 19,
   "metadata": {
    "collapsed": true
   },
   "outputs": [],
   "source": [
    "topic1 = topic_word_list[:1*len(voca)]\n",
    "topic2 = topic_word_list[1*len(voca):2*len(voca)]\n",
    "#topic3 = topic_word_list[2*len(voca):3*len(voca)]\n",
    "#topic4 = topic_word_list[3*len(voca):4*len(voca)]"
   ]
  },
  {
   "cell_type": "code",
   "execution_count": 20,
   "metadata": {
    "collapsed": true
   },
   "outputs": [],
   "source": [
    "topic1= sorted(topic1, key=itemgetter(1), reverse=True)\n",
    "topic1_word = [wordFreq[0] for wordFreq in topic1]\n",
    "topic2 =sorted(topic2, key=itemgetter(1), reverse=True)\n",
    "topic2_word = [wordFreq[0] for wordFreq in topic2]\n",
    "#topic3 =sorted(topic3, key=itemgetter(1), reverse=True)\n",
    "#topic3_word = [wordFreq[0] for wordFreq in topic3]\n",
    "#topic4 =sorted(topic4, key=itemgetter(1), reverse=True)\n",
    "#topic4_word = [wordFreq[0] for wordFreq in topic4]"
   ]
  },
  {
   "cell_type": "code",
   "execution_count": 21,
   "metadata": {},
   "outputs": [],
   "source": [
    "making_data = {\n",
    "    'Topic1': [topic1_word[0], topic1_word[1], topic1_word[2], topic1_word[3], topic1_word[4]],\n",
    "    'Topic2': [topic2_word[0], topic2_word[1], topic2_word[2], topic2_word[3], topic2_word[4]]\n",
    "    #'Topic3': [topic3_word[0], topic3_word[1], topic3_word[2], topic3_word[3], topic3_word[4]],\n",
    "    #'Topic4': [topic4_word[0], topic4_word[1], topic4_word[2], topic4_word[3], topic4_word[4]]\n",
    "}"
   ]
  },
  {
   "cell_type": "code",
   "execution_count": 22,
   "metadata": {},
   "outputs": [
    {
     "name": "stdout",
     "output_type": "stream",
     "text": [
      "     Topic1   Topic2\n",
      "0    google     echo\n",
      "1      home  quality\n",
      "2     light   amazon\n",
      "3    amazon     room\n",
      "4  calendar   volume\n"
     ]
    }
   ],
   "source": [
    "result_data = DataFrame(making_data)\n",
    "print(result_data)"
   ]
  },
  {
   "cell_type": "code",
   "execution_count": 23,
   "metadata": {
    "collapsed": true
   },
   "outputs": [],
   "source": [
    "df1 = pd.DataFrame(topic1)\n",
    "df2 = pd.DataFrame(topic2)\n",
    "#df3 = pd.DataFrame(topic3)\n",
    "#df4 = pd.DataFrame(topic4)"
   ]
  },
  {
   "cell_type": "code",
   "execution_count": 24,
   "metadata": {},
   "outputs": [
    {
     "data": {
      "text/html": [
       "<div>\n",
       "<style>\n",
       "    .dataframe thead tr:only-child th {\n",
       "        text-align: right;\n",
       "    }\n",
       "\n",
       "    .dataframe thead th {\n",
       "        text-align: left;\n",
       "    }\n",
       "\n",
       "    .dataframe tbody tr th {\n",
       "        vertical-align: top;\n",
       "    }\n",
       "</style>\n",
       "<table border=\"1\" class=\"dataframe\">\n",
       "  <thead>\n",
       "    <tr style=\"text-align: right;\">\n",
       "      <th></th>\n",
       "      <th>0</th>\n",
       "      <th>1</th>\n",
       "      <th>0</th>\n",
       "      <th>1</th>\n",
       "    </tr>\n",
       "  </thead>\n",
       "  <tbody>\n",
       "    <tr>\n",
       "      <th>0</th>\n",
       "      <td>google</td>\n",
       "      <td>0.103494</td>\n",
       "      <td>echo</td>\n",
       "      <td>0.060585</td>\n",
       "    </tr>\n",
       "    <tr>\n",
       "      <th>1</th>\n",
       "      <td>home</td>\n",
       "      <td>0.057291</td>\n",
       "      <td>quality</td>\n",
       "      <td>0.018484</td>\n",
       "    </tr>\n",
       "    <tr>\n",
       "      <th>2</th>\n",
       "      <td>light</td>\n",
       "      <td>0.011793</td>\n",
       "      <td>amazon</td>\n",
       "      <td>0.013783</td>\n",
       "    </tr>\n",
       "    <tr>\n",
       "      <th>3</th>\n",
       "      <td>amazon</td>\n",
       "      <td>0.007506</td>\n",
       "      <td>room</td>\n",
       "      <td>0.007454</td>\n",
       "    </tr>\n",
       "    <tr>\n",
       "      <th>4</th>\n",
       "      <td>calendar</td>\n",
       "      <td>0.007331</td>\n",
       "      <td>volume</td>\n",
       "      <td>0.007029</td>\n",
       "    </tr>\n",
       "    <tr>\n",
       "      <th>5</th>\n",
       "      <td>list</td>\n",
       "      <td>0.006767</td>\n",
       "      <td>listen</td>\n",
       "      <td>0.005843</td>\n",
       "    </tr>\n",
       "    <tr>\n",
       "      <th>6</th>\n",
       "      <td>learn</td>\n",
       "      <td>0.006616</td>\n",
       "      <td>house</td>\n",
       "      <td>0.005542</td>\n",
       "    </tr>\n",
       "    <tr>\n",
       "      <th>7</th>\n",
       "      <td>search</td>\n",
       "      <td>0.005533</td>\n",
       "      <td>learning</td>\n",
       "      <td>0.005099</td>\n",
       "    </tr>\n",
       "    <tr>\n",
       "      <th>8</th>\n",
       "      <td>purchase</td>\n",
       "      <td>0.005138</td>\n",
       "      <td>prime</td>\n",
       "      <td>0.004408</td>\n",
       "    </tr>\n",
       "    <tr>\n",
       "      <th>9</th>\n",
       "      <td>family</td>\n",
       "      <td>0.005118</td>\n",
       "      <td>listening</td>\n",
       "      <td>0.004276</td>\n",
       "    </tr>\n",
       "    <tr>\n",
       "      <th>10</th>\n",
       "      <td>assistant</td>\n",
       "      <td>0.005098</td>\n",
       "      <td>skill</td>\n",
       "      <td>0.004205</td>\n",
       "    </tr>\n",
       "    <tr>\n",
       "      <th>11</th>\n",
       "      <td>item</td>\n",
       "      <td>0.004674</td>\n",
       "      <td>original</td>\n",
       "      <td>0.003975</td>\n",
       "    </tr>\n",
       "    <tr>\n",
       "      <th>12</th>\n",
       "      <td>alarm</td>\n",
       "      <td>0.004665</td>\n",
       "      <td>review</td>\n",
       "      <td>0.003913</td>\n",
       "    </tr>\n",
       "    <tr>\n",
       "      <th>13</th>\n",
       "      <td>connect</td>\n",
       "      <td>0.004373</td>\n",
       "      <td>issue</td>\n",
       "      <td>0.003603</td>\n",
       "    </tr>\n",
       "    <tr>\n",
       "      <th>14</th>\n",
       "      <td>chromecast</td>\n",
       "      <td>0.004281</td>\n",
       "      <td>different</td>\n",
       "      <td>0.003435</td>\n",
       "    </tr>\n",
       "    <tr>\n",
       "      <th>15</th>\n",
       "      <td>control</td>\n",
       "      <td>0.004204</td>\n",
       "      <td>back</td>\n",
       "      <td>0.003382</td>\n",
       "    </tr>\n",
       "    <tr>\n",
       "      <th>16</th>\n",
       "      <td>request</td>\n",
       "      <td>0.004133</td>\n",
       "      <td>update</td>\n",
       "      <td>0.003275</td>\n",
       "    </tr>\n",
       "    <tr>\n",
       "      <th>17</th>\n",
       "      <td>information</td>\n",
       "      <td>0.003992</td>\n",
       "      <td>purchase</td>\n",
       "      <td>0.003267</td>\n",
       "    </tr>\n",
       "    <tr>\n",
       "      <th>18</th>\n",
       "      <td>youtube</td>\n",
       "      <td>0.003901</td>\n",
       "      <td>asked</td>\n",
       "      <td>0.003258</td>\n",
       "    </tr>\n",
       "    <tr>\n",
       "      <th>19</th>\n",
       "      <td>service</td>\n",
       "      <td>0.003866</td>\n",
       "      <td>asking</td>\n",
       "      <td>0.003258</td>\n",
       "    </tr>\n",
       "    <tr>\n",
       "      <th>20</th>\n",
       "      <td>turn</td>\n",
       "      <td>0.003763</td>\n",
       "      <td>turn</td>\n",
       "      <td>0.003222</td>\n",
       "    </tr>\n",
       "    <tr>\n",
       "      <th>21</th>\n",
       "      <td>kid</td>\n",
       "      <td>0.003752</td>\n",
       "      <td>thought</td>\n",
       "      <td>0.003081</td>\n",
       "    </tr>\n",
       "    <tr>\n",
       "      <th>22</th>\n",
       "      <td>app</td>\n",
       "      <td>0.003700</td>\n",
       "      <td>news</td>\n",
       "      <td>0.003001</td>\n",
       "    </tr>\n",
       "    <tr>\n",
       "      <th>23</th>\n",
       "      <td>command</td>\n",
       "      <td>0.003628</td>\n",
       "      <td>small</td>\n",
       "      <td>0.003001</td>\n",
       "    </tr>\n",
       "    <tr>\n",
       "      <th>24</th>\n",
       "      <td>recommend</td>\n",
       "      <td>0.003628</td>\n",
       "      <td>disappointed</td>\n",
       "      <td>0.002868</td>\n",
       "    </tr>\n",
       "    <tr>\n",
       "      <th>25</th>\n",
       "      <td>tv</td>\n",
       "      <td>0.003345</td>\n",
       "      <td>version</td>\n",
       "      <td>0.002859</td>\n",
       "    </tr>\n",
       "    <tr>\n",
       "      <th>26</th>\n",
       "      <td>news</td>\n",
       "      <td>0.003311</td>\n",
       "      <td>purchased</td>\n",
       "      <td>0.002859</td>\n",
       "    </tr>\n",
       "    <tr>\n",
       "      <th>27</th>\n",
       "      <td>husband</td>\n",
       "      <td>0.003291</td>\n",
       "      <td>gave</td>\n",
       "      <td>0.002850</td>\n",
       "    </tr>\n",
       "    <tr>\n",
       "      <th>28</th>\n",
       "      <td>android</td>\n",
       "      <td>0.003253</td>\n",
       "      <td>problem</td>\n",
       "      <td>0.002824</td>\n",
       "    </tr>\n",
       "    <tr>\n",
       "      <th>29</th>\n",
       "      <td>create</td>\n",
       "      <td>0.003165</td>\n",
       "      <td>radio</td>\n",
       "      <td>0.002780</td>\n",
       "    </tr>\n",
       "    <tr>\n",
       "      <th>...</th>\n",
       "      <td>...</td>\n",
       "      <td>...</td>\n",
       "      <td>...</td>\n",
       "      <td>...</td>\n",
       "    </tr>\n",
       "    <tr>\n",
       "      <th>3233</th>\n",
       "      <td>students</td>\n",
       "      <td>0.000000</td>\n",
       "      <td>tecky</td>\n",
       "      <td>0.000000</td>\n",
       "    </tr>\n",
       "    <tr>\n",
       "      <th>3234</th>\n",
       "      <td>hopper</td>\n",
       "      <td>0.000000</td>\n",
       "      <td>mobility</td>\n",
       "      <td>0.000000</td>\n",
       "    </tr>\n",
       "    <tr>\n",
       "      <th>3235</th>\n",
       "      <td>fullness</td>\n",
       "      <td>0.000000</td>\n",
       "      <td>spotty</td>\n",
       "      <td>0.000000</td>\n",
       "    </tr>\n",
       "    <tr>\n",
       "      <th>3236</th>\n",
       "      <td>soundlink</td>\n",
       "      <td>0.000000</td>\n",
       "      <td>competition</td>\n",
       "      <td>0.000000</td>\n",
       "    </tr>\n",
       "    <tr>\n",
       "      <th>3237</th>\n",
       "      <td>higher</td>\n",
       "      <td>0.000000</td>\n",
       "      <td>som</td>\n",
       "      <td>0.000000</td>\n",
       "    </tr>\n",
       "    <tr>\n",
       "      <th>3238</th>\n",
       "      <td>described</td>\n",
       "      <td>0.000000</td>\n",
       "      <td>smarthings</td>\n",
       "      <td>0.000000</td>\n",
       "    </tr>\n",
       "    <tr>\n",
       "      <th>3239</th>\n",
       "      <td>glass</td>\n",
       "      <td>0.000000</td>\n",
       "      <td>lists</td>\n",
       "      <td>0.000000</td>\n",
       "    </tr>\n",
       "    <tr>\n",
       "      <th>3240</th>\n",
       "      <td>dark</td>\n",
       "      <td>0.000000</td>\n",
       "      <td>wanna</td>\n",
       "      <td>0.000000</td>\n",
       "    </tr>\n",
       "    <tr>\n",
       "      <th>3241</th>\n",
       "      <td>relatives</td>\n",
       "      <td>0.000000</td>\n",
       "      <td>organizer</td>\n",
       "      <td>0.000000</td>\n",
       "    </tr>\n",
       "    <tr>\n",
       "      <th>3242</th>\n",
       "      <td>older</td>\n",
       "      <td>0.000000</td>\n",
       "      <td>800</td>\n",
       "      <td>0.000000</td>\n",
       "    </tr>\n",
       "    <tr>\n",
       "      <th>3243</th>\n",
       "      <td>featuresthe</td>\n",
       "      <td>0.000000</td>\n",
       "      <td>effective</td>\n",
       "      <td>0.000000</td>\n",
       "    </tr>\n",
       "    <tr>\n",
       "      <th>3244</th>\n",
       "      <td>0094</td>\n",
       "      <td>0.000000</td>\n",
       "      <td>ypu</td>\n",
       "      <td>0.000000</td>\n",
       "    </tr>\n",
       "    <tr>\n",
       "      <th>3245</th>\n",
       "      <td>pass</td>\n",
       "      <td>0.000000</td>\n",
       "      <td>decision</td>\n",
       "      <td>0.000000</td>\n",
       "    </tr>\n",
       "    <tr>\n",
       "      <th>3246</th>\n",
       "      <td>turning</td>\n",
       "      <td>0.000000</td>\n",
       "      <td>surf</td>\n",
       "      <td>0.000000</td>\n",
       "    </tr>\n",
       "    <tr>\n",
       "      <th>3247</th>\n",
       "      <td>frequency</td>\n",
       "      <td>0.000000</td>\n",
       "      <td>thrill</td>\n",
       "      <td>0.000000</td>\n",
       "    </tr>\n",
       "    <tr>\n",
       "      <th>3248</th>\n",
       "      <td>plex</td>\n",
       "      <td>0.000000</td>\n",
       "      <td>reserve</td>\n",
       "      <td>0.000000</td>\n",
       "    </tr>\n",
       "    <tr>\n",
       "      <th>3249</th>\n",
       "      <td>assume</td>\n",
       "      <td>0.000000</td>\n",
       "      <td>fair</td>\n",
       "      <td>0.000000</td>\n",
       "    </tr>\n",
       "    <tr>\n",
       "      <th>3250</th>\n",
       "      <td>horribly</td>\n",
       "      <td>0.000000</td>\n",
       "      <td>litten</td>\n",
       "      <td>0.000000</td>\n",
       "    </tr>\n",
       "    <tr>\n",
       "      <th>3251</th>\n",
       "      <td>damn</td>\n",
       "      <td>0.000000</td>\n",
       "      <td>belkin</td>\n",
       "      <td>0.000000</td>\n",
       "    </tr>\n",
       "    <tr>\n",
       "      <th>3252</th>\n",
       "      <td>player</td>\n",
       "      <td>0.000000</td>\n",
       "      <td>hello</td>\n",
       "      <td>0.000000</td>\n",
       "    </tr>\n",
       "    <tr>\n",
       "      <th>3253</th>\n",
       "      <td>blood</td>\n",
       "      <td>0.000000</td>\n",
       "      <td>snooze</td>\n",
       "      <td>0.000000</td>\n",
       "    </tr>\n",
       "    <tr>\n",
       "      <th>3254</th>\n",
       "      <td>figuring</td>\n",
       "      <td>0.000000</td>\n",
       "      <td>dumbfounded</td>\n",
       "      <td>0.000000</td>\n",
       "    </tr>\n",
       "    <tr>\n",
       "      <th>3255</th>\n",
       "      <td>chants</td>\n",
       "      <td>0.000000</td>\n",
       "      <td>race</td>\n",
       "      <td>0.000000</td>\n",
       "    </tr>\n",
       "    <tr>\n",
       "      <th>3256</th>\n",
       "      <td>totally</td>\n",
       "      <td>0.000000</td>\n",
       "      <td>express</td>\n",
       "      <td>0.000000</td>\n",
       "    </tr>\n",
       "    <tr>\n",
       "      <th>3257</th>\n",
       "      <td>conversion</td>\n",
       "      <td>0.000000</td>\n",
       "      <td>sufficient</td>\n",
       "      <td>0.000000</td>\n",
       "    </tr>\n",
       "    <tr>\n",
       "      <th>3258</th>\n",
       "      <td>saved</td>\n",
       "      <td>0.000000</td>\n",
       "      <td>ymv</td>\n",
       "      <td>0.000000</td>\n",
       "    </tr>\n",
       "    <tr>\n",
       "      <th>3259</th>\n",
       "      <td>rat</td>\n",
       "      <td>0.000000</td>\n",
       "      <td>senior</td>\n",
       "      <td>0.000000</td>\n",
       "    </tr>\n",
       "    <tr>\n",
       "      <th>3260</th>\n",
       "      <td>24</td>\n",
       "      <td>0.000000</td>\n",
       "      <td>toe</td>\n",
       "      <td>0.000000</td>\n",
       "    </tr>\n",
       "    <tr>\n",
       "      <th>3261</th>\n",
       "      <td>howl</td>\n",
       "      <td>0.000000</td>\n",
       "      <td>browser</td>\n",
       "      <td>0.000000</td>\n",
       "    </tr>\n",
       "    <tr>\n",
       "      <th>3262</th>\n",
       "      <td>gotten</td>\n",
       "      <td>0.000000</td>\n",
       "      <td>excellently</td>\n",
       "      <td>0.000000</td>\n",
       "    </tr>\n",
       "  </tbody>\n",
       "</table>\n",
       "<p>3263 rows × 4 columns</p>\n",
       "</div>"
      ],
      "text/plain": [
       "                0         1             0         1\n",
       "0          google  0.103494          echo  0.060585\n",
       "1            home  0.057291       quality  0.018484\n",
       "2           light  0.011793        amazon  0.013783\n",
       "3          amazon  0.007506          room  0.007454\n",
       "4        calendar  0.007331        volume  0.007029\n",
       "5            list  0.006767        listen  0.005843\n",
       "6           learn  0.006616         house  0.005542\n",
       "7          search  0.005533      learning  0.005099\n",
       "8        purchase  0.005138         prime  0.004408\n",
       "9          family  0.005118     listening  0.004276\n",
       "10      assistant  0.005098         skill  0.004205\n",
       "11           item  0.004674      original  0.003975\n",
       "12          alarm  0.004665        review  0.003913\n",
       "13        connect  0.004373         issue  0.003603\n",
       "14     chromecast  0.004281     different  0.003435\n",
       "15        control  0.004204          back  0.003382\n",
       "16        request  0.004133        update  0.003275\n",
       "17    information  0.003992      purchase  0.003267\n",
       "18        youtube  0.003901         asked  0.003258\n",
       "19        service  0.003866        asking  0.003258\n",
       "20           turn  0.003763          turn  0.003222\n",
       "21            kid  0.003752       thought  0.003081\n",
       "22            app  0.003700          news  0.003001\n",
       "23        command  0.003628         small  0.003001\n",
       "24      recommend  0.003628  disappointed  0.002868\n",
       "25             tv  0.003345       version  0.002859\n",
       "26           news  0.003311     purchased  0.002859\n",
       "27        husband  0.003291          gave  0.002850\n",
       "28        android  0.003253       problem  0.002824\n",
       "29         create  0.003165         radio  0.002780\n",
       "...           ...       ...           ...       ...\n",
       "3233     students  0.000000         tecky  0.000000\n",
       "3234       hopper  0.000000      mobility  0.000000\n",
       "3235     fullness  0.000000        spotty  0.000000\n",
       "3236    soundlink  0.000000   competition  0.000000\n",
       "3237       higher  0.000000           som  0.000000\n",
       "3238    described  0.000000    smarthings  0.000000\n",
       "3239        glass  0.000000         lists  0.000000\n",
       "3240         dark  0.000000         wanna  0.000000\n",
       "3241    relatives  0.000000     organizer  0.000000\n",
       "3242        older  0.000000           800  0.000000\n",
       "3243  featuresthe  0.000000     effective  0.000000\n",
       "3244         0094  0.000000           ypu  0.000000\n",
       "3245         pass  0.000000      decision  0.000000\n",
       "3246      turning  0.000000          surf  0.000000\n",
       "3247    frequency  0.000000        thrill  0.000000\n",
       "3248         plex  0.000000       reserve  0.000000\n",
       "3249       assume  0.000000          fair  0.000000\n",
       "3250     horribly  0.000000        litten  0.000000\n",
       "3251         damn  0.000000        belkin  0.000000\n",
       "3252       player  0.000000         hello  0.000000\n",
       "3253        blood  0.000000        snooze  0.000000\n",
       "3254     figuring  0.000000   dumbfounded  0.000000\n",
       "3255       chants  0.000000          race  0.000000\n",
       "3256      totally  0.000000       express  0.000000\n",
       "3257   conversion  0.000000    sufficient  0.000000\n",
       "3258        saved  0.000000           ymv  0.000000\n",
       "3259          rat  0.000000        senior  0.000000\n",
       "3260           24  0.000000           toe  0.000000\n",
       "3261         howl  0.000000       browser  0.000000\n",
       "3262       gotten  0.000000   excellently  0.000000\n",
       "\n",
       "[3263 rows x 4 columns]"
      ]
     },
     "execution_count": 24,
     "metadata": {},
     "output_type": "execute_result"
    }
   ],
   "source": [
    "resultTable = pd.concat([df1,df2], axis=1)\n",
    "resultTable"
   ]
  },
  {
   "cell_type": "code",
   "execution_count": 25,
   "metadata": {},
   "outputs": [],
   "source": [
    "resultTable.to_csv('./result/topic_modeling_result.csv')"
   ]
  },
  {
   "cell_type": "code",
   "execution_count": null,
   "metadata": {
    "collapsed": true
   },
   "outputs": [],
   "source": []
  }
 ],
 "metadata": {
  "kernelspec": {
   "display_name": "Python 3",
   "language": "python",
   "name": "python3"
  },
  "language_info": {
   "codemirror_mode": {
    "name": "ipython",
    "version": 3
   },
   "file_extension": ".py",
   "mimetype": "text/x-python",
   "name": "python",
   "nbconvert_exporter": "python",
   "pygments_lexer": "ipython3",
   "version": "3.6.3"
  }
 },
 "nbformat": 4,
 "nbformat_minor": 2
}
