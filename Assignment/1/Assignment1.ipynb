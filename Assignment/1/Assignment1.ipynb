{
 "cells": [
  {
   "cell_type": "markdown",
   "metadata": {},
   "source": [
    "## Environment Setting"
   ]
  },
  {
   "cell_type": "code",
   "execution_count": 1,
   "metadata": {
    "collapsed": true
   },
   "outputs": [],
   "source": [
    "import pandas as pd\n",
    "import matplotlib.pyplot as plt\n",
    "import matplotlib.font_manager as fm\n",
    "\n",
    "from collections import Counter\n",
    "from string import punctuation\n",
    "from nltk.stem import PorterStemmer\n",
    "from operator import itemgetter\n",
    "from math import floor\n",
    "\n",
    "from stopwords import stopwords\n",
    "from replacer import RegexpReplacer\n",
    "\n",
    "%matplotlib inline"
   ]
  },
  {
   "cell_type": "markdown",
   "metadata": {},
   "source": [
    "## 1. Pre-Processing"
   ]
  },
  {
   "cell_type": "code",
   "execution_count": 2,
   "metadata": {
    "collapsed": true,
    "scrolled": false
   },
   "outputs": [],
   "source": [
    "k_files = ['k{}.txt'.format(number) for number in range(1, 6)]\n",
    "N_files = ['N{}.txt'.format(number) for number in range(1, 6)]"
   ]
  },
  {
   "cell_type": "markdown",
   "metadata": {},
   "source": [
    "Tokenization: tokenize each document into tokens. "
   ]
  },
  {
   "cell_type": "code",
   "execution_count": 3,
   "metadata": {
    "collapsed": true
   },
   "outputs": [],
   "source": [
    "def import_corpus(filename):\n",
    "    \n",
    "    words = []\n",
    "\n",
    "    symbols = punctuation.replace('\\'','')\n",
    "    \n",
    "    with open(filename) as file:\n",
    "        content = file.read().strip()\n",
    "        for symbol in symbols:\n",
    "            content = content.replace(symbol, '')\n",
    "        words = words + content.split()\n",
    "\n",
    "    return words"
   ]
  },
  {
   "cell_type": "code",
   "execution_count": 4,
   "metadata": {
    "collapsed": true
   },
   "outputs": [],
   "source": [
    "def create_corpus(filenames):\n",
    "    # 단어를 저장할 리스트를 생성합니다.\n",
    "    words = []\n",
    "\n",
    "    # 여러 파일에 등장하는 모든 단어를 모두 words에 저장합니다.\n",
    "    # 이 때 문장부호를 포함한 모든 특수기호를 제거합니다.\n",
    "    symbols = punctuation.replace('\\'','')\n",
    "    \n",
    "    for filename in filenames:\n",
    "        with open(filename) as file:\n",
    "            content = file.read().strip()\n",
    "            for symbol in symbols:\n",
    "                content = content.replace(symbol, '')\n",
    "            words = words + content.split()\n",
    "\n",
    "    # words 리스트의 데이터를 corpus 형태로 변환합니다.\n",
    "    corpus = Counter(words)\n",
    "    \"\"\"\n",
    "    # optional code line\n",
    "    for stopword in stopwords:\n",
    "        corpus[stopword] = 0\n",
    "    \"\"\"\n",
    "    return list(corpus.items())"
   ]
  },
  {
   "cell_type": "markdown",
   "metadata": {},
   "source": [
    "Normalization: normalize the tokens from step 1. "
   ]
  },
  {
   "cell_type": "code",
   "execution_count": 5,
   "metadata": {
    "collapsed": true
   },
   "outputs": [],
   "source": [
    "def lower_text(document_object):\n",
    "    \n",
    "    lower_corpus_list = []\n",
    "    \n",
    "    for char in document_object:\n",
    "        lower_character = char.lower()\n",
    "        lower_corpus_list.append(lower_character)\n",
    "        \n",
    "    return lower_corpus_list"
   ]
  },
  {
   "cell_type": "code",
   "execution_count": 6,
   "metadata": {
    "collapsed": true
   },
   "outputs": [],
   "source": [
    "def unset_apostrohe(lower_corpus_list):\n",
    "    \n",
    "    replacer = RegexpReplacer()\n",
    "    \n",
    "    unset_apostrohe_list = []\n",
    "    \n",
    "    for element in lower_corpus_list:\n",
    "        temp_elem = replacer.replace(element)\n",
    "        unset_apostrohe_list.append(temp_elem.replace('\\'',''))\n",
    "        \n",
    "    return unset_apostrohe_list"
   ]
  },
  {
   "cell_type": "markdown",
   "metadata": {},
   "source": [
    "Stopword removal: remove stopwords."
   ]
  },
  {
   "cell_type": "code",
   "execution_count": 7,
   "metadata": {
    "collapsed": true
   },
   "outputs": [],
   "source": [
    "def remove_stopword(duplicate_list):\n",
    "    \n",
    "    final_list = duplicate_list.copy()\n",
    "    \n",
    "    for word in duplicate_list:\n",
    "        if word in stopwords:\n",
    "            final_list.remove(word)\n",
    "            \n",
    "    return final_list"
   ]
  },
  {
   "cell_type": "markdown",
   "metadata": {},
   "source": [
    "Stemming: stem the tokens back to their root form. "
   ]
  },
  {
   "cell_type": "code",
   "execution_count": 8,
   "metadata": {
    "collapsed": true
   },
   "outputs": [],
   "source": [
    "def stem_corpus(before_stem_final_list):\n",
    "    \n",
    "    ps = PorterStemmer()\n",
    "    corpus_list = [ps.stem(stem_word) for stem_word in before_stem_final_list]\n",
    "    \n",
    "    corpus = Counter(corpus_list)\n",
    "    \n",
    "    return list(corpus.items())"
   ]
  },
  {
   "cell_type": "markdown",
   "metadata": {},
   "source": [
    "## 2. Understand Zipf's Law "
   ]
  },
  {
   "cell_type": "markdown",
   "metadata": {},
   "source": [
    "Zipf's curve"
   ]
  },
  {
   "cell_type": "code",
   "execution_count": 10,
   "metadata": {
    "collapsed": true
   },
   "outputs": [],
   "source": [
    "def zipfs_curve(stem_corpus_list):\n",
    "    #pos = range(len(stem_corpus_list))\n",
    "    \n",
    "    words = [tup[0] for tup in stem_corpus_list]\n",
    "    freqs = [tup[1] for tup in stem_corpus_list]\n",
    "    \n",
    "    ranks = [rank+1 for rank in range(len(words))]\n",
    "    \n",
    "    font = fm.FontProperties(fname='./NanumBarunGothic.ttf')\n",
    "    plt.figure(figsize=(16,6))\n",
    "    plt.plot(ranks, freqs)\n",
    "    \n",
    "    plt.xlabel('rank', fontproperties=font, fontsize=14)\n",
    "    plt.title('Zipf\\'s law', fontproperties=font, fontsize=20)\n",
    "    plt.ylabel('frequency', fontproperties=font, fontsize=14)\n",
    "    plt.tight_layout()"
   ]
  },
  {
   "cell_type": "markdown",
   "metadata": {},
   "source": [
    "Decide to cut-off"
   ]
  },
  {
   "cell_type": "code",
   "execution_count": 40,
   "metadata": {
    "collapsed": true
   },
   "outputs": [],
   "source": [
    "def cut_zipfs_curve(stem_corpus_list, cut=0.1):\n",
    "    #pos = range(len(stem_corpus_list))\n",
    "    \n",
    "    words = [tup[0] for tup in stem_corpus_list]\n",
    "    freqs = [tup[1] for tup in stem_corpus_list]\n",
    "    ranks = [rank+1 for rank in range(len(words))]\n",
    "    \n",
    "    cutoff = floor(len(words)*cut)\n",
    "    re_words = words[cutoff:-cutoff]\n",
    "    re_freqs = freqs[cutoff:-cutoff]\n",
    "    re_ranks = [re+1 for re in range(len(re_words))]\n",
    "    \n",
    "    font = fm.FontProperties(fname='./NanumBarunGothic.ttf')\n",
    "    plt.figure(figsize=(16,6))\n",
    "    plt.plot(re_ranks, re_freqs)\n",
    "    \n",
    "    plt.xlabel('rank', fontproperties=font, fontsize=14)\n",
    "    plt.title('Zipf\\'s law(cut-off)', fontproperties=font, fontsize=20)\n",
    "    plt.ylabel('frequency', fontproperties=font, fontsize=14)\n",
    "    plt.tight_layout()"
   ]
  },
  {
   "cell_type": "markdown",
   "metadata": {},
   "source": [
    "추가) cut off 결정해서.. 다시 그린 그림 // 멀티플랏(cut off) // rank 1 2 3 word. freq"
   ]
  },
  {
   "cell_type": "markdown",
   "metadata": {},
   "source": [
    "## 3.  Construct a Vocabulary "
   ]
  },
  {
   "cell_type": "markdown",
   "metadata": {
    "collapsed": true
   },
   "source": [
    "List the resulting vocabulary."
   ]
  },
  {
   "cell_type": "code",
   "execution_count": 31,
   "metadata": {},
   "outputs": [],
   "source": [
    "def list_voca(stem_corpus_list, cutoff=False, cut=0.1):\n",
    "    cutNum = floor(len(stem_corpus_list)*cut)\n",
    "\n",
    "    if cutoff == True:\n",
    "        return [tup[0] for tup in stem_corpus_list][cutNum:-cutNum]\n",
    "      \n",
    "    else:\n",
    "        return [tup[0] for tup in stem_corpus_list]"
   ]
  },
  {
   "cell_type": "markdown",
   "metadata": {
    "collapsed": true
   },
   "source": [
    "List top 50 and bottom 50 words according to TF in the resulting vocabulary, and represent their corresponding IDFs. "
   ]
  },
  {
   "cell_type": "code",
   "execution_count": null,
   "metadata": {
    "collapsed": true
   },
   "outputs": [],
   "source": [
    "def tf():\n",
    "    "
   ]
  },
  {
   "cell_type": "code",
   "execution_count": null,
   "metadata": {
    "collapsed": true
   },
   "outputs": [],
   "source": []
  },
  {
   "cell_type": "code",
   "execution_count": null,
   "metadata": {
    "collapsed": true
   },
   "outputs": [],
   "source": []
  },
  {
   "cell_type": "code",
   "execution_count": null,
   "metadata": {
    "collapsed": true
   },
   "outputs": [],
   "source": []
  },
  {
   "cell_type": "code",
   "execution_count": null,
   "metadata": {
    "collapsed": true
   },
   "outputs": [],
   "source": []
  },
  {
   "cell_type": "markdown",
   "metadata": {},
   "source": [
    "## Unit Test"
   ]
  },
  {
   "cell_type": "code",
   "execution_count": 43,
   "metadata": {},
   "outputs": [
    {
     "data": {
      "text/plain": [
       "['one',\n",
       " 'dollar',\n",
       " 'presid',\n",
       " 'company i',\n",
       " 'could',\n",
       " 'come',\n",
       " 'manag',\n",
       " 'public',\n",
       " 'step',\n",
       " 'industri',\n",
       " 'fill',\n",
       " 'group',\n",
       " 'lower',\n",
       " 'unitedhealthcare i',\n",
       " 'signific',\n",
       " 'tuesday',\n",
       " 'keep',\n",
       " 'million',\n",
       " 'begin',\n",
       " 'year',\n",
       " 'high',\n",
       " 'buy',\n",
       " 'parent',\n",
       " 'also',\n",
       " 'optumrx',\n",
       " 'increas',\n",
       " 'decis',\n",
       " 'taken',\n",
       " '2018',\n",
       " 'critic',\n",
       " 'pharmaceut',\n",
       " 'significantli',\n",
       " 'call',\n",
       " 'alreadi',\n",
       " 'argu',\n",
       " 'cost',\n",
       " 'seem',\n",
       " 'shift',\n",
       " 'fein',\n",
       " 'consult',\n",
       " 'affect',\n",
       " 'it i',\n",
       " 'transpar',\n",
       " 'medicin',\n",
       " 'littl',\n",
       " 'take',\n",
       " 'trump',\n",
       " 'administr',\n",
       " 'idea',\n",
       " 'privat',\n",
       " 'servic',\n",
       " 'sign',\n",
       " 'estim',\n",
       " 'month',\n",
       " 'propos',\n",
       " 'offer',\n",
       " 'option',\n",
       " 'employe',\n",
       " 'interest',\n",
       " 'respons',\n",
       " 'grow',\n",
       " 'frustrat',\n",
       " 'nation i',\n",
       " 'largest',\n",
       " 'stop',\n",
       " 'get',\n",
       " 'dan',\n",
       " 'appli',\n",
       " 'seven',\n",
       " 'enrol',\n",
       " 'fulli',\n",
       " 'next',\n",
       " 'rang',\n",
       " 'hundr',\n",
       " 'thousand',\n",
       " 'paid',\n",
       " 'deduct',\n",
       " 'carri',\n",
       " 'greatest',\n",
       " 'whose',\n",
       " 'own',\n",
       " 'pressur',\n",
       " 'especi',\n",
       " 'brandnam',\n",
       " 'rise',\n",
       " 'anger',\n",
       " 'lawmak',\n",
       " 'seri',\n",
       " 'maker',\n",
       " 'tri',\n",
       " 'lessen',\n",
       " 'discont',\n",
       " 'even',\n",
       " 'spar',\n",
       " 'blame',\n",
       " 'relat',\n",
       " 'coverag',\n",
       " 'march',\n",
       " '5',\n",
       " 'eagerli',\n",
       " 'await',\n",
       " 'gener',\n",
       " 'saw',\n",
       " 'feb',\n",
       " '23',\n",
       " 'aim',\n",
       " 'deflect',\n",
       " 'increasingli',\n",
       " 'point',\n",
       " 'finger',\n",
       " 'manufactur',\n",
       " 'america',\n",
       " 'trade',\n",
       " 'roll',\n",
       " 'advertis',\n",
       " 'campaign',\n",
       " 'last',\n",
       " 'make',\n",
       " 'case',\n",
       " 'outofpocket',\n",
       " 'bill',\n",
       " 'right',\n",
       " 'direct',\n",
       " 'includ',\n",
       " 'contend',\n",
       " 'use',\n",
       " 'money',\n",
       " 'real',\n",
       " 'issu',\n",
       " 'mani',\n",
       " 'blink',\n",
       " 'signal',\n",
       " 'away',\n",
       " 'system',\n",
       " 'convolut',\n",
       " 'deal',\n",
       " 'struck',\n",
       " 'middlemen',\n",
       " 'adam',\n",
       " 'j',\n",
       " 'pembrok',\n",
       " 'firm',\n",
       " 'although',\n",
       " 'fraction',\n",
       " 'path',\n",
       " 'creat',\n",
       " 'suppli',\n",
       " 'chain',\n",
       " 'difficulti',\n",
       " 'obtain',\n",
       " 'hear',\n",
       " 'experi',\n",
       " 'amount',\n",
       " 'vari',\n",
       " 'wide',\n",
       " 'humira',\n",
       " 'enbrel',\n",
       " 'treat',\n",
       " 'rheumatoid',\n",
       " 'arthriti',\n",
       " 'deepli',\n",
       " 'other',\n",
       " 'rare',\n",
       " 'condit',\n",
       " 'competit',\n",
       " 'inform',\n",
       " 'whether',\n",
       " 'ultim',\n",
       " 'flow',\n",
       " 'back',\n",
       " 'lot',\n",
       " 'differ',\n",
       " 'erik',\n",
       " 'gordon',\n",
       " 'busi',\n",
       " 'univers',\n",
       " 'michigan',\n",
       " 'felt',\n",
       " 'compel',\n",
       " 'someth',\n",
       " 'recent',\n",
       " 'float',\n",
       " 'requir',\n",
       " 'counter',\n",
       " 'alex',\n",
       " 'm',\n",
       " 'azar',\n",
       " 'ii',\n",
       " 'former',\n",
       " 'execut',\n",
       " 'eli',\n",
       " 'lilli',\n",
       " 'secretari',\n",
       " 'human',\n",
       " 'move',\n",
       " 'prime',\n",
       " 'exampl',\n",
       " 'type',\n",
       " 'movement',\n",
       " 'toward',\n",
       " 'champion',\n",
       " 'upcontinu',\n",
       " 'times i',\n",
       " 'product',\n",
       " 'us',\n",
       " 'resist',\n",
       " 'forc',\n",
       " 'result',\n",
       " 'higher',\n",
       " 'everyon',\n",
       " 'feder',\n",
       " 'offici',\n",
       " 'averag',\n",
       " '45',\n",
       " '132',\n",
       " 'beneficiari',\n",
       " 'anywher',\n",
       " '14',\n",
       " '44',\n",
       " 'unitedhealth',\n",
       " 'oppos',\n",
       " 'rais',\n",
       " 'sharpli',\n",
       " 'older',\n",
       " 'contrast',\n",
       " 'minim',\n",
       " 'effect']"
      ]
     },
     "execution_count": 43,
     "metadata": {},
     "output_type": "execute_result"
    },
    {
     "data": {
      "image/png": "[encoded data removed]",
      "text/plain": [
       "<matplotlib.figure.Figure at 0x227fd3be240>"
      ]
     },
     "metadata": {},
     "output_type": "display_data"
    }
   ],
   "source": [
    "a = import_corpus('./data/N1.txt')\n",
    "\n",
    "b = lower_text(a)\n",
    "\n",
    "c = unset_apostrohe(b)\n",
    "\n",
    "d = remove_stopword(c)\n",
    "\n",
    "e = stem_corpus(d)\n",
    "\n",
    "f = sorted(e, key=itemgetter(1), reverse=True)\n",
    "\n",
    "cut_zipfs_curve(f, cut=0.1)\n",
    "\n",
    "list_voca(f, cutoff=True)"
   ]
  }
 ],
 "metadata": {
  "kernelspec": {
   "display_name": "Python 3",
   "language": "python",
   "name": "python3"
  },
  "language_info": {
   "codemirror_mode": {
    "name": "ipython",
    "version": 3
   },
   "file_extension": ".py",
   "mimetype": "text/x-python",
   "name": "python",
   "nbconvert_exporter": "python",
   "pygments_lexer": "ipython3",
   "version": "3.6.2"
  }
 },
 "nbformat": 4,
 "nbformat_minor": 2
}
