{
 "cells": [
  {
   "cell_type": "markdown",
   "metadata": {
    "collapsed": true
   },
   "source": [
    "__*Class*__: Text Minig[BAT54201]\n",
    "\n",
    "__*Professor*__: Lee, Junghye\n",
    "\n",
    "__*Team*__: DW(Don't Worry)\n",
    "\n",
    "__*Member*__: Cha, Ukhyeon(20176022) / Lee, Doyeon(20176026)"
   ]
  },
  {
   "cell_type": "markdown",
   "metadata": {
    "collapsed": true
   },
   "source": [
    "## Introduction and Goal"
   ]
  },
  {
   "cell_type": "markdown",
   "metadata": {},
   "source": [
    "This task is to understand pLSA and EM algorithms.\n",
    "\n",
    "- Understand the algorithm and implement it yourself.\n",
    "\n",
    "- Create a class using the functions created in Assignment 1. Becase of programformating compile."
   ]
  },
  {
   "cell_type": "markdown",
   "metadata": {},
   "source": [
    "We will attatch doucments handwritten 'Derive PLSA'."
   ]
  },
  {
   "cell_type": "markdown",
   "metadata": {},
   "source": [
    "## Environment Setting"
   ]
  },
  {
   "cell_type": "code",
   "execution_count": 1,
   "metadata": {
    "collapsed": true
   },
   "outputs": [],
   "source": [
    "# External API\n",
    "import os\n",
    "import sys\n",
    "import numpy as np\n",
    "import glob\n",
    "import matplotlib.pyplot as plt\n",
    "\n",
    "# Part of External API\n",
    "from string import punctuation\n",
    "from operator import itemgetter\n",
    "from pandas import Series, DataFrame\n",
    "\n",
    "# Own code API\n",
    "import TextminingPlsa\n",
    "from utils import normalize\n",
    "from stopwords import stopwords\n",
    "from replacer import RegexpReplacer"
   ]
  },
  {
   "cell_type": "markdown",
   "metadata": {},
   "source": [
    "## Process"
   ]
  },
  {
   "cell_type": "markdown",
   "metadata": {},
   "source": [
    "*The Part of Preprocessing Class in Python*"
   ]
  },
  {
   "cell_type": "markdown",
   "metadata": {},
   "source": [
    "#### Initialization"
   ]
  },
  {
   "cell_type": "code",
   "execution_count": 2,
   "metadata": {
    "collapsed": true
   },
   "outputs": [],
   "source": [
    "corpus = TextminingPlsa.Corpus()  # instantiate corpus\n",
    "document_paths = ['./test/']"
   ]
  },
  {
   "cell_type": "markdown",
   "metadata": {},
   "source": [
    ">Function of making a corpus"
   ]
  },
  {
   "cell_type": "code",
   "execution_count": 3,
   "metadata": {
    "collapsed": true
   },
   "outputs": [],
   "source": [
    "def create_corpus(self):\n",
    "    symbols = punctuation.replace('\\'', '')\n",
    "    self.file = open(self.filepath)\n",
    "    try:\n",
    "        #self.lines = [line for line in self.file]\n",
    "        content = self.file.read().strip()\n",
    "        for symbol in symbols:\n",
    "            content = content.replace(symbol, '')\n",
    "        self.words = self.words + content.split()\n",
    "\n",
    "    finally:\n",
    "        self.file.close()\n",
    "\n",
    "    return self.words"
   ]
  },
  {
   "cell_type": "code",
   "execution_count": 4,
   "metadata": {},
   "outputs": [
    {
     "name": "stdout",
     "output_type": "stream",
     "text": [
      "./test\\k1.txt\n",
      "./test\\k2.txt\n",
      "./test\\k3.txt\n",
      "./test\\k4.txt\n",
      "./test\\k5.txt\n",
      "./test\\N1.txt\n",
      "./test\\N2.txt\n",
      "./test\\N3.txt\n",
      "./test\\N4.txt\n",
      "./test\\N5.txt\n"
     ]
    }
   ],
   "source": [
    "for document_path in document_paths:\n",
    "    for document_file in glob.glob(os.path.join(document_path, '*.txt')):\n",
    "        print(document_file)\n",
    "        document = TextminingPlsa.PreprocessingCorpus(document_file)  # instantiate document"
   ]
  },
  {
   "cell_type": "code",
   "execution_count": 5,
   "metadata": {},
   "outputs": [
    {
     "name": "stdout",
     "output_type": "stream",
     "text": [
      "Length of corpus:  802\n"
     ]
    }
   ],
   "source": [
    "print(\"Length of corpus: \",len(document.create_corpus()))"
   ]
  },
  {
   "cell_type": "code",
   "execution_count": 6,
   "metadata": {},
   "outputs": [
    {
     "name": "stdout",
     "output_type": "stream",
     "text": [
      "./test\\k1.txt\n",
      "['South', 'Korean', 'adults', 'run', 'the', 'risk', 'of', 'chronic', 'diseases', 'due']\n",
      "./test\\k2.txt\n",
      "['A', 'local', 'research', 'team', 'has', 'discovered', 'a', 'form', 'of', 'nanostructure']\n",
      "./test\\k3.txt\n",
      "['Some', '41', 'percent', 'of', 'adult', 'men', 'are', 'overweight', 'much', 'higher']\n",
      "./test\\k4.txt\n",
      "['While', 'millions', 'of', 'people', 'die', 'of', 'hunger', 'in', 'developing', 'countries']\n",
      "./test\\k5.txt\n",
      "['The', 'term', 'babyface', 'has', 'far', 'wider', 'connotations', 'in', 'the', 'modern']\n",
      "./test\\N1.txt\n",
      "['In', 'response', 'to', 'growing', 'consumer', 'frustration', 'over', 'drug', 'prices', 'UnitedHealthcare']\n",
      "./test\\N2.txt\n",
      "['On', 'Sunday', 'The', 'Times', 'published', 'a', 'heartbreaking', 'story', 'about', 'a']\n",
      "./test\\N3.txt\n",
      "['In', 'the', 'wake', 'of', 'the', 'horrific', 'school', 'shootings', 'in', 'Parkland']\n",
      "./test\\N4.txt\n",
      "['When', 'The', 'New', 'York', 'Times', 'hired', 'me', 'to', 'write', 'about']\n",
      "./test\\N5.txt\n",
      "[\"It's\", 'the', 'No', '2', 'killer', 'among', 'illicit', 'drugs', 'in', 'the']\n"
     ]
    }
   ],
   "source": [
    "for document_path in document_paths:\n",
    "    for document_file in glob.glob(os.path.join(document_path, '*.txt')):\n",
    "        print(document_file)\n",
    "        document = TextminingPlsa.PreprocessingCorpus(document_file)\n",
    "        print(document.create_corpus()[:10])"
   ]
  },
  {
   "cell_type": "markdown",
   "metadata": {},
   "source": [
    ">Function of spliting apostrophe"
   ]
  },
  {
   "cell_type": "code",
   "execution_count": 7,
   "metadata": {
    "collapsed": true
   },
   "outputs": [],
   "source": [
    "def unset_apostrophe(self):\n",
    "    \"\"\"\n",
    "    This function needs to import RegexpReplacer.\n",
    "    \"\"\"\n",
    "    replacer = RegexpReplacer()\n",
    "\n",
    "    self.unset_apostrophe_list = []\n",
    "\n",
    "    for element in self.words:\n",
    "        temp_elem = replacer.replace(element).split()\n",
    "        self.unset_apostrophe_list.append(temp_elem.replace('\\'', ''))\n",
    "\n",
    "    return self.unset_apostrophe_list"
   ]
  },
  {
   "cell_type": "code",
   "execution_count": 8,
   "metadata": {},
   "outputs": [
    {
     "name": "stdout",
     "output_type": "stream",
     "text": [
      "./test\\k1.txt\n",
      "['South', 'Korean', 'adults', 'run', 'the', 'risk', 'of', 'chronic', 'diseases', 'due']\n",
      "./test\\k2.txt\n",
      "['A', 'local', 'research', 'team', 'has', 'discovered', 'a', 'form', 'of', 'nanostructure']\n",
      "./test\\k3.txt\n",
      "['Some', '41', 'percent', 'of', 'adult', 'men', 'are', 'overweight', 'much', 'higher']\n",
      "./test\\k4.txt\n",
      "['While', 'millions', 'of', 'people', 'die', 'of', 'hunger', 'in', 'developing', 'countries']\n",
      "./test\\k5.txt\n",
      "['The', 'term', 'babyface', 'has', 'far', 'wider', 'connotations', 'in', 'the', 'modern']\n",
      "./test\\N1.txt\n",
      "['In', 'response', 'to', 'growing', 'consumer', 'frustration', 'over', 'drug', 'prices', 'UnitedHealthcare']\n",
      "./test\\N2.txt\n",
      "['On', 'Sunday', 'The', 'Times', 'published', 'a', 'heartbreaking', 'story', 'about', 'a']\n",
      "./test\\N3.txt\n",
      "['In', 'the', 'wake', 'of', 'the', 'horrific', 'school', 'shootings', 'in', 'Parkland']\n",
      "./test\\N4.txt\n",
      "['When', 'The', 'New', 'York', 'Times', 'hired', 'me', 'to', 'write', 'about']\n",
      "./test\\N5.txt\n",
      "['It is', 'the', 'No', '2', 'killer', 'among', 'illicit', 'drugs', 'in', 'the']\n"
     ]
    }
   ],
   "source": [
    "for document_path in document_paths:\n",
    "    for document_file in glob.glob(os.path.join(document_path, '*.txt')):\n",
    "        print(document_file)\n",
    "        document = TextminingPlsa.PreprocessingCorpus(document_file)\n",
    "        document.create_corpus()\n",
    "        print(document.unset_apostrophe()[:10])"
   ]
  },
  {
   "cell_type": "markdown",
   "metadata": {},
   "source": [
    ">Function of changing lower characters"
   ]
  },
  {
   "cell_type": "code",
   "execution_count": 9,
   "metadata": {
    "collapsed": true
   },
   "outputs": [],
   "source": [
    "def lower_text(self):\n",
    "    \"\"\"\n",
    "    Converts the text of all imported files to lowercase.\n",
    "    \"\"\"\n",
    "    self.lower_corpus_list = []\n",
    "\n",
    "    for char in self.unset_apostrophe_list:\n",
    "        lower_character = char.lower()\n",
    "        self.lower_corpus_list.append(lower_character)\n",
    "\n",
    "    return self.lower_corpus_list"
   ]
  },
  {
   "cell_type": "code",
   "execution_count": 10,
   "metadata": {},
   "outputs": [
    {
     "name": "stdout",
     "output_type": "stream",
     "text": [
      "./test\\k1.txt\n",
      "['south', 'korean', 'adults', 'run', 'the', 'risk', 'of', 'chronic', 'diseases', 'due']\n",
      "./test\\k2.txt\n",
      "['a', 'local', 'research', 'team', 'has', 'discovered', 'a', 'form', 'of', 'nanostructure']\n",
      "./test\\k3.txt\n",
      "['some', '41', 'percent', 'of', 'adult', 'men', 'are', 'overweight', 'much', 'higher']\n",
      "./test\\k4.txt\n",
      "['while', 'millions', 'of', 'people', 'die', 'of', 'hunger', 'in', 'developing', 'countries']\n",
      "./test\\k5.txt\n",
      "['the', 'term', 'babyface', 'has', 'far', 'wider', 'connotations', 'in', 'the', 'modern']\n",
      "./test\\N1.txt\n",
      "['in', 'response', 'to', 'growing', 'consumer', 'frustration', 'over', 'drug', 'prices', 'unitedhealthcare']\n",
      "./test\\N2.txt\n",
      "['on', 'sunday', 'the', 'times', 'published', 'a', 'heartbreaking', 'story', 'about', 'a']\n",
      "./test\\N3.txt\n",
      "['in', 'the', 'wake', 'of', 'the', 'horrific', 'school', 'shootings', 'in', 'parkland']\n",
      "./test\\N4.txt\n",
      "['when', 'the', 'new', 'york', 'times', 'hired', 'me', 'to', 'write', 'about']\n",
      "./test\\N5.txt\n",
      "['it is', 'the', 'no', '2', 'killer', 'among', 'illicit', 'drugs', 'in', 'the']\n"
     ]
    }
   ],
   "source": [
    "for document_path in document_paths:\n",
    "    for document_file in glob.glob(os.path.join(document_path, '*.txt')):\n",
    "        print(document_file)\n",
    "        document = TextminingPlsa.PreprocessingCorpus(document_file)\n",
    "        document.create_corpus()\n",
    "        document.unset_apostrophe()\n",
    "        print(document.lower_text()[:10])"
   ]
  },
  {
   "cell_type": "markdown",
   "metadata": {},
   "source": [
    ">Function of removing stopwords"
   ]
  },
  {
   "cell_type": "code",
   "execution_count": 11,
   "metadata": {
    "collapsed": true
   },
   "outputs": [],
   "source": [
    "def remove_stopword(self):\n",
    "    \"\"\"\n",
    "    This function needs to import stopwords.\n",
    "    Stopwords can be added or removed.\n",
    "    \"\"\"\n",
    "    self.final_list = self.lower_corpus_list.copy()\n",
    "\n",
    "    for word in self.lower_corpus_list:\n",
    "        if word in stopwords:\n",
    "            self.final_list.remove(word)\n",
    "\n",
    "    return self.final_list"
   ]
  },
  {
   "cell_type": "code",
   "execution_count": 12,
   "metadata": {},
   "outputs": [
    {
     "name": "stdout",
     "output_type": "stream",
     "text": [
      "./test\\k1.txt\n",
      "['south', 'korean', 'adults', 'run', 'risk', 'chronic', 'diseases', 'due', 'unhealthy', 'diet']\n",
      "./test\\k2.txt\n",
      "['local', 'discovered', 'form', 'nanostructure', 'potential', 'later', 'applications', 'cancer', 'treatment', 'joint']\n",
      "./test\\k3.txt\n",
      "['41', 'adult', 'men', 'overweight', 'much', 'higher', '24', 'women', 'according', 'obesity']\n",
      "./test\\k4.txt\n",
      "['die', 'hunger', 'developing', 'countries', 'genetically', 'modified', 'organisms', 'essential', 'tool', 'fight']\n",
      "./test\\k5.txt\n",
      "['term', 'babyface', 'far', 'wider', 'connotations', 'modern', 'era', 'nickname', 'boxers', 'legendary']\n",
      "./test\\N1.txt\n",
      "['response', 'growing', 'consumer', 'frustration', 'drug', 'prices', 'unitedhealthcare', 'one', 'nation is', 'largest']\n",
      "./test\\N2.txt\n",
      "['heartbreaking', 'standout', 'student', 'williams', 'later', 'developed', 'mental', 'problems', 'ended', 'homeless']\n",
      "./test\\N3.txt\n",
      "['wake', 'horrific', 'school', 'shootings', 'parkland', 'fla', 'trump', 'repeatedly', 'building', 'reopening']\n",
      "./test\\N4.txt\n",
      "['hired', 'me', 'write', 'science', '52', 'years', 'ago', 'i', '40', 'pounds']\n",
      "./test\\N5.txt\n",
      "['it is', '2', 'killer', 'among', 'illicit', 'drugs', 'us', 'kills', 'africanamericans', 'heroin']\n"
     ]
    }
   ],
   "source": [
    "for document_path in document_paths:\n",
    "    for document_file in glob.glob(os.path.join(document_path, '*.txt')):\n",
    "        print(document_file)\n",
    "        document = TextminingPlsa.PreprocessingCorpus(document_file)\n",
    "        document.create_corpus()\n",
    "        document.unset_apostrophe()\n",
    "        document.lower_text()\n",
    "        predoc = document.remove_stopword()\n",
    "        print(predoc[:10])"
   ]
  },
  {
   "cell_type": "markdown",
   "metadata": {
    "collapsed": true
   },
   "source": [
    "*The Part of Algorithm Class in Python*"
   ]
  },
  {
   "cell_type": "markdown",
   "metadata": {},
   "source": [
    ">Adding to corpus"
   ]
  },
  {
   "cell_type": "code",
   "execution_count": 13,
   "metadata": {
    "collapsed": true
   },
   "outputs": [],
   "source": [
    "def add_document(self, document):\n",
    "    '''\n",
    "    Add a document to the corpus.\n",
    "    '''\n",
    "    self.documents.append(document)"
   ]
  },
  {
   "cell_type": "code",
   "execution_count": 14,
   "metadata": {},
   "outputs": [
    {
     "name": "stdout",
     "output_type": "stream",
     "text": [
      "./test\\k1.txt\n",
      "<TextminingPlsa.Corpus object at 0x000001C2361EA9E8>\n",
      "./test\\k2.txt\n",
      "<TextminingPlsa.Corpus object at 0x000001C2361EA9E8>\n",
      "./test\\k3.txt\n",
      "<TextminingPlsa.Corpus object at 0x000001C2361EA9E8>\n",
      "./test\\k4.txt\n",
      "<TextminingPlsa.Corpus object at 0x000001C2361EA9E8>\n",
      "./test\\k5.txt\n",
      "<TextminingPlsa.Corpus object at 0x000001C2361EA9E8>\n",
      "./test\\N1.txt\n",
      "<TextminingPlsa.Corpus object at 0x000001C2361EA9E8>\n",
      "./test\\N2.txt\n",
      "<TextminingPlsa.Corpus object at 0x000001C2361EA9E8>\n",
      "./test\\N3.txt\n",
      "<TextminingPlsa.Corpus object at 0x000001C2361EA9E8>\n",
      "./test\\N4.txt\n",
      "<TextminingPlsa.Corpus object at 0x000001C2361EA9E8>\n",
      "./test\\N5.txt\n",
      "<TextminingPlsa.Corpus object at 0x000001C2361EA9E8>\n"
     ]
    }
   ],
   "source": [
    "for document_path in document_paths:\n",
    "    for document_file in glob.glob(os.path.join(document_path, '*.txt')):\n",
    "        print(document_file)\n",
    "        document = TextminingPlsa.PreprocessingCorpus(document_file)\n",
    "        document.create_corpus()\n",
    "        document.unset_apostrophe()\n",
    "        document.lower_text()\n",
    "        predoc = document.remove_stopword()\n",
    "        predoc\n",
    "\n",
    "        corpus.add_document(predoc)  # push onto corpus documents list\n",
    "        print(corpus)"
   ]
  },
  {
   "cell_type": "markdown",
   "metadata": {},
   "source": [
    ">Function of making a unique vocabulary"
   ]
  },
  {
   "cell_type": "code",
   "execution_count": 15,
   "metadata": {
    "collapsed": true
   },
   "outputs": [],
   "source": [
    "def build_vocabulary(self):\n",
    "    '''\n",
    "    Construct a list of unique words in the corpus.\n",
    "    '''\n",
    "    discrete_set = set()\n",
    "    for document in self.documents:\n",
    "        for word in document:\n",
    "            discrete_set.add(word)\n",
    "    self.vocabulary = list(discrete_set)\n",
    "\n",
    "    return self.vocabulary"
   ]
  },
  {
   "cell_type": "code",
   "execution_count": 16,
   "metadata": {},
   "outputs": [
    {
     "name": "stdout",
     "output_type": "stream",
     "text": [
      "['pursued', 'swayed', 'employment', 'friend', 'unitedhealthcare is', 'building', 'deflect', 'depends', 'longerterm', 'torrey', 'argue', '520', 'back', '50', 'united', 'provision', 'bank', 'else', 'obesity', 'apartment', 'wellpracticed', 'europe', 'womans', 'brown', 'articles', 'advocacy', 'gained', 'america is', 'brought', 'founded']\n"
     ]
    }
   ],
   "source": [
    "print(corpus.build_vocabulary()[:30])"
   ]
  },
  {
   "cell_type": "markdown",
   "metadata": {},
   "source": [
    ">Implemetation of EM algorithm"
   ]
  },
  {
   "cell_type": "code",
   "execution_count": 17,
   "metadata": {
    "collapsed": true
   },
   "outputs": [],
   "source": [
    "def plsa(self, number_of_topics, max_iter):\n",
    "\n",
    "    '''\n",
    "    Model topics.\n",
    "    '''\n",
    "    print(\"EM iteration begins...\")\n",
    "    # Get vocabulary and number of documents.\n",
    "    self.build_vocabulary()\n",
    "    number_of_documents = len(self.documents)\n",
    "    vocabulary_size = len(self.vocabulary)\n",
    "\n",
    "    # build term-doc matrix\n",
    "    self.term_doc_matrix = np.zeros([number_of_documents, vocabulary_size], dtype=np.int)\n",
    "    for d_index, doc in enumerate(self.documents):\n",
    "        term_count = np.zeros(vocabulary_size, dtype=np.int)\n",
    "        for word in doc:\n",
    "            if word in self.vocabulary:\n",
    "                w_index = self.vocabulary.index(word)\n",
    "                term_count[w_index] += 1\n",
    "        self.term_doc_matrix[d_index] = term_count\n",
    "\n",
    "    # Create the counter arrays.\n",
    "    self.document_topic_prob = np.zeros([number_of_documents, number_of_topics], dtype=np.float)  # P(z | d)\n",
    "    self.topic_word_prob = np.zeros([number_of_topics, len(self.vocabulary)], dtype=np.float)  # P(w | z)\n",
    "    self.topic_prob = np.zeros([number_of_documents, len(self.vocabulary), number_of_topics], dtype=np.float)  # P(z | d, w)\n",
    "\n",
    "    # Initialize\n",
    "    print(\"Initializing...\")\n",
    "    # randomly assign values\n",
    "    self.document_topic_prob = np.random.random(size=(number_of_documents, number_of_topics))\n",
    "    for d_index in range(len(self.documents)):\n",
    "        normalize(self.document_topic_prob[d_index])  # normalize for each document\n",
    "    self.topic_word_prob = np.random.random(size=(number_of_topics, len(self.vocabulary)))\n",
    "    for z in range(number_of_topics):\n",
    "        normalize(self.topic_word_prob[z])  # normalize for each topic\n",
    "\n",
    "    # Run the EM algorithm\n",
    "    temp = 0\n",
    "    word_prob_dist= []\n",
    "    topic_prob_dist = []\n",
    "    for iteration in range(max_iter):\n",
    "        print(\"Iteration #\" + str(iteration + 1) + \"...\")\n",
    "        #print(\"===E step===\")\n",
    "        for d_index, document in enumerate(self.documents):\n",
    "            for w_index in range(vocabulary_size):\n",
    "                prob = self.document_topic_prob[d_index, :] * self.topic_word_prob[:, w_index]\n",
    "                if sum(prob) == 0.0:\n",
    "                    print(\"d_index = \" + str(d_index) + \",  w_index = \" + str(w_index))\n",
    "                    print(\"self.document_topic_prob[d_index, :] = \" + str(self.document_topic_prob[d_index, :]))\n",
    "                    print(\"self.topic_word_prob[:, w_index] = \" + str(self.topic_word_prob[:, w_index]))\n",
    "                    print(\"topic_prob[d_index][w_index] = \" + str(prob))\n",
    "                    exit(0)\n",
    "                else:\n",
    "                    normalize(prob)\n",
    "                self.topic_prob[d_index][w_index] = prob\n",
    "        #print(self.topic_prob.shape)\n",
    "\n",
    "        #print(\"===M step===\")\n",
    "        # update P(w | z); word-distribution\n",
    "        for z in range(number_of_topics):\n",
    "            for w_index in range(vocabulary_size):\n",
    "                s = 0\n",
    "                for d_index in range(len(self.documents)):\n",
    "                    count = self.term_doc_matrix[d_index][w_index]\n",
    "                    s = s + count * self.topic_prob[d_index, w_index, z]\n",
    "                self.topic_word_prob[z][w_index] = s\n",
    "            normalize(self.topic_word_prob[z])\n",
    "        #print(self.topic_word_prob.shape)\n",
    "\n",
    "        # update P(z | d); lamda(coverage)\n",
    "        for d_index in range(len(self.documents)):\n",
    "            for z in range(number_of_topics):\n",
    "                s = 0\n",
    "                for w_index in range(vocabulary_size):\n",
    "                    count = self.term_doc_matrix[d_index][w_index]\n",
    "                    s = s + count * self.topic_prob[d_index, w_index, z]\n",
    "                self.document_topic_prob[d_index][z] = s\n",
    "            normalize(self.document_topic_prob[d_index])\n",
    "        #print(self.document_topic_prob.shape)\n",
    "\n",
    "\n",
    "        if abs(self._loglikelihood() - temp) < 0.0001:\n",
    "            break\n",
    "        else:\n",
    "            temp = self._loglikelihood()\n",
    "            self.listLoglikelihood.append(temp)\n",
    "            word_prob_dist.append(self.topic_word_prob)\n",
    "            topic_prob_dist.append(self.document_topic_prob)\n",
    "\n",
    "    return (self.listLoglikelihood, word_prob_dist, topic_prob_dist)"
   ]
  },
  {
   "cell_type": "code",
   "execution_count": 18,
   "metadata": {},
   "outputs": [
    {
     "name": "stdout",
     "output_type": "stream",
     "text": [
      "EM iteration begins...\n",
      "Initializing...\n",
      "Iteration #1...\n",
      "Iteration #2...\n",
      "Iteration #3...\n",
      "Iteration #4...\n",
      "Iteration #5...\n",
      "Iteration #6...\n",
      "Iteration #7...\n",
      "Iteration #8...\n",
      "Iteration #9...\n",
      "Iteration #10...\n",
      "Iteration #11...\n",
      "Iteration #12...\n",
      "Iteration #13...\n",
      "Iteration #14...\n",
      "Iteration #15...\n",
      "Iteration #16...\n",
      "Iteration #17...\n",
      "Iteration #18...\n",
      "Iteration #19...\n",
      "Iteration #20...\n",
      "Iteration #21...\n",
      "Iteration #22...\n",
      "Iteration #23...\n",
      "Iteration #24...\n"
     ]
    }
   ],
   "source": [
    "result = corpus.plsa(number_of_topics=3, max_iter=100)"
   ]
  },
  {
   "cell_type": "markdown",
   "metadata": {},
   "source": [
    ">Calculating of Log-Likelihood"
   ]
  },
  {
   "cell_type": "code",
   "execution_count": 19,
   "metadata": {
    "collapsed": true
   },
   "outputs": [],
   "source": [
    "def _loglikelihood(self):\n",
    "\n",
    "    log_value = np.log(np.dot(self.document_topic_prob, self.topic_word_prob))\n",
    "    cGivenlamda = self.term_doc_matrix * log_value\n",
    "    sumLoglikelihood = 0\n",
    "    for iter in range(len(self.vocabulary)):\n",
    "        sumLoglikelihood += sum(cGivenlamda)[iter,]\n",
    "\n",
    "    return sumLoglikelihood"
   ]
  },
  {
   "cell_type": "markdown",
   "metadata": {},
   "source": [
    ">Visualization of the value of Log-Likelihood"
   ]
  },
  {
   "cell_type": "code",
   "execution_count": 20,
   "metadata": {
    "collapsed": true
   },
   "outputs": [],
   "source": [
    "def visualization_likelihod(value_list):\n",
    "    \n",
    "    plt.plot(value_list, c=\"b\", lw=2, ls=\"--\", marker=\"o\", ms=5, mec=\"g\", mew=2, mfc=\"r\")\n",
    "    \n",
    "    plt.xlabel('$Iteration$', fontsize=14)\n",
    "    plt.title('Log-Likelihood for Optimization', fontsize=20)\n",
    "    plt.ylabel('$Value$', fontsize=14)\n",
    "    plt.tight_layout()\n",
    "    plt.show()"
   ]
  },
  {
   "cell_type": "code",
   "execution_count": 21,
   "metadata": {},
   "outputs": [
    {
     "data": {
      "image/png": "[encoded data removed]",
      "text/plain": [
       "<matplotlib.figure.Figure at 0x1c238daf898>"
      ]
     },
     "metadata": {},
     "output_type": "display_data"
    }
   ],
   "source": [
    "visualization_likelihod(result[0])"
   ]
  },
  {
   "cell_type": "markdown",
   "metadata": {},
   "source": [
    ">Result of Summary"
   ]
  },
  {
   "cell_type": "code",
   "execution_count": 22,
   "metadata": {},
   "outputs": [
    {
     "name": "stdout",
     "output_type": "stream",
     "text": [
      "(1930, 3)\n"
     ]
    },
    {
     "data": {
      "text/html": [
       "<div>\n",
       "<style>\n",
       "    .dataframe thead tr:only-child th {\n",
       "        text-align: right;\n",
       "    }\n",
       "\n",
       "    .dataframe thead th {\n",
       "        text-align: left;\n",
       "    }\n",
       "\n",
       "    .dataframe tbody tr th {\n",
       "        vertical-align: top;\n",
       "    }\n",
       "</style>\n",
       "<table border=\"1\" class=\"dataframe\">\n",
       "  <thead>\n",
       "    <tr style=\"text-align: right;\">\n",
       "      <th></th>\n",
       "      <th>Topic1</th>\n",
       "      <th>Topic2</th>\n",
       "      <th>Topic3</th>\n",
       "    </tr>\n",
       "  </thead>\n",
       "  <tbody>\n",
       "    <tr>\n",
       "      <th>pursued</th>\n",
       "      <td>3.916862e-70</td>\n",
       "      <td>8.014609e-128</td>\n",
       "      <td>1.301442e-68</td>\n",
       "    </tr>\n",
       "    <tr>\n",
       "      <th>swayed</th>\n",
       "      <td>1.288697e-196</td>\n",
       "      <td>2.299546e-91</td>\n",
       "      <td>7.200265e-68</td>\n",
       "    </tr>\n",
       "    <tr>\n",
       "      <th>employment</th>\n",
       "      <td>1.242305e-91</td>\n",
       "      <td>4.243206e-130</td>\n",
       "      <td>1.349714e-67</td>\n",
       "    </tr>\n",
       "    <tr>\n",
       "      <th>friend</th>\n",
       "      <td>1.480998e-68</td>\n",
       "      <td>6.747030e-91</td>\n",
       "      <td>2.396932e-83</td>\n",
       "    </tr>\n",
       "    <tr>\n",
       "      <th>unitedhealthcare is</th>\n",
       "      <td>1.566290e-70</td>\n",
       "      <td>1.248439e-03</td>\n",
       "      <td>1.248439e-03</td>\n",
       "    </tr>\n",
       "    <tr>\n",
       "      <th>building</th>\n",
       "      <td>9.632582e-197</td>\n",
       "      <td>2.547568e-96</td>\n",
       "      <td>1.213727e-69</td>\n",
       "    </tr>\n",
       "    <tr>\n",
       "      <th>deflect</th>\n",
       "      <td>8.739076e-03</td>\n",
       "      <td>1.032657e-196</td>\n",
       "      <td>6.532997e-129</td>\n",
       "    </tr>\n",
       "    <tr>\n",
       "      <th>depends</th>\n",
       "      <td>5.514767e-68</td>\n",
       "      <td>5.549857e-108</td>\n",
       "      <td>1.938838e-128</td>\n",
       "    </tr>\n",
       "    <tr>\n",
       "      <th>longerterm</th>\n",
       "      <td>1.248439e-03</td>\n",
       "      <td>3.915988e-69</td>\n",
       "      <td>8.243440e-128</td>\n",
       "    </tr>\n",
       "    <tr>\n",
       "      <th>torrey</th>\n",
       "      <td>1.248439e-03</td>\n",
       "      <td>8.609882e-197</td>\n",
       "      <td>8.099969e-69</td>\n",
       "    </tr>\n",
       "    <tr>\n",
       "      <th>argue</th>\n",
       "      <td>2.959033e-96</td>\n",
       "      <td>4.576470e-68</td>\n",
       "      <td>7.570349e-69</td>\n",
       "    </tr>\n",
       "    <tr>\n",
       "      <th>520</th>\n",
       "      <td>1.404508e-195</td>\n",
       "      <td>1.760526e-128</td>\n",
       "      <td>5.215133e-69</td>\n",
       "    </tr>\n",
       "    <tr>\n",
       "      <th>back</th>\n",
       "      <td>1.248439e-03</td>\n",
       "      <td>2.654842e-91</td>\n",
       "      <td>1.504168e-83</td>\n",
       "    </tr>\n",
       "    <tr>\n",
       "      <th>50</th>\n",
       "      <td>8.502790e-69</td>\n",
       "      <td>5.655424e-75</td>\n",
       "      <td>3.745318e-03</td>\n",
       "    </tr>\n",
       "    <tr>\n",
       "      <th>united</th>\n",
       "      <td>1.248439e-03</td>\n",
       "      <td>2.358684e-69</td>\n",
       "      <td>4.114108e-96</td>\n",
       "    </tr>\n",
       "    <tr>\n",
       "      <th>provision</th>\n",
       "      <td>5.391257e-71</td>\n",
       "      <td>3.745318e-03</td>\n",
       "      <td>1.248439e-03</td>\n",
       "    </tr>\n",
       "    <tr>\n",
       "      <th>bank</th>\n",
       "      <td>1.248439e-03</td>\n",
       "      <td>3.463524e-69</td>\n",
       "      <td>7.891444e-97</td>\n",
       "    </tr>\n",
       "    <tr>\n",
       "      <th>else</th>\n",
       "      <td>1.248439e-03</td>\n",
       "      <td>2.921786e-196</td>\n",
       "      <td>1.981260e-69</td>\n",
       "    </tr>\n",
       "    <tr>\n",
       "      <th>obesity</th>\n",
       "      <td>1.248439e-03</td>\n",
       "      <td>4.785735e-128</td>\n",
       "      <td>3.410183e-72</td>\n",
       "    </tr>\n",
       "    <tr>\n",
       "      <th>apartment</th>\n",
       "      <td>2.029511e-196</td>\n",
       "      <td>1.248439e-03</td>\n",
       "      <td>3.936555e-69</td>\n",
       "    </tr>\n",
       "    <tr>\n",
       "      <th>wellpracticed</th>\n",
       "      <td>7.373360e-69</td>\n",
       "      <td>3.745318e-03</td>\n",
       "      <td>7.367271e-96</td>\n",
       "    </tr>\n",
       "    <tr>\n",
       "      <th>europe</th>\n",
       "      <td>1.451478e-91</td>\n",
       "      <td>2.705919e-128</td>\n",
       "      <td>3.171322e-91</td>\n",
       "    </tr>\n",
       "    <tr>\n",
       "      <th>womans</th>\n",
       "      <td>2.830844e-68</td>\n",
       "      <td>1.248439e-03</td>\n",
       "      <td>1.248439e-03</td>\n",
       "    </tr>\n",
       "    <tr>\n",
       "      <th>brown</th>\n",
       "      <td>1.753363e-69</td>\n",
       "      <td>2.255002e-96</td>\n",
       "      <td>2.496879e-03</td>\n",
       "    </tr>\n",
       "    <tr>\n",
       "      <th>articles</th>\n",
       "      <td>5.255317e-196</td>\n",
       "      <td>1.544072e-196</td>\n",
       "      <td>6.855210e-97</td>\n",
       "    </tr>\n",
       "    <tr>\n",
       "      <th>advocacy</th>\n",
       "      <td>1.248439e-03</td>\n",
       "      <td>9.317675e-92</td>\n",
       "      <td>3.798286e-128</td>\n",
       "    </tr>\n",
       "    <tr>\n",
       "      <th>gained</th>\n",
       "      <td>4.202789e-197</td>\n",
       "      <td>4.800979e-128</td>\n",
       "      <td>1.951217e-69</td>\n",
       "    </tr>\n",
       "    <tr>\n",
       "      <th>america is</th>\n",
       "      <td>1.264021e-74</td>\n",
       "      <td>2.978681e-70</td>\n",
       "      <td>2.986481e-128</td>\n",
       "    </tr>\n",
       "    <tr>\n",
       "      <th>brought</th>\n",
       "      <td>1.668683e-81</td>\n",
       "      <td>1.437534e-68</td>\n",
       "      <td>1.350974e-128</td>\n",
       "    </tr>\n",
       "    <tr>\n",
       "      <th>founded</th>\n",
       "      <td>1.886772e-197</td>\n",
       "      <td>1.339122e-68</td>\n",
       "      <td>3.533334e-130</td>\n",
       "    </tr>\n",
       "    <tr>\n",
       "      <th>...</th>\n",
       "      <td>...</td>\n",
       "      <td>...</td>\n",
       "      <td>...</td>\n",
       "    </tr>\n",
       "    <tr>\n",
       "      <th>losing</th>\n",
       "      <td>6.472492e-04</td>\n",
       "      <td>6.472492e-04</td>\n",
       "      <td>9.727544e-140</td>\n",
       "    </tr>\n",
       "    <tr>\n",
       "      <th>correlation</th>\n",
       "      <td>1.294498e-03</td>\n",
       "      <td>6.330571e-103</td>\n",
       "      <td>2.588997e-03</td>\n",
       "    </tr>\n",
       "    <tr>\n",
       "      <th>0</th>\n",
       "      <td>1.889419e-140</td>\n",
       "      <td>3.658304e-149</td>\n",
       "      <td>1.294498e-03</td>\n",
       "    </tr>\n",
       "    <tr>\n",
       "      <th>outdated</th>\n",
       "      <td>2.199277e-177</td>\n",
       "      <td>2.386005e-177</td>\n",
       "      <td>6.660180e-205</td>\n",
       "    </tr>\n",
       "    <tr>\n",
       "      <th>disease</th>\n",
       "      <td>6.472492e-04</td>\n",
       "      <td>1.294498e-03</td>\n",
       "      <td>6.472492e-04</td>\n",
       "    </tr>\n",
       "    <tr>\n",
       "      <th>senior</th>\n",
       "      <td>1.343526e-103</td>\n",
       "      <td>2.877177e-204</td>\n",
       "      <td>4.175966e-104</td>\n",
       "    </tr>\n",
       "    <tr>\n",
       "      <th>lasting</th>\n",
       "      <td>5.406932e-139</td>\n",
       "      <td>1.294498e-03</td>\n",
       "      <td>6.472492e-04</td>\n",
       "    </tr>\n",
       "    <tr>\n",
       "      <th>academy</th>\n",
       "      <td>3.039005e-104</td>\n",
       "      <td>3.236246e-03</td>\n",
       "      <td>1.294498e-03</td>\n",
       "    </tr>\n",
       "    <tr>\n",
       "      <th>like</th>\n",
       "      <td>5.496056e-140</td>\n",
       "      <td>6.472492e-04</td>\n",
       "      <td>3.607712e-103</td>\n",
       "    </tr>\n",
       "    <tr>\n",
       "      <th>end</th>\n",
       "      <td>6.472492e-04</td>\n",
       "      <td>6.472492e-04</td>\n",
       "      <td>6.472492e-04</td>\n",
       "    </tr>\n",
       "    <tr>\n",
       "      <th>living</th>\n",
       "      <td>6.472492e-04</td>\n",
       "      <td>1.294498e-03</td>\n",
       "      <td>8.560282e-178</td>\n",
       "    </tr>\n",
       "    <tr>\n",
       "      <th>importantly</th>\n",
       "      <td>6.472492e-04</td>\n",
       "      <td>1.941748e-03</td>\n",
       "      <td>1.294498e-03</td>\n",
       "    </tr>\n",
       "    <tr>\n",
       "      <th>problem</th>\n",
       "      <td>6.472492e-04</td>\n",
       "      <td>9.134334e-103</td>\n",
       "      <td>6.472492e-04</td>\n",
       "    </tr>\n",
       "    <tr>\n",
       "      <th>semblance</th>\n",
       "      <td>9.298425e-104</td>\n",
       "      <td>1.025500e-137</td>\n",
       "      <td>6.472492e-04</td>\n",
       "    </tr>\n",
       "    <tr>\n",
       "      <th>immediacy</th>\n",
       "      <td>6.472491e-04</td>\n",
       "      <td>3.919977e-103</td>\n",
       "      <td>3.236246e-03</td>\n",
       "    </tr>\n",
       "    <tr>\n",
       "      <th>awoke</th>\n",
       "      <td>6.472492e-04</td>\n",
       "      <td>6.472492e-04</td>\n",
       "      <td>2.610230e-140</td>\n",
       "    </tr>\n",
       "    <tr>\n",
       "      <th>addiction</th>\n",
       "      <td>1.294498e-03</td>\n",
       "      <td>5.500451e-139</td>\n",
       "      <td>6.118084e-178</td>\n",
       "    </tr>\n",
       "    <tr>\n",
       "      <th>occurred</th>\n",
       "      <td>6.472492e-04</td>\n",
       "      <td>1.407283e-204</td>\n",
       "      <td>6.472492e-04</td>\n",
       "    </tr>\n",
       "    <tr>\n",
       "      <th>are not</th>\n",
       "      <td>8.654703e-103</td>\n",
       "      <td>6.472492e-04</td>\n",
       "      <td>2.156250e-138</td>\n",
       "    </tr>\n",
       "    <tr>\n",
       "      <th>approach</th>\n",
       "      <td>1.465268e-100</td>\n",
       "      <td>6.472491e-04</td>\n",
       "      <td>1.815967e-138</td>\n",
       "    </tr>\n",
       "    <tr>\n",
       "      <th>extremely</th>\n",
       "      <td>8.327256e-109</td>\n",
       "      <td>4.873924e-205</td>\n",
       "      <td>6.472492e-04</td>\n",
       "    </tr>\n",
       "    <tr>\n",
       "      <th>illicit</th>\n",
       "      <td>3.031269e-103</td>\n",
       "      <td>6.472492e-04</td>\n",
       "      <td>6.472492e-04</td>\n",
       "    </tr>\n",
       "    <tr>\n",
       "      <th>psychosis</th>\n",
       "      <td>2.960090e-103</td>\n",
       "      <td>1.020806e-149</td>\n",
       "      <td>5.825242e-03</td>\n",
       "    </tr>\n",
       "    <tr>\n",
       "      <th>still</th>\n",
       "      <td>6.472488e-04</td>\n",
       "      <td>1.294498e-03</td>\n",
       "      <td>1.843805e-149</td>\n",
       "    </tr>\n",
       "    <tr>\n",
       "      <th>diseases</th>\n",
       "      <td>5.821297e-138</td>\n",
       "      <td>6.472492e-04</td>\n",
       "      <td>1.063990e-137</td>\n",
       "    </tr>\n",
       "    <tr>\n",
       "      <th>jail</th>\n",
       "      <td>7.565107e-102</td>\n",
       "      <td>7.175419e-105</td>\n",
       "      <td>6.472492e-04</td>\n",
       "    </tr>\n",
       "    <tr>\n",
       "      <th>risk</th>\n",
       "      <td>1.097886e-137</td>\n",
       "      <td>8.842306e-105</td>\n",
       "      <td>1.826350e-138</td>\n",
       "    </tr>\n",
       "    <tr>\n",
       "      <th>white</th>\n",
       "      <td>1.415154e-178</td>\n",
       "      <td>3.883495e-03</td>\n",
       "      <td>6.472490e-04</td>\n",
       "    </tr>\n",
       "    <tr>\n",
       "      <th>far</th>\n",
       "      <td>2.588996e-03</td>\n",
       "      <td>6.472490e-04</td>\n",
       "      <td>6.472492e-04</td>\n",
       "    </tr>\n",
       "    <tr>\n",
       "      <th>sharply</th>\n",
       "      <td>1.613239e-177</td>\n",
       "      <td>6.472488e-04</td>\n",
       "      <td>6.472492e-04</td>\n",
       "    </tr>\n",
       "  </tbody>\n",
       "</table>\n",
       "<p>1930 rows × 3 columns</p>\n",
       "</div>"
      ],
      "text/plain": [
       "                            Topic1         Topic2         Topic3\n",
       "pursued               3.916862e-70  8.014609e-128   1.301442e-68\n",
       "swayed               1.288697e-196   2.299546e-91   7.200265e-68\n",
       "employment            1.242305e-91  4.243206e-130   1.349714e-67\n",
       "friend                1.480998e-68   6.747030e-91   2.396932e-83\n",
       "unitedhealthcare is   1.566290e-70   1.248439e-03   1.248439e-03\n",
       "building             9.632582e-197   2.547568e-96   1.213727e-69\n",
       "deflect               8.739076e-03  1.032657e-196  6.532997e-129\n",
       "depends               5.514767e-68  5.549857e-108  1.938838e-128\n",
       "longerterm            1.248439e-03   3.915988e-69  8.243440e-128\n",
       "torrey                1.248439e-03  8.609882e-197   8.099969e-69\n",
       "argue                 2.959033e-96   4.576470e-68   7.570349e-69\n",
       "520                  1.404508e-195  1.760526e-128   5.215133e-69\n",
       "back                  1.248439e-03   2.654842e-91   1.504168e-83\n",
       "50                    8.502790e-69   5.655424e-75   3.745318e-03\n",
       "united                1.248439e-03   2.358684e-69   4.114108e-96\n",
       "provision             5.391257e-71   3.745318e-03   1.248439e-03\n",
       "bank                  1.248439e-03   3.463524e-69   7.891444e-97\n",
       "else                  1.248439e-03  2.921786e-196   1.981260e-69\n",
       "obesity               1.248439e-03  4.785735e-128   3.410183e-72\n",
       "apartment            2.029511e-196   1.248439e-03   3.936555e-69\n",
       "wellpracticed         7.373360e-69   3.745318e-03   7.367271e-96\n",
       "europe                1.451478e-91  2.705919e-128   3.171322e-91\n",
       "womans                2.830844e-68   1.248439e-03   1.248439e-03\n",
       "brown                 1.753363e-69   2.255002e-96   2.496879e-03\n",
       "articles             5.255317e-196  1.544072e-196   6.855210e-97\n",
       "advocacy              1.248439e-03   9.317675e-92  3.798286e-128\n",
       "gained               4.202789e-197  4.800979e-128   1.951217e-69\n",
       "america is            1.264021e-74   2.978681e-70  2.986481e-128\n",
       "brought               1.668683e-81   1.437534e-68  1.350974e-128\n",
       "founded              1.886772e-197   1.339122e-68  3.533334e-130\n",
       "...                            ...            ...            ...\n",
       "losing                6.472492e-04   6.472492e-04  9.727544e-140\n",
       "correlation           1.294498e-03  6.330571e-103   2.588997e-03\n",
       "0                    1.889419e-140  3.658304e-149   1.294498e-03\n",
       "outdated             2.199277e-177  2.386005e-177  6.660180e-205\n",
       "disease               6.472492e-04   1.294498e-03   6.472492e-04\n",
       "senior               1.343526e-103  2.877177e-204  4.175966e-104\n",
       "lasting              5.406932e-139   1.294498e-03   6.472492e-04\n",
       "academy              3.039005e-104   3.236246e-03   1.294498e-03\n",
       "like                 5.496056e-140   6.472492e-04  3.607712e-103\n",
       "end                   6.472492e-04   6.472492e-04   6.472492e-04\n",
       "living                6.472492e-04   1.294498e-03  8.560282e-178\n",
       "importantly           6.472492e-04   1.941748e-03   1.294498e-03\n",
       "problem               6.472492e-04  9.134334e-103   6.472492e-04\n",
       "semblance            9.298425e-104  1.025500e-137   6.472492e-04\n",
       "immediacy             6.472491e-04  3.919977e-103   3.236246e-03\n",
       "awoke                 6.472492e-04   6.472492e-04  2.610230e-140\n",
       "addiction             1.294498e-03  5.500451e-139  6.118084e-178\n",
       "occurred              6.472492e-04  1.407283e-204   6.472492e-04\n",
       "are not              8.654703e-103   6.472492e-04  2.156250e-138\n",
       "approach             1.465268e-100   6.472491e-04  1.815967e-138\n",
       "extremely            8.327256e-109  4.873924e-205   6.472492e-04\n",
       "illicit              3.031269e-103   6.472492e-04   6.472492e-04\n",
       "psychosis            2.960090e-103  1.020806e-149   5.825242e-03\n",
       "still                 6.472488e-04   1.294498e-03  1.843805e-149\n",
       "diseases             5.821297e-138   6.472492e-04  1.063990e-137\n",
       "jail                 7.565107e-102  7.175419e-105   6.472492e-04\n",
       "risk                 1.097886e-137  8.842306e-105  1.826350e-138\n",
       "white                1.415154e-178   3.883495e-03   6.472490e-04\n",
       "far                   2.588996e-03   6.472490e-04   6.472492e-04\n",
       "sharply              1.613239e-177   6.472488e-04   6.472492e-04\n",
       "\n",
       "[1930 rows x 3 columns]"
      ]
     },
     "execution_count": 22,
     "metadata": {},
     "output_type": "execute_result"
    }
   ],
   "source": [
    "word_topic = DataFrame(result[1][0].reshape([1930,3]))\n",
    "word_topic.index = corpus.build_vocabulary()\n",
    "word_topic.columns = ['Topic1', 'Topic2', 'Topic3']\n",
    "\n",
    "print(word_topic.shape)\n",
    "word_topic"
   ]
  },
  {
   "cell_type": "code",
   "execution_count": 23,
   "metadata": {},
   "outputs": [
    {
     "data": {
      "text/plain": [
       "Topic1    1.028039\n",
       "Topic2    0.957011\n",
       "Topic3    1.014950\n",
       "dtype: float64"
      ]
     },
     "execution_count": 23,
     "metadata": {},
     "output_type": "execute_result"
    }
   ],
   "source": [
    "np.sum(word_topic, axis=0)"
   ]
  },
  {
   "cell_type": "code",
   "execution_count": 24,
   "metadata": {},
   "outputs": [
    {
     "name": "stdout",
     "output_type": "stream",
     "text": [
      "(3, 10)\n"
     ]
    },
    {
     "data": {
      "text/html": [
       "<div>\n",
       "<style>\n",
       "    .dataframe thead tr:only-child th {\n",
       "        text-align: right;\n",
       "    }\n",
       "\n",
       "    .dataframe thead th {\n",
       "        text-align: left;\n",
       "    }\n",
       "\n",
       "    .dataframe tbody tr th {\n",
       "        vertical-align: top;\n",
       "    }\n",
       "</style>\n",
       "<table border=\"1\" class=\"dataframe\">\n",
       "  <thead>\n",
       "    <tr style=\"text-align: right;\">\n",
       "      <th></th>\n",
       "      <th>Doucment1</th>\n",
       "      <th>Document2</th>\n",
       "      <th>Document3</th>\n",
       "      <th>Document4</th>\n",
       "      <th>Document5</th>\n",
       "      <th>Document6</th>\n",
       "      <th>Document7</th>\n",
       "      <th>Document8</th>\n",
       "      <th>Document9</th>\n",
       "      <th>Document10</th>\n",
       "    </tr>\n",
       "  </thead>\n",
       "  <tbody>\n",
       "    <tr>\n",
       "      <th>Topic1</th>\n",
       "      <td>1.306839e-07</td>\n",
       "      <td>8.902960e-10</td>\n",
       "      <td>9.999999e-01</td>\n",
       "      <td>3.115586e-10</td>\n",
       "      <td>2.437751e-11</td>\n",
       "      <td>1.000000e+00</td>\n",
       "      <td>1.000000e+00</td>\n",
       "      <td>4.590987e-19</td>\n",
       "      <td>3.034947e-19</td>\n",
       "      <td>1.000000e+00</td>\n",
       "    </tr>\n",
       "    <tr>\n",
       "      <th>Topic2</th>\n",
       "      <td>7.573748e-15</td>\n",
       "      <td>3.624325e-15</td>\n",
       "      <td>1.295509e-10</td>\n",
       "      <td>1.000000e+00</td>\n",
       "      <td>3.708817e-12</td>\n",
       "      <td>1.923875e-10</td>\n",
       "      <td>4.423277e-13</td>\n",
       "      <td>1.000000e+00</td>\n",
       "      <td>5.947763e-18</td>\n",
       "      <td>1.000000e+00</td>\n",
       "    </tr>\n",
       "    <tr>\n",
       "      <th>Topic3</th>\n",
       "      <td>3.880155e-12</td>\n",
       "      <td>2.341895e-09</td>\n",
       "      <td>9.209882e-08</td>\n",
       "      <td>9.999999e-01</td>\n",
       "      <td>6.064544e-13</td>\n",
       "      <td>1.000000e+00</td>\n",
       "      <td>7.439244e-12</td>\n",
       "      <td>1.000000e+00</td>\n",
       "      <td>3.456818e-15</td>\n",
       "      <td>6.972458e-15</td>\n",
       "    </tr>\n",
       "  </tbody>\n",
       "</table>\n",
       "</div>"
      ],
      "text/plain": [
       "           Doucment1     Document2     Document3     Document4     Document5  \\\n",
       "Topic1  1.306839e-07  8.902960e-10  9.999999e-01  3.115586e-10  2.437751e-11   \n",
       "Topic2  7.573748e-15  3.624325e-15  1.295509e-10  1.000000e+00  3.708817e-12   \n",
       "Topic3  3.880155e-12  2.341895e-09  9.209882e-08  9.999999e-01  6.064544e-13   \n",
       "\n",
       "           Document6     Document7     Document8     Document9    Document10  \n",
       "Topic1  1.000000e+00  1.000000e+00  4.590987e-19  3.034947e-19  1.000000e+00  \n",
       "Topic2  1.923875e-10  4.423277e-13  1.000000e+00  5.947763e-18  1.000000e+00  \n",
       "Topic3  1.000000e+00  7.439244e-12  1.000000e+00  3.456818e-15  6.972458e-15  "
      ]
     },
     "execution_count": 24,
     "metadata": {},
     "output_type": "execute_result"
    }
   ],
   "source": [
    "topic_doc = DataFrame(result[2][0].reshape(3,10))\n",
    "topic_doc.index = ['Topic1', 'Topic2', 'Topic3']\n",
    "topic_doc.columns = ['Doucment1','Document2', 'Document3',\n",
    "                   'Document4','Document5', 'Document6',\n",
    "                   'Document7','Document8', 'Document9', 'Document10']\n",
    "\n",
    "print(topic_doc.shape)\n",
    "topic_doc"
   ]
  },
  {
   "cell_type": "code",
   "execution_count": 25,
   "metadata": {},
   "outputs": [
    {
     "data": {
      "text/plain": [
       "Doucment1     1.306878e-07\n",
       "Document2     3.232195e-09\n",
       "Document3     1.000000e+00\n",
       "Document4     2.000000e+00\n",
       "Document5     2.869278e-11\n",
       "Document6     2.000000e+00\n",
       "Document7     1.000000e+00\n",
       "Document8     2.000000e+00\n",
       "Document9     3.463069e-15\n",
       "Document10    2.000000e+00\n",
       "dtype: float64"
      ]
     },
     "execution_count": 25,
     "metadata": {},
     "output_type": "execute_result"
    }
   ],
   "source": [
    "np.sum(topic_doc, axis=0)"
   ]
  },
  {
   "cell_type": "code",
   "execution_count": 26,
   "metadata": {},
   "outputs": [
    {
     "name": "stdout",
     "output_type": "stream",
     "text": [
      "1930\n"
     ]
    }
   ],
   "source": [
    "print(len(result[1][0][0]))"
   ]
  },
  {
   "cell_type": "code",
   "execution_count": 27,
   "metadata": {
    "collapsed": true
   },
   "outputs": [],
   "source": [
    "word_data ={\n",
    "    '0.Word':[corpus.build_vocabulary()[0],corpus.build_vocabulary()[1],corpus.build_vocabulary()[2],'Log-Likelihood'],\n",
    "    '01.Iteration_P(w|topic1)': [result[1][0][0][0],result[1][0][0][1],result[1][0][0][2],result[0][1]],\n",
    "    '02.Iteration_P(w|topic1)': [result[1][1][0][0],result[1][1][0][1],result[1][1][0][2],result[0][2]],\n",
    "    '03.Iteration_P(w|topic1)': [result[1][2][0][0],result[1][2][0][1],result[1][2][0][2],result[0][3]],\n",
    "    '10.Iteration.....': ['-','-','-','-'],\n",
    "    '25.Iteration_P(w|topic1)': [result[1][-3][0][0],result[1][-3][0][1],result[1][-3][0][2],result[0][-3]],\n",
    "    '26.Iteration_P(w|topic1)': [result[1][-2][0][0],result[1][-2][0][1],result[1][-2][0][2],result[0][-2]],\n",
    "    '27.Iteration_P(w|topic1)': [result[1][-1][0][0],result[1][-1][0][1],result[1][-1][0][2],result[0][-1]],\n",
    "    }"
   ]
  },
  {
   "cell_type": "code",
   "execution_count": 28,
   "metadata": {},
   "outputs": [
    {
     "data": {
      "text/html": [
       "<div>\n",
       "<style>\n",
       "    .dataframe thead tr:only-child th {\n",
       "        text-align: right;\n",
       "    }\n",
       "\n",
       "    .dataframe thead th {\n",
       "        text-align: left;\n",
       "    }\n",
       "\n",
       "    .dataframe tbody tr th {\n",
       "        vertical-align: top;\n",
       "    }\n",
       "</style>\n",
       "<table border=\"1\" class=\"dataframe\">\n",
       "  <thead>\n",
       "    <tr style=\"text-align: right;\">\n",
       "      <th></th>\n",
       "      <th>0.Word</th>\n",
       "      <th>01.Iteration_P(w|topic1)</th>\n",
       "      <th>02.Iteration_P(w|topic1)</th>\n",
       "      <th>03.Iteration_P(w|topic1)</th>\n",
       "      <th>10.Iteration.....</th>\n",
       "      <th>25.Iteration_P(w|topic1)</th>\n",
       "      <th>26.Iteration_P(w|topic1)</th>\n",
       "      <th>27.Iteration_P(w|topic1)</th>\n",
       "    </tr>\n",
       "  </thead>\n",
       "  <tbody>\n",
       "    <tr>\n",
       "      <th>0</th>\n",
       "      <td>pursued</td>\n",
       "      <td>3.916862e-70</td>\n",
       "      <td>3.916862e-70</td>\n",
       "      <td>3.916862e-70</td>\n",
       "      <td>-</td>\n",
       "      <td>3.916862e-70</td>\n",
       "      <td>3.916862e-70</td>\n",
       "      <td>3.916862e-70</td>\n",
       "    </tr>\n",
       "    <tr>\n",
       "      <th>1</th>\n",
       "      <td>swayed</td>\n",
       "      <td>8.014609e-128</td>\n",
       "      <td>8.014609e-128</td>\n",
       "      <td>8.014609e-128</td>\n",
       "      <td>-</td>\n",
       "      <td>8.014609e-128</td>\n",
       "      <td>8.014609e-128</td>\n",
       "      <td>8.014609e-128</td>\n",
       "    </tr>\n",
       "    <tr>\n",
       "      <th>2</th>\n",
       "      <td>employment</td>\n",
       "      <td>1.301442e-68</td>\n",
       "      <td>1.301442e-68</td>\n",
       "      <td>1.301442e-68</td>\n",
       "      <td>-</td>\n",
       "      <td>1.301442e-68</td>\n",
       "      <td>1.301442e-68</td>\n",
       "      <td>1.301442e-68</td>\n",
       "    </tr>\n",
       "    <tr>\n",
       "      <th>3</th>\n",
       "      <td>Log-Likelihood</td>\n",
       "      <td>-2.664017e+04</td>\n",
       "      <td>-2.613215e+04</td>\n",
       "      <td>-2.564053e+04</td>\n",
       "      <td>-</td>\n",
       "      <td>-2.452203e+04</td>\n",
       "      <td>-2.452203e+04</td>\n",
       "      <td>-2.452203e+04</td>\n",
       "    </tr>\n",
       "  </tbody>\n",
       "</table>\n",
       "</div>"
      ],
      "text/plain": [
       "           0.Word  01.Iteration_P(w|topic1)  02.Iteration_P(w|topic1)  \\\n",
       "0         pursued              3.916862e-70              3.916862e-70   \n",
       "1          swayed             8.014609e-128             8.014609e-128   \n",
       "2      employment              1.301442e-68              1.301442e-68   \n",
       "3  Log-Likelihood             -2.664017e+04             -2.613215e+04   \n",
       "\n",
       "   03.Iteration_P(w|topic1) 10.Iteration.....  25.Iteration_P(w|topic1)  \\\n",
       "0              3.916862e-70                 -              3.916862e-70   \n",
       "1             8.014609e-128                 -             8.014609e-128   \n",
       "2              1.301442e-68                 -              1.301442e-68   \n",
       "3             -2.564053e+04                 -             -2.452203e+04   \n",
       "\n",
       "   26.Iteration_P(w|topic1)  27.Iteration_P(w|topic1)  \n",
       "0              3.916862e-70              3.916862e-70  \n",
       "1             8.014609e-128             8.014609e-128  \n",
       "2              1.301442e-68              1.301442e-68  \n",
       "3             -2.452203e+04             -2.452203e+04  "
      ]
     },
     "execution_count": 28,
     "metadata": {},
     "output_type": "execute_result"
    }
   ],
   "source": [
    "result2_data = DataFrame(word_data)\n",
    "result2_data"
   ]
  },
  {
   "cell_type": "markdown",
   "metadata": {},
   "source": [
    "## Limits & Futher"
   ]
  },
  {
   "cell_type": "markdown",
   "metadata": {},
   "source": [
    "- We could not think about the background.\n",
    "\n",
    "- There is an error in preprocessing. (apostrophe: The string was not splited.)\n",
    "\n",
    "- Constraint about pi ($P(z|d)$) NOT satisfied "
   ]
  },
  {
   "cell_type": "markdown",
   "metadata": {},
   "source": [
    "## Reference"
   ]
  },
  {
   "cell_type": "markdown",
   "metadata": {},
   "source": [
    "*For more information, please refer to the following references and soft copy.*"
   ]
  },
  {
   "cell_type": "markdown",
   "metadata": {},
   "source": [
    ">reference[[1]] [site1] PLSA in github\n",
    "[site1]: https://github.com/hitalex/PLSA"
   ]
  },
  {
   "cell_type": "markdown",
   "metadata": {},
   "source": [
    ">reference[[2]] [site2] Understanding for PLSA (blog)\n",
    "[site2]: https://ratsgo.github.io/from%20frequency%20to%20semantics/2017/05/25/plsa/"
   ]
  },
  {
   "cell_type": "markdown",
   "metadata": {},
   "source": [
    "*- End of Document -* "
   ]
  },
  {
   "cell_type": "markdown",
   "metadata": {},
   "source": [
    "-------------------------------"
   ]
  },
  {
   "cell_type": "markdown",
   "metadata": {},
   "source": [
    "## Overall code (included class of Python)"
   ]
  },
  {
   "cell_type": "markdown",
   "metadata": {},
   "source": [
    "### TextminingPlsa.py"
   ]
  },
  {
   "cell_type": "code",
   "execution_count": 29,
   "metadata": {
    "collapsed": true
   },
   "outputs": [],
   "source": [
    "import re\n",
    "import sys\n",
    "import numpy as np\n",
    "\n",
    "from string import punctuation\n",
    "from utils import normalize\n",
    "from stopwords import stopwords\n",
    "from replacer import RegexpReplacer\n",
    "\n",
    "\"\"\"\n",
    "Author: \n",
    "Chris Cha (https://github.com/ryan-chris)\n",
    "Reference:\n",
    "https://github.com/hitalex\n",
    "\"\"\"\n",
    "\n",
    "\n",
    "def progressBar(value, endvalue, bar_length=20):\n",
    "    percent = float(value) / endvalue\n",
    "    arrow = '-' * int(round(percent * bar_length) - 1) + '>'\n",
    "    spaces = ' ' * (bar_length - len(arrow))\n",
    "\n",
    "    sys.stdout.write(\"\\rPercent: [{0}] {1}%\".format(arrow + spaces, int(round(percent * 100))))\n",
    "    sys.stdout.flush()\n",
    "\n",
    "class PreprocessingCorpus(object):\n",
    "\n",
    "    def __init__(self, filepath):\n",
    "        self.filepath = filepath\n",
    "        self.lines = []\n",
    "        self.words = []\n",
    "\n",
    "    def create_corpus(self):\n",
    "        '''\n",
    "        Create a corpus from document.\n",
    "        '''\n",
    "        symbols = punctuation.replace('\\'', '')\n",
    "        self.file = open(self.filepath)\n",
    "        try:\n",
    "            #self.lines = [line for line in self.file]\n",
    "            content = self.file.read().strip()\n",
    "            for symbol in symbols:\n",
    "                content = content.replace(symbol, '')\n",
    "            self.words = self.words + content.split()\n",
    "\n",
    "        finally:\n",
    "            self.file.close()\n",
    "\n",
    "        return self.words\n",
    "    \"\"\"\n",
    "    def create_corpus(self):\n",
    "\n",
    "        # When it reads files, removes all special symbols, including punctuation marks.\n",
    "        symbols = punctuation.replace('\\'', '')\n",
    "\n",
    "        for filename in self.filepath:\n",
    "            with open(filename) as file:\n",
    "                content = file.read().strip()\n",
    "                for symbol in symbols:\n",
    "                    content = content.replace(symbol, '')\n",
    "                self.words = self.words + content.split()\n",
    "\n",
    "        return self.words\n",
    "    \"\"\"\n",
    "\n",
    "    def lower_text(self):\n",
    "        \"\"\"\n",
    "        Converts the text of all imported files to lowercase.\n",
    "        \"\"\"\n",
    "        self.lower_corpus_list = []\n",
    "\n",
    "        for char in self.unset_apostrophe_list:\n",
    "            lower_character = char.lower()\n",
    "            self.lower_corpus_list.append(lower_character)\n",
    "\n",
    "        return self.lower_corpus_list\n",
    "\n",
    "    def unset_apostrophe(self):\n",
    "        \"\"\"\n",
    "        This function needs to import RegexpReplacer.\n",
    "        \"\"\"\n",
    "        replacer = RegexpReplacer()\n",
    "\n",
    "        self.unset_apostrophe_list = []\n",
    "\n",
    "        for element in self.words:\n",
    "            temp_elem = replacer.replace(element)\n",
    "            self.unset_apostrophe_list.append(temp_elem.replace('\\'', ''))\n",
    "\n",
    "        return self.unset_apostrophe_list\n",
    "\n",
    "    def remove_stopword(self):\n",
    "        \"\"\"\n",
    "        This function needs to import stopwords.\n",
    "        Stopwords can be added or removed.\n",
    "        \"\"\"\n",
    "        self.final_list = self.lower_corpus_list.copy()\n",
    "\n",
    "        for word in self.lower_corpus_list:\n",
    "            if word in stopwords:\n",
    "                self.final_list.remove(word)\n",
    "\n",
    "        return self.final_list\n",
    "\n",
    "class Corpus(object):\n",
    "    '''\n",
    "    A collection of documents.\n",
    "    '''\n",
    "\n",
    "    def __init__(self):\n",
    "        '''\n",
    "        Initialize empty document list.\n",
    "        '''\n",
    "        self.documents = []\n",
    "        self.listLoglikelihood=[]\n",
    "\n",
    "    def add_document(self, document):\n",
    "        '''\n",
    "        Add a document to the corpus.\n",
    "        '''\n",
    "        self.documents.append(document)\n",
    "\n",
    "    def build_vocabulary(self):\n",
    "        '''\n",
    "        Construct a list of unique words in the corpus.\n",
    "        '''\n",
    "        # ** ADD ** #\n",
    "        # exclude words that appear in 90%+ of the documents\n",
    "        # exclude words that are too (in)frequent\n",
    "        discrete_set = set()\n",
    "        for document in self.documents:\n",
    "            for word in document:\n",
    "                discrete_set.add(word)\n",
    "        self.vocabulary = list(discrete_set)\n",
    "        #print(self.vocabulary)\n",
    "\n",
    "        return self.vocabulary\n",
    "\n",
    "\n",
    "    def plsa(self, number_of_topics, max_iter):\n",
    "\n",
    "        '''\n",
    "        Model topics.\n",
    "        '''\n",
    "        print(\"EM iteration begins...\")\n",
    "        # Get vocabulary and number of documents.\n",
    "        self.build_vocabulary()\n",
    "        number_of_documents = len(self.documents)\n",
    "        vocabulary_size = len(self.vocabulary)\n",
    "\n",
    "        # build term-doc matrix\n",
    "        self.term_doc_matrix = np.zeros([number_of_documents, vocabulary_size], dtype=np.int)\n",
    "        for d_index, doc in enumerate(self.documents):\n",
    "            term_count = np.zeros(vocabulary_size, dtype=np.int)\n",
    "            for word in doc:\n",
    "                if word in self.vocabulary:\n",
    "                    w_index = self.vocabulary.index(word)\n",
    "                    term_count[w_index] += 1\n",
    "            self.term_doc_matrix[d_index] = term_count\n",
    "\n",
    "        # Create the counter arrays.\n",
    "        self.document_topic_prob = np.zeros([number_of_documents, number_of_topics], dtype=np.float)  # P(z | d)\n",
    "        self.topic_word_prob = np.zeros([number_of_topics, len(self.vocabulary)], dtype=np.float)  # P(w | z)\n",
    "        self.topic_prob = np.zeros([number_of_documents, len(self.vocabulary), number_of_topics], dtype=np.float)  # P(z | d, w)\n",
    "\n",
    "        # Initialize\n",
    "        print(\"Initializing...\")\n",
    "        # randomly assign values\n",
    "        self.document_topic_prob = np.random.random(size=(number_of_documents, number_of_topics))\n",
    "        for d_index in range(len(self.documents)):\n",
    "            normalize(self.document_topic_prob[d_index])  # normalize for each document\n",
    "        self.topic_word_prob = np.random.random(size=(number_of_topics, len(self.vocabulary)))\n",
    "        for z in range(number_of_topics):\n",
    "            normalize(self.topic_word_prob[z])  # normalize for each topic\n",
    "\n",
    "        # Run the EM algorithm\n",
    "        temp = 0\n",
    "        word_prob_dist= []\n",
    "        topic_prob_dist = []\n",
    "        for iteration in range(max_iter):\n",
    "            print(\"Iteration #\" + str(iteration + 1) + \"...\")\n",
    "            #print(\"===E step===\")\n",
    "            for d_index, document in enumerate(self.documents):\n",
    "                for w_index in range(vocabulary_size):\n",
    "                    prob = self.document_topic_prob[d_index, :] * self.topic_word_prob[:, w_index]\n",
    "                    if sum(prob) == 0.0:\n",
    "                        print(\"d_index = \" + str(d_index) + \",  w_index = \" + str(w_index))\n",
    "                        print(\"self.document_topic_prob[d_index, :] = \" + str(self.document_topic_prob[d_index, :]))\n",
    "                        print(\"self.topic_word_prob[:, w_index] = \" + str(self.topic_word_prob[:, w_index]))\n",
    "                        print(\"topic_prob[d_index][w_index] = \" + str(prob))\n",
    "                        exit(0)\n",
    "                    else:\n",
    "                        normalize(prob)\n",
    "                    self.topic_prob[d_index][w_index] = prob\n",
    "            #print(self.topic_prob.shape)\n",
    "\n",
    "            #print(\"===M step===\")\n",
    "            # update P(w | z); word-distribution\n",
    "            for z in range(number_of_topics):\n",
    "                for w_index in range(vocabulary_size):\n",
    "                    s = 0\n",
    "                    for d_index in range(len(self.documents)):\n",
    "                        count = self.term_doc_matrix[d_index][w_index]\n",
    "                        s = s + count * self.topic_prob[d_index, w_index, z]\n",
    "                    self.topic_word_prob[z][w_index] = s\n",
    "                normalize(self.topic_word_prob[z])\n",
    "            #print(self.topic_word_prob.shape)\n",
    "\n",
    "            # update P(z | d); lamda(coverage)\n",
    "            for d_index in range(len(self.documents)):\n",
    "                for z in range(number_of_topics):\n",
    "                    s = 0\n",
    "                    for w_index in range(vocabulary_size):\n",
    "                        count = self.term_doc_matrix[d_index][w_index]\n",
    "                        s = s + count * self.topic_prob[d_index, w_index, z]\n",
    "                    self.document_topic_prob[d_index][z] = s\n",
    "                normalize(self.document_topic_prob[d_index])\n",
    "            #print(self.document_topic_prob.shape)\n",
    "\n",
    "\n",
    "            if abs(self._loglikelihood() - temp) < 0.0001:\n",
    "                break\n",
    "            else:\n",
    "                temp = self._loglikelihood()\n",
    "                self.listLoglikelihood.append(temp)\n",
    "                word_prob_dist.append(self.topic_word_prob)\n",
    "                topic_prob_dist.append(self.document_topic_prob)\n",
    "\n",
    "        return (self.listLoglikelihood, word_prob_dist, topic_prob_dist)\n",
    "\n",
    "\n",
    "    def _loglikelihood(self):\n",
    "\n",
    "        log_value = np.log(np.dot(self.document_topic_prob, self.topic_word_prob))\n",
    "        cGivenlamda = self.term_doc_matrix * log_value\n",
    "        sumLoglikelihood = 0\n",
    "        for iter in range(len(self.vocabulary)):\n",
    "            sumLoglikelihood += sum(cGivenlamda)[iter,]\n",
    "\n",
    "        return sumLoglikelihood"
   ]
  },
  {
   "cell_type": "markdown",
   "metadata": {},
   "source": [
    "### main_chris.py"
   ]
  },
  {
   "cell_type": "code",
   "execution_count": 30,
   "metadata": {
    "collapsed": true
   },
   "outputs": [],
   "source": [
    "# External API\n",
    "import os\n",
    "import sys\n",
    "import glob\n",
    "import matplotlib.pyplot as plt\n",
    "\n",
    "# Part of External API\n",
    "from operator import itemgetter\n",
    "from pandas import Series, DataFrame\n",
    "\n",
    "# Own code API\n",
    "import TextminingPlsa\n",
    "\n",
    "def visualization_likelihod(value_list):\n",
    "    plt.plot(value_list)\n",
    "    plt.show()\n",
    "\n",
    "def main():\n",
    "\n",
    "    corpus = TextminingPlsa.Corpus()  # instantiate corpus\n",
    "    document_paths = ['./test/']\n",
    "\n",
    "\n",
    "    for document_path in document_paths:\n",
    "        for document_file in glob.glob(os.path.join(document_path, '*.txt')):\n",
    "            #print(document_file)\n",
    "            document = TextminingPlsa.PreprocessingCorpus(document_file)  # instantiate document\n",
    "            document.create_corpus()\n",
    "            document.unset_apostrophe()\n",
    "            document.lower_text()\n",
    "            predoc = document.remove_stopword()\n",
    "            corpus.add_document(predoc)  # push onto corpus documents list\n",
    "\n",
    "    corpus.build_vocabulary()\n",
    "\n",
    "    result = corpus.plsa(number_of_topics=5, max_iter=100)\n",
    "    print(result)\n",
    "\n",
    "    visualization_likelihod(result[0])\n",
    "\n",
    "    making_data ={\n",
    "        'Word':[corpus.build_vocabulary()[0],corpus.build_vocabulary()[1],corpus.build_vocabulary()[2],'Log-Likelihood'],\n",
    "        'Iteration1_P(w|topic1)': [result[1][0][0][0],result[1][0][0][1],result[1][0][0][2],result[0][1]],\n",
    "        'Iteration2_P(w|topic1)': [result[1][1][0][0],result[1][1][0][1],result[1][1][0][2],result[0][2]],\n",
    "        'Iteration3_P(w|topic1)': [result[1][2][0][0],result[1][2][0][1],result[1][2][0][2],result[0][3]],\n",
    "        'Iteration4_P(w|topic1)': [result[1][-3][0][0],result[1][-3][0][1],result[1][-3][0][2],result[0][-3]],\n",
    "        'Iteration5_P(w|topic1)': [result[1][-2][0][0],result[1][-2][0][1],result[1][-2][0][2],result[0][-2]],\n",
    "        'Iteration6_P(w|topic1)': [result[1][-1][0][0],result[1][-1][0][1],result[1][-1][0][2],result[0][-1]],\n",
    "    }\n",
    "\n",
    "    result_data = DataFrame(making_data)\n",
    "    print(result_data)\n",
    "\n",
    "\n",
    "#if __name__ == \"__main__\":\n",
    "#    main()\n"
   ]
  }
 ],
 "metadata": {
  "kernelspec": {
   "display_name": "Python 3",
   "language": "python",
   "name": "python3"
  },
  "language_info": {
   "codemirror_mode": {
    "name": "ipython",
    "version": 3
   },
   "file_extension": ".py",
   "mimetype": "text/x-python",
   "name": "python",
   "nbconvert_exporter": "python",
   "pygments_lexer": "ipython3",
   "version": "3.6.2"
  }
 },
 "nbformat": 4,
 "nbformat_minor": 2
}
